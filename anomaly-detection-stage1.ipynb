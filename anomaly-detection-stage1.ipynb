{
 "cells": [
  {
   "cell_type": "markdown",
   "metadata": {},
   "source": [
    "# Anomaly Detection - Stage 1"
   ]
  },
  {
   "cell_type": "markdown",
   "metadata": {},
   "source": [
    "### Objective\n",
    "\n",
    "1. Getting data\n",
    "2. Setting up environment\n",
    "3. Create model\n",
    "4. Plot model\n",
    "5. Save/load model"
   ]
  },
  {
   "cell_type": "markdown",
   "metadata": {},
   "source": [
    "## Dataset\n",
    "\n",
    "For this tutorial we will use a dataset from UCI called Mice Protein Expression. The dataset consists of the expression levels of 77 proteins/protein modifications that produced detectable signals in the nuclear fraction of cortex. The dataset contains a total of 1080 measurements per protein. Each measurement can be considered as an independent sample/mouse."
   ]
  },
  {
   "cell_type": "markdown",
   "metadata": {},
   "source": [
    "### 1. Getting the Data"
   ]
  },
  {
   "cell_type": "code",
   "execution_count": 2,
   "metadata": {},
   "outputs": [
    {
     "data": {
      "text/html": [
       "<div>\n",
       "<style scoped>\n",
       "    .dataframe tbody tr th:only-of-type {\n",
       "        vertical-align: middle;\n",
       "    }\n",
       "\n",
       "    .dataframe tbody tr th {\n",
       "        vertical-align: top;\n",
       "    }\n",
       "\n",
       "    .dataframe thead th {\n",
       "        text-align: right;\n",
       "    }\n",
       "</style>\n",
       "<table border=\"1\" class=\"dataframe\">\n",
       "  <thead>\n",
       "    <tr style=\"text-align: right;\">\n",
       "      <th></th>\n",
       "      <th>MouseID</th>\n",
       "      <th>DYRK1A_N</th>\n",
       "      <th>ITSN1_N</th>\n",
       "      <th>BDNF_N</th>\n",
       "      <th>NR1_N</th>\n",
       "      <th>NR2A_N</th>\n",
       "      <th>pAKT_N</th>\n",
       "      <th>pBRAF_N</th>\n",
       "      <th>pCAMKII_N</th>\n",
       "      <th>pCREB_N</th>\n",
       "      <th>...</th>\n",
       "      <th>pCFOS_N</th>\n",
       "      <th>SYP_N</th>\n",
       "      <th>H3AcK18_N</th>\n",
       "      <th>EGR1_N</th>\n",
       "      <th>H3MeK4_N</th>\n",
       "      <th>CaNA_N</th>\n",
       "      <th>Genotype</th>\n",
       "      <th>Treatment</th>\n",
       "      <th>Behavior</th>\n",
       "      <th>class</th>\n",
       "    </tr>\n",
       "  </thead>\n",
       "  <tbody>\n",
       "    <tr>\n",
       "      <th>0</th>\n",
       "      <td>309_1</td>\n",
       "      <td>0.503644</td>\n",
       "      <td>0.747193</td>\n",
       "      <td>0.430175</td>\n",
       "      <td>2.816329</td>\n",
       "      <td>5.990152</td>\n",
       "      <td>0.218830</td>\n",
       "      <td>0.177565</td>\n",
       "      <td>2.373744</td>\n",
       "      <td>0.232224</td>\n",
       "      <td>...</td>\n",
       "      <td>0.108336</td>\n",
       "      <td>0.427099</td>\n",
       "      <td>0.114783</td>\n",
       "      <td>0.131790</td>\n",
       "      <td>0.128186</td>\n",
       "      <td>1.675652</td>\n",
       "      <td>Control</td>\n",
       "      <td>Memantine</td>\n",
       "      <td>C/S</td>\n",
       "      <td>c-CS-m</td>\n",
       "    </tr>\n",
       "    <tr>\n",
       "      <th>1</th>\n",
       "      <td>309_2</td>\n",
       "      <td>0.514617</td>\n",
       "      <td>0.689064</td>\n",
       "      <td>0.411770</td>\n",
       "      <td>2.789514</td>\n",
       "      <td>5.685038</td>\n",
       "      <td>0.211636</td>\n",
       "      <td>0.172817</td>\n",
       "      <td>2.292150</td>\n",
       "      <td>0.226972</td>\n",
       "      <td>...</td>\n",
       "      <td>0.104315</td>\n",
       "      <td>0.441581</td>\n",
       "      <td>0.111974</td>\n",
       "      <td>0.135103</td>\n",
       "      <td>0.131119</td>\n",
       "      <td>1.743610</td>\n",
       "      <td>Control</td>\n",
       "      <td>Memantine</td>\n",
       "      <td>C/S</td>\n",
       "      <td>c-CS-m</td>\n",
       "    </tr>\n",
       "    <tr>\n",
       "      <th>2</th>\n",
       "      <td>309_3</td>\n",
       "      <td>0.509183</td>\n",
       "      <td>0.730247</td>\n",
       "      <td>0.418309</td>\n",
       "      <td>2.687201</td>\n",
       "      <td>5.622059</td>\n",
       "      <td>0.209011</td>\n",
       "      <td>0.175722</td>\n",
       "      <td>2.283337</td>\n",
       "      <td>0.230247</td>\n",
       "      <td>...</td>\n",
       "      <td>0.106219</td>\n",
       "      <td>0.435777</td>\n",
       "      <td>0.111883</td>\n",
       "      <td>0.133362</td>\n",
       "      <td>0.127431</td>\n",
       "      <td>1.926427</td>\n",
       "      <td>Control</td>\n",
       "      <td>Memantine</td>\n",
       "      <td>C/S</td>\n",
       "      <td>c-CS-m</td>\n",
       "    </tr>\n",
       "    <tr>\n",
       "      <th>3</th>\n",
       "      <td>309_4</td>\n",
       "      <td>0.442107</td>\n",
       "      <td>0.617076</td>\n",
       "      <td>0.358626</td>\n",
       "      <td>2.466947</td>\n",
       "      <td>4.979503</td>\n",
       "      <td>0.222886</td>\n",
       "      <td>0.176463</td>\n",
       "      <td>2.152301</td>\n",
       "      <td>0.207004</td>\n",
       "      <td>...</td>\n",
       "      <td>0.111262</td>\n",
       "      <td>0.391691</td>\n",
       "      <td>0.130405</td>\n",
       "      <td>0.147444</td>\n",
       "      <td>0.146901</td>\n",
       "      <td>1.700563</td>\n",
       "      <td>Control</td>\n",
       "      <td>Memantine</td>\n",
       "      <td>C/S</td>\n",
       "      <td>c-CS-m</td>\n",
       "    </tr>\n",
       "    <tr>\n",
       "      <th>4</th>\n",
       "      <td>309_5</td>\n",
       "      <td>0.434940</td>\n",
       "      <td>0.617430</td>\n",
       "      <td>0.358802</td>\n",
       "      <td>2.365785</td>\n",
       "      <td>4.718679</td>\n",
       "      <td>0.213106</td>\n",
       "      <td>0.173627</td>\n",
       "      <td>2.134014</td>\n",
       "      <td>0.192158</td>\n",
       "      <td>...</td>\n",
       "      <td>0.110694</td>\n",
       "      <td>0.434154</td>\n",
       "      <td>0.118481</td>\n",
       "      <td>0.140314</td>\n",
       "      <td>0.148380</td>\n",
       "      <td>1.839730</td>\n",
       "      <td>Control</td>\n",
       "      <td>Memantine</td>\n",
       "      <td>C/S</td>\n",
       "      <td>c-CS-m</td>\n",
       "    </tr>\n",
       "  </tbody>\n",
       "</table>\n",
       "<p>5 rows × 82 columns</p>\n",
       "</div>"
      ],
      "text/plain": [
       "  MouseID  DYRK1A_N   ITSN1_N    BDNF_N     NR1_N    NR2A_N    pAKT_N  \\\n",
       "0   309_1  0.503644  0.747193  0.430175  2.816329  5.990152  0.218830   \n",
       "1   309_2  0.514617  0.689064  0.411770  2.789514  5.685038  0.211636   \n",
       "2   309_3  0.509183  0.730247  0.418309  2.687201  5.622059  0.209011   \n",
       "3   309_4  0.442107  0.617076  0.358626  2.466947  4.979503  0.222886   \n",
       "4   309_5  0.434940  0.617430  0.358802  2.365785  4.718679  0.213106   \n",
       "\n",
       "    pBRAF_N  pCAMKII_N   pCREB_N  ...   pCFOS_N     SYP_N  H3AcK18_N  \\\n",
       "0  0.177565   2.373744  0.232224  ...  0.108336  0.427099   0.114783   \n",
       "1  0.172817   2.292150  0.226972  ...  0.104315  0.441581   0.111974   \n",
       "2  0.175722   2.283337  0.230247  ...  0.106219  0.435777   0.111883   \n",
       "3  0.176463   2.152301  0.207004  ...  0.111262  0.391691   0.130405   \n",
       "4  0.173627   2.134014  0.192158  ...  0.110694  0.434154   0.118481   \n",
       "\n",
       "     EGR1_N  H3MeK4_N    CaNA_N  Genotype  Treatment  Behavior   class  \n",
       "0  0.131790  0.128186  1.675652   Control  Memantine       C/S  c-CS-m  \n",
       "1  0.135103  0.131119  1.743610   Control  Memantine       C/S  c-CS-m  \n",
       "2  0.133362  0.127431  1.926427   Control  Memantine       C/S  c-CS-m  \n",
       "3  0.147444  0.146901  1.700563   Control  Memantine       C/S  c-CS-m  \n",
       "4  0.140314  0.148380  1.839730   Control  Memantine       C/S  c-CS-m  \n",
       "\n",
       "[5 rows x 82 columns]"
      ]
     },
     "metadata": {},
     "output_type": "display_data"
    }
   ],
   "source": [
    "from pycaret.datasets import get_data\n",
    "dataset = get_data('mice')"
   ]
  },
  {
   "cell_type": "code",
   "execution_count": 3,
   "metadata": {},
   "outputs": [
    {
     "data": {
      "text/plain": [
       "(1080, 82)"
      ]
     },
     "execution_count": 3,
     "metadata": {},
     "output_type": "execute_result"
    }
   ],
   "source": [
    "dataset.shape"
   ]
  },
  {
   "cell_type": "code",
   "execution_count": 4,
   "metadata": {},
   "outputs": [
    {
     "data": {
      "text/html": [
       "<div>\n",
       "<style scoped>\n",
       "    .dataframe tbody tr th:only-of-type {\n",
       "        vertical-align: middle;\n",
       "    }\n",
       "\n",
       "    .dataframe tbody tr th {\n",
       "        vertical-align: top;\n",
       "    }\n",
       "\n",
       "    .dataframe thead th {\n",
       "        text-align: right;\n",
       "    }\n",
       "</style>\n",
       "<table border=\"1\" class=\"dataframe\">\n",
       "  <thead>\n",
       "    <tr style=\"text-align: right;\">\n",
       "      <th></th>\n",
       "      <th>DYRK1A_N</th>\n",
       "      <th>ITSN1_N</th>\n",
       "      <th>BDNF_N</th>\n",
       "      <th>NR1_N</th>\n",
       "      <th>NR2A_N</th>\n",
       "      <th>pAKT_N</th>\n",
       "      <th>pBRAF_N</th>\n",
       "      <th>pCAMKII_N</th>\n",
       "      <th>pCREB_N</th>\n",
       "      <th>pELK_N</th>\n",
       "      <th>...</th>\n",
       "      <th>SHH_N</th>\n",
       "      <th>BAD_N</th>\n",
       "      <th>BCL2_N</th>\n",
       "      <th>pS6_N</th>\n",
       "      <th>pCFOS_N</th>\n",
       "      <th>SYP_N</th>\n",
       "      <th>H3AcK18_N</th>\n",
       "      <th>EGR1_N</th>\n",
       "      <th>H3MeK4_N</th>\n",
       "      <th>CaNA_N</th>\n",
       "    </tr>\n",
       "  </thead>\n",
       "  <tbody>\n",
       "    <tr>\n",
       "      <th>count</th>\n",
       "      <td>1077.000000</td>\n",
       "      <td>1077.000000</td>\n",
       "      <td>1077.000000</td>\n",
       "      <td>1077.000000</td>\n",
       "      <td>1077.000000</td>\n",
       "      <td>1077.000000</td>\n",
       "      <td>1077.000000</td>\n",
       "      <td>1077.000000</td>\n",
       "      <td>1077.000000</td>\n",
       "      <td>1077.000000</td>\n",
       "      <td>...</td>\n",
       "      <td>1080.000000</td>\n",
       "      <td>867.000000</td>\n",
       "      <td>795.000000</td>\n",
       "      <td>1080.000000</td>\n",
       "      <td>1005.000000</td>\n",
       "      <td>1080.000000</td>\n",
       "      <td>900.000000</td>\n",
       "      <td>870.000000</td>\n",
       "      <td>810.000000</td>\n",
       "      <td>1080.000000</td>\n",
       "    </tr>\n",
       "    <tr>\n",
       "      <th>mean</th>\n",
       "      <td>0.425810</td>\n",
       "      <td>0.617102</td>\n",
       "      <td>0.319088</td>\n",
       "      <td>2.297269</td>\n",
       "      <td>3.843934</td>\n",
       "      <td>0.233168</td>\n",
       "      <td>0.181846</td>\n",
       "      <td>3.537109</td>\n",
       "      <td>0.212574</td>\n",
       "      <td>1.428682</td>\n",
       "      <td>...</td>\n",
       "      <td>0.226676</td>\n",
       "      <td>0.157914</td>\n",
       "      <td>0.134762</td>\n",
       "      <td>0.121521</td>\n",
       "      <td>0.131053</td>\n",
       "      <td>0.446073</td>\n",
       "      <td>0.169609</td>\n",
       "      <td>0.183135</td>\n",
       "      <td>0.205440</td>\n",
       "      <td>1.337784</td>\n",
       "    </tr>\n",
       "    <tr>\n",
       "      <th>std</th>\n",
       "      <td>0.249362</td>\n",
       "      <td>0.251640</td>\n",
       "      <td>0.049383</td>\n",
       "      <td>0.347293</td>\n",
       "      <td>0.933100</td>\n",
       "      <td>0.041634</td>\n",
       "      <td>0.027042</td>\n",
       "      <td>1.295169</td>\n",
       "      <td>0.032587</td>\n",
       "      <td>0.466904</td>\n",
       "      <td>...</td>\n",
       "      <td>0.028989</td>\n",
       "      <td>0.029537</td>\n",
       "      <td>0.027417</td>\n",
       "      <td>0.014276</td>\n",
       "      <td>0.023863</td>\n",
       "      <td>0.066432</td>\n",
       "      <td>0.059402</td>\n",
       "      <td>0.040406</td>\n",
       "      <td>0.055514</td>\n",
       "      <td>0.317126</td>\n",
       "    </tr>\n",
       "    <tr>\n",
       "      <th>min</th>\n",
       "      <td>0.145327</td>\n",
       "      <td>0.245359</td>\n",
       "      <td>0.115181</td>\n",
       "      <td>1.330831</td>\n",
       "      <td>1.737540</td>\n",
       "      <td>0.063236</td>\n",
       "      <td>0.064043</td>\n",
       "      <td>1.343998</td>\n",
       "      <td>0.112812</td>\n",
       "      <td>0.429032</td>\n",
       "      <td>...</td>\n",
       "      <td>0.155869</td>\n",
       "      <td>0.088305</td>\n",
       "      <td>0.080657</td>\n",
       "      <td>0.067254</td>\n",
       "      <td>0.085419</td>\n",
       "      <td>0.258626</td>\n",
       "      <td>0.079691</td>\n",
       "      <td>0.105537</td>\n",
       "      <td>0.101787</td>\n",
       "      <td>0.586479</td>\n",
       "    </tr>\n",
       "    <tr>\n",
       "      <th>25%</th>\n",
       "      <td>0.288121</td>\n",
       "      <td>0.473361</td>\n",
       "      <td>0.287444</td>\n",
       "      <td>2.057411</td>\n",
       "      <td>3.155678</td>\n",
       "      <td>0.205755</td>\n",
       "      <td>0.164595</td>\n",
       "      <td>2.479834</td>\n",
       "      <td>0.190823</td>\n",
       "      <td>1.203665</td>\n",
       "      <td>...</td>\n",
       "      <td>0.206395</td>\n",
       "      <td>0.136424</td>\n",
       "      <td>0.115554</td>\n",
       "      <td>0.110839</td>\n",
       "      <td>0.113506</td>\n",
       "      <td>0.398082</td>\n",
       "      <td>0.125848</td>\n",
       "      <td>0.155121</td>\n",
       "      <td>0.165143</td>\n",
       "      <td>1.081423</td>\n",
       "    </tr>\n",
       "    <tr>\n",
       "      <th>50%</th>\n",
       "      <td>0.366378</td>\n",
       "      <td>0.565782</td>\n",
       "      <td>0.316564</td>\n",
       "      <td>2.296546</td>\n",
       "      <td>3.760855</td>\n",
       "      <td>0.231177</td>\n",
       "      <td>0.182302</td>\n",
       "      <td>3.326520</td>\n",
       "      <td>0.210594</td>\n",
       "      <td>1.355846</td>\n",
       "      <td>...</td>\n",
       "      <td>0.224000</td>\n",
       "      <td>0.152313</td>\n",
       "      <td>0.129468</td>\n",
       "      <td>0.121626</td>\n",
       "      <td>0.126523</td>\n",
       "      <td>0.448459</td>\n",
       "      <td>0.158240</td>\n",
       "      <td>0.174935</td>\n",
       "      <td>0.193994</td>\n",
       "      <td>1.317441</td>\n",
       "    </tr>\n",
       "    <tr>\n",
       "      <th>75%</th>\n",
       "      <td>0.487711</td>\n",
       "      <td>0.698032</td>\n",
       "      <td>0.348197</td>\n",
       "      <td>2.528481</td>\n",
       "      <td>4.440011</td>\n",
       "      <td>0.257261</td>\n",
       "      <td>0.197418</td>\n",
       "      <td>4.481940</td>\n",
       "      <td>0.234595</td>\n",
       "      <td>1.561316</td>\n",
       "      <td>...</td>\n",
       "      <td>0.241655</td>\n",
       "      <td>0.174017</td>\n",
       "      <td>0.148235</td>\n",
       "      <td>0.131955</td>\n",
       "      <td>0.143652</td>\n",
       "      <td>0.490773</td>\n",
       "      <td>0.197876</td>\n",
       "      <td>0.204542</td>\n",
       "      <td>0.235215</td>\n",
       "      <td>1.585824</td>\n",
       "    </tr>\n",
       "    <tr>\n",
       "      <th>max</th>\n",
       "      <td>2.516367</td>\n",
       "      <td>2.602662</td>\n",
       "      <td>0.497160</td>\n",
       "      <td>3.757641</td>\n",
       "      <td>8.482553</td>\n",
       "      <td>0.539050</td>\n",
       "      <td>0.317066</td>\n",
       "      <td>7.464070</td>\n",
       "      <td>0.306247</td>\n",
       "      <td>6.113347</td>\n",
       "      <td>...</td>\n",
       "      <td>0.358289</td>\n",
       "      <td>0.282016</td>\n",
       "      <td>0.261506</td>\n",
       "      <td>0.158748</td>\n",
       "      <td>0.256529</td>\n",
       "      <td>0.759588</td>\n",
       "      <td>0.479763</td>\n",
       "      <td>0.360692</td>\n",
       "      <td>0.413903</td>\n",
       "      <td>2.129791</td>\n",
       "    </tr>\n",
       "  </tbody>\n",
       "</table>\n",
       "<p>8 rows × 77 columns</p>\n",
       "</div>"
      ],
      "text/plain": [
       "          DYRK1A_N      ITSN1_N       BDNF_N        NR1_N       NR2A_N  \\\n",
       "count  1077.000000  1077.000000  1077.000000  1077.000000  1077.000000   \n",
       "mean      0.425810     0.617102     0.319088     2.297269     3.843934   \n",
       "std       0.249362     0.251640     0.049383     0.347293     0.933100   \n",
       "min       0.145327     0.245359     0.115181     1.330831     1.737540   \n",
       "25%       0.288121     0.473361     0.287444     2.057411     3.155678   \n",
       "50%       0.366378     0.565782     0.316564     2.296546     3.760855   \n",
       "75%       0.487711     0.698032     0.348197     2.528481     4.440011   \n",
       "max       2.516367     2.602662     0.497160     3.757641     8.482553   \n",
       "\n",
       "            pAKT_N      pBRAF_N    pCAMKII_N      pCREB_N       pELK_N  ...  \\\n",
       "count  1077.000000  1077.000000  1077.000000  1077.000000  1077.000000  ...   \n",
       "mean      0.233168     0.181846     3.537109     0.212574     1.428682  ...   \n",
       "std       0.041634     0.027042     1.295169     0.032587     0.466904  ...   \n",
       "min       0.063236     0.064043     1.343998     0.112812     0.429032  ...   \n",
       "25%       0.205755     0.164595     2.479834     0.190823     1.203665  ...   \n",
       "50%       0.231177     0.182302     3.326520     0.210594     1.355846  ...   \n",
       "75%       0.257261     0.197418     4.481940     0.234595     1.561316  ...   \n",
       "max       0.539050     0.317066     7.464070     0.306247     6.113347  ...   \n",
       "\n",
       "             SHH_N       BAD_N      BCL2_N        pS6_N      pCFOS_N  \\\n",
       "count  1080.000000  867.000000  795.000000  1080.000000  1005.000000   \n",
       "mean      0.226676    0.157914    0.134762     0.121521     0.131053   \n",
       "std       0.028989    0.029537    0.027417     0.014276     0.023863   \n",
       "min       0.155869    0.088305    0.080657     0.067254     0.085419   \n",
       "25%       0.206395    0.136424    0.115554     0.110839     0.113506   \n",
       "50%       0.224000    0.152313    0.129468     0.121626     0.126523   \n",
       "75%       0.241655    0.174017    0.148235     0.131955     0.143652   \n",
       "max       0.358289    0.282016    0.261506     0.158748     0.256529   \n",
       "\n",
       "             SYP_N   H3AcK18_N      EGR1_N    H3MeK4_N       CaNA_N  \n",
       "count  1080.000000  900.000000  870.000000  810.000000  1080.000000  \n",
       "mean      0.446073    0.169609    0.183135    0.205440     1.337784  \n",
       "std       0.066432    0.059402    0.040406    0.055514     0.317126  \n",
       "min       0.258626    0.079691    0.105537    0.101787     0.586479  \n",
       "25%       0.398082    0.125848    0.155121    0.165143     1.081423  \n",
       "50%       0.448459    0.158240    0.174935    0.193994     1.317441  \n",
       "75%       0.490773    0.197876    0.204542    0.235215     1.585824  \n",
       "max       0.759588    0.479763    0.360692    0.413903     2.129791  \n",
       "\n",
       "[8 rows x 77 columns]"
      ]
     },
     "execution_count": 4,
     "metadata": {},
     "output_type": "execute_result"
    }
   ],
   "source": [
    "dataset.describe()"
   ]
  },
  {
   "cell_type": "markdown",
   "metadata": {},
   "source": [
    "Sample 5% of the data to perform prediction."
   ]
  },
  {
   "cell_type": "code",
   "execution_count": 5,
   "metadata": {},
   "outputs": [],
   "source": [
    "data = dataset.sample(frac=0.95, random_state=42)\n",
    "data_unseen = dataset.drop(data.index)"
   ]
  },
  {
   "cell_type": "code",
   "execution_count": 6,
   "metadata": {},
   "outputs": [
    {
     "data": {
      "text/plain": [
       "(1026, 82)"
      ]
     },
     "execution_count": 6,
     "metadata": {},
     "output_type": "execute_result"
    }
   ],
   "source": [
    "data.shape"
   ]
  },
  {
   "cell_type": "code",
   "execution_count": 7,
   "metadata": {},
   "outputs": [
    {
     "data": {
      "text/plain": [
       "(54, 82)"
      ]
     },
     "execution_count": 7,
     "metadata": {},
     "output_type": "execute_result"
    }
   ],
   "source": [
    "data_unseen.shape"
   ]
  },
  {
   "cell_type": "code",
   "execution_count": 8,
   "metadata": {},
   "outputs": [],
   "source": [
    "data.reset_index(drop=True, inplace=True)\n",
    "data_unseen.reset_index(drop=True, inplace=True)"
   ]
  },
  {
   "cell_type": "markdown",
   "metadata": {},
   "source": [
    "### 2. Setting up Environment\n",
    "\n",
    "Initializes the environment in PyCaret and creates the transformation pipeline to prepare the data for modeling and deployment."
   ]
  },
  {
   "cell_type": "code",
   "execution_count": 9,
   "metadata": {},
   "outputs": [
    {
     "name": "stdout",
     "output_type": "stream",
     "text": [
      "Setup Succesfully Completed!\n"
     ]
    },
    {
     "data": {
      "text/html": [
       "<style  type=\"text/css\" >\n",
       "    #T_b37c00b8_03ea_11eb_bf45_6030d4868492row2_col1 {\n",
       "            background-color:  lightgreen;\n",
       "        }    #T_b37c00b8_03ea_11eb_bf45_6030d4868492row10_col1 {\n",
       "            background-color:  lightgreen;\n",
       "        }</style><table id=\"T_b37c00b8_03ea_11eb_bf45_6030d4868492\" ><thead>    <tr>        <th class=\"blank level0\" ></th>        <th class=\"col_heading level0 col0\" >Description</th>        <th class=\"col_heading level0 col1\" >Value</th>    </tr></thead><tbody>\n",
       "                <tr>\n",
       "                        <th id=\"T_b37c00b8_03ea_11eb_bf45_6030d4868492level0_row0\" class=\"row_heading level0 row0\" >0</th>\n",
       "                        <td id=\"T_b37c00b8_03ea_11eb_bf45_6030d4868492row0_col0\" class=\"data row0 col0\" >session_id </td>\n",
       "                        <td id=\"T_b37c00b8_03ea_11eb_bf45_6030d4868492row0_col1\" class=\"data row0 col1\" >123</td>\n",
       "            </tr>\n",
       "            <tr>\n",
       "                        <th id=\"T_b37c00b8_03ea_11eb_bf45_6030d4868492level0_row1\" class=\"row_heading level0 row1\" >1</th>\n",
       "                        <td id=\"T_b37c00b8_03ea_11eb_bf45_6030d4868492row1_col0\" class=\"data row1 col0\" >Original Data </td>\n",
       "                        <td id=\"T_b37c00b8_03ea_11eb_bf45_6030d4868492row1_col1\" class=\"data row1 col1\" >(1026, 82)</td>\n",
       "            </tr>\n",
       "            <tr>\n",
       "                        <th id=\"T_b37c00b8_03ea_11eb_bf45_6030d4868492level0_row2\" class=\"row_heading level0 row2\" >2</th>\n",
       "                        <td id=\"T_b37c00b8_03ea_11eb_bf45_6030d4868492row2_col0\" class=\"data row2 col0\" >Missing Values </td>\n",
       "                        <td id=\"T_b37c00b8_03ea_11eb_bf45_6030d4868492row2_col1\" class=\"data row2 col1\" >True</td>\n",
       "            </tr>\n",
       "            <tr>\n",
       "                        <th id=\"T_b37c00b8_03ea_11eb_bf45_6030d4868492level0_row3\" class=\"row_heading level0 row3\" >3</th>\n",
       "                        <td id=\"T_b37c00b8_03ea_11eb_bf45_6030d4868492row3_col0\" class=\"data row3 col0\" >Numeric Features </td>\n",
       "                        <td id=\"T_b37c00b8_03ea_11eb_bf45_6030d4868492row3_col1\" class=\"data row3 col1\" >76</td>\n",
       "            </tr>\n",
       "            <tr>\n",
       "                        <th id=\"T_b37c00b8_03ea_11eb_bf45_6030d4868492level0_row4\" class=\"row_heading level0 row4\" >4</th>\n",
       "                        <td id=\"T_b37c00b8_03ea_11eb_bf45_6030d4868492row4_col0\" class=\"data row4 col0\" >Categorical Features </td>\n",
       "                        <td id=\"T_b37c00b8_03ea_11eb_bf45_6030d4868492row4_col1\" class=\"data row4 col1\" >6</td>\n",
       "            </tr>\n",
       "            <tr>\n",
       "                        <th id=\"T_b37c00b8_03ea_11eb_bf45_6030d4868492level0_row5\" class=\"row_heading level0 row5\" >5</th>\n",
       "                        <td id=\"T_b37c00b8_03ea_11eb_bf45_6030d4868492row5_col0\" class=\"data row5 col0\" >Ordinal Features </td>\n",
       "                        <td id=\"T_b37c00b8_03ea_11eb_bf45_6030d4868492row5_col1\" class=\"data row5 col1\" >False</td>\n",
       "            </tr>\n",
       "            <tr>\n",
       "                        <th id=\"T_b37c00b8_03ea_11eb_bf45_6030d4868492level0_row6\" class=\"row_heading level0 row6\" >6</th>\n",
       "                        <td id=\"T_b37c00b8_03ea_11eb_bf45_6030d4868492row6_col0\" class=\"data row6 col0\" >High Cardinality Features </td>\n",
       "                        <td id=\"T_b37c00b8_03ea_11eb_bf45_6030d4868492row6_col1\" class=\"data row6 col1\" >False</td>\n",
       "            </tr>\n",
       "            <tr>\n",
       "                        <th id=\"T_b37c00b8_03ea_11eb_bf45_6030d4868492level0_row7\" class=\"row_heading level0 row7\" >7</th>\n",
       "                        <td id=\"T_b37c00b8_03ea_11eb_bf45_6030d4868492row7_col0\" class=\"data row7 col0\" >Transformed Data </td>\n",
       "                        <td id=\"T_b37c00b8_03ea_11eb_bf45_6030d4868492row7_col1\" class=\"data row7 col1\" >(1026, 91)</td>\n",
       "            </tr>\n",
       "            <tr>\n",
       "                        <th id=\"T_b37c00b8_03ea_11eb_bf45_6030d4868492level0_row8\" class=\"row_heading level0 row8\" >8</th>\n",
       "                        <td id=\"T_b37c00b8_03ea_11eb_bf45_6030d4868492row8_col0\" class=\"data row8 col0\" >Numeric Imputer </td>\n",
       "                        <td id=\"T_b37c00b8_03ea_11eb_bf45_6030d4868492row8_col1\" class=\"data row8 col1\" >mean</td>\n",
       "            </tr>\n",
       "            <tr>\n",
       "                        <th id=\"T_b37c00b8_03ea_11eb_bf45_6030d4868492level0_row9\" class=\"row_heading level0 row9\" >9</th>\n",
       "                        <td id=\"T_b37c00b8_03ea_11eb_bf45_6030d4868492row9_col0\" class=\"data row9 col0\" >Categorical Imputer </td>\n",
       "                        <td id=\"T_b37c00b8_03ea_11eb_bf45_6030d4868492row9_col1\" class=\"data row9 col1\" >constant</td>\n",
       "            </tr>\n",
       "            <tr>\n",
       "                        <th id=\"T_b37c00b8_03ea_11eb_bf45_6030d4868492level0_row10\" class=\"row_heading level0 row10\" >10</th>\n",
       "                        <td id=\"T_b37c00b8_03ea_11eb_bf45_6030d4868492row10_col0\" class=\"data row10 col0\" >Normalize </td>\n",
       "                        <td id=\"T_b37c00b8_03ea_11eb_bf45_6030d4868492row10_col1\" class=\"data row10 col1\" >True</td>\n",
       "            </tr>\n",
       "            <tr>\n",
       "                        <th id=\"T_b37c00b8_03ea_11eb_bf45_6030d4868492level0_row11\" class=\"row_heading level0 row11\" >11</th>\n",
       "                        <td id=\"T_b37c00b8_03ea_11eb_bf45_6030d4868492row11_col0\" class=\"data row11 col0\" >Normalize Method </td>\n",
       "                        <td id=\"T_b37c00b8_03ea_11eb_bf45_6030d4868492row11_col1\" class=\"data row11 col1\" >zscore</td>\n",
       "            </tr>\n",
       "            <tr>\n",
       "                        <th id=\"T_b37c00b8_03ea_11eb_bf45_6030d4868492level0_row12\" class=\"row_heading level0 row12\" >12</th>\n",
       "                        <td id=\"T_b37c00b8_03ea_11eb_bf45_6030d4868492row12_col0\" class=\"data row12 col0\" >Transformation </td>\n",
       "                        <td id=\"T_b37c00b8_03ea_11eb_bf45_6030d4868492row12_col1\" class=\"data row12 col1\" >False</td>\n",
       "            </tr>\n",
       "            <tr>\n",
       "                        <th id=\"T_b37c00b8_03ea_11eb_bf45_6030d4868492level0_row13\" class=\"row_heading level0 row13\" >13</th>\n",
       "                        <td id=\"T_b37c00b8_03ea_11eb_bf45_6030d4868492row13_col0\" class=\"data row13 col0\" >Transformation Method </td>\n",
       "                        <td id=\"T_b37c00b8_03ea_11eb_bf45_6030d4868492row13_col1\" class=\"data row13 col1\" >None</td>\n",
       "            </tr>\n",
       "            <tr>\n",
       "                        <th id=\"T_b37c00b8_03ea_11eb_bf45_6030d4868492level0_row14\" class=\"row_heading level0 row14\" >14</th>\n",
       "                        <td id=\"T_b37c00b8_03ea_11eb_bf45_6030d4868492row14_col0\" class=\"data row14 col0\" >PCA </td>\n",
       "                        <td id=\"T_b37c00b8_03ea_11eb_bf45_6030d4868492row14_col1\" class=\"data row14 col1\" >False</td>\n",
       "            </tr>\n",
       "            <tr>\n",
       "                        <th id=\"T_b37c00b8_03ea_11eb_bf45_6030d4868492level0_row15\" class=\"row_heading level0 row15\" >15</th>\n",
       "                        <td id=\"T_b37c00b8_03ea_11eb_bf45_6030d4868492row15_col0\" class=\"data row15 col0\" >PCA Method </td>\n",
       "                        <td id=\"T_b37c00b8_03ea_11eb_bf45_6030d4868492row15_col1\" class=\"data row15 col1\" >None</td>\n",
       "            </tr>\n",
       "            <tr>\n",
       "                        <th id=\"T_b37c00b8_03ea_11eb_bf45_6030d4868492level0_row16\" class=\"row_heading level0 row16\" >16</th>\n",
       "                        <td id=\"T_b37c00b8_03ea_11eb_bf45_6030d4868492row16_col0\" class=\"data row16 col0\" >PCA components </td>\n",
       "                        <td id=\"T_b37c00b8_03ea_11eb_bf45_6030d4868492row16_col1\" class=\"data row16 col1\" >None</td>\n",
       "            </tr>\n",
       "            <tr>\n",
       "                        <th id=\"T_b37c00b8_03ea_11eb_bf45_6030d4868492level0_row17\" class=\"row_heading level0 row17\" >17</th>\n",
       "                        <td id=\"T_b37c00b8_03ea_11eb_bf45_6030d4868492row17_col0\" class=\"data row17 col0\" >Ignore Low Variance </td>\n",
       "                        <td id=\"T_b37c00b8_03ea_11eb_bf45_6030d4868492row17_col1\" class=\"data row17 col1\" >False</td>\n",
       "            </tr>\n",
       "            <tr>\n",
       "                        <th id=\"T_b37c00b8_03ea_11eb_bf45_6030d4868492level0_row18\" class=\"row_heading level0 row18\" >18</th>\n",
       "                        <td id=\"T_b37c00b8_03ea_11eb_bf45_6030d4868492row18_col0\" class=\"data row18 col0\" >Combine Rare Levels </td>\n",
       "                        <td id=\"T_b37c00b8_03ea_11eb_bf45_6030d4868492row18_col1\" class=\"data row18 col1\" >False</td>\n",
       "            </tr>\n",
       "            <tr>\n",
       "                        <th id=\"T_b37c00b8_03ea_11eb_bf45_6030d4868492level0_row19\" class=\"row_heading level0 row19\" >19</th>\n",
       "                        <td id=\"T_b37c00b8_03ea_11eb_bf45_6030d4868492row19_col0\" class=\"data row19 col0\" >Rare Level Threshold </td>\n",
       "                        <td id=\"T_b37c00b8_03ea_11eb_bf45_6030d4868492row19_col1\" class=\"data row19 col1\" >None</td>\n",
       "            </tr>\n",
       "            <tr>\n",
       "                        <th id=\"T_b37c00b8_03ea_11eb_bf45_6030d4868492level0_row20\" class=\"row_heading level0 row20\" >20</th>\n",
       "                        <td id=\"T_b37c00b8_03ea_11eb_bf45_6030d4868492row20_col0\" class=\"data row20 col0\" >Numeric Binning </td>\n",
       "                        <td id=\"T_b37c00b8_03ea_11eb_bf45_6030d4868492row20_col1\" class=\"data row20 col1\" >False</td>\n",
       "            </tr>\n",
       "            <tr>\n",
       "                        <th id=\"T_b37c00b8_03ea_11eb_bf45_6030d4868492level0_row21\" class=\"row_heading level0 row21\" >21</th>\n",
       "                        <td id=\"T_b37c00b8_03ea_11eb_bf45_6030d4868492row21_col0\" class=\"data row21 col0\" >Remove Multicollinearity </td>\n",
       "                        <td id=\"T_b37c00b8_03ea_11eb_bf45_6030d4868492row21_col1\" class=\"data row21 col1\" >False</td>\n",
       "            </tr>\n",
       "            <tr>\n",
       "                        <th id=\"T_b37c00b8_03ea_11eb_bf45_6030d4868492level0_row22\" class=\"row_heading level0 row22\" >22</th>\n",
       "                        <td id=\"T_b37c00b8_03ea_11eb_bf45_6030d4868492row22_col0\" class=\"data row22 col0\" >Multicollinearity Threshold </td>\n",
       "                        <td id=\"T_b37c00b8_03ea_11eb_bf45_6030d4868492row22_col1\" class=\"data row22 col1\" >None</td>\n",
       "            </tr>\n",
       "            <tr>\n",
       "                        <th id=\"T_b37c00b8_03ea_11eb_bf45_6030d4868492level0_row23\" class=\"row_heading level0 row23\" >23</th>\n",
       "                        <td id=\"T_b37c00b8_03ea_11eb_bf45_6030d4868492row23_col0\" class=\"data row23 col0\" >Group Features </td>\n",
       "                        <td id=\"T_b37c00b8_03ea_11eb_bf45_6030d4868492row23_col1\" class=\"data row23 col1\" >False</td>\n",
       "            </tr>\n",
       "    </tbody></table>"
      ],
      "text/plain": [
       "<pandas.io.formats.style.Styler at 0x7fca77813b90>"
      ]
     },
     "metadata": {},
     "output_type": "display_data"
    }
   ],
   "source": [
    "from pycaret.anomaly import *\n",
    "\n",
    "exp = setup(data, \n",
    "            normalize=True,\n",
    "            ignore_features=['MouseID'],\n",
    "            session_id=123)"
   ]
  },
  {
   "cell_type": "markdown",
   "metadata": {},
   "source": [
    "### 3. Create Model"
   ]
  },
  {
   "cell_type": "markdown",
   "metadata": {},
   "source": [
    "Creating Isolation Forest model using create_model()."
   ]
  },
  {
   "cell_type": "code",
   "execution_count": 10,
   "metadata": {},
   "outputs": [],
   "source": [
    "iforest = create_model('iforest')"
   ]
  },
  {
   "cell_type": "code",
   "execution_count": 11,
   "metadata": {},
   "outputs": [
    {
     "name": "stdout",
     "output_type": "stream",
     "text": [
      "IForest(behaviour='new', bootstrap=False, contamination=0.05,\n",
      "    max_features=1.0, max_samples='auto', n_estimators=100, n_jobs=1,\n",
      "    random_state=123, verbose=0)\n"
     ]
    }
   ],
   "source": [
    "print(iforest)"
   ]
  },
  {
   "cell_type": "code",
   "execution_count": 14,
   "metadata": {},
   "outputs": [],
   "source": [
    "# create one class support vector machine\n",
    "\n",
    "svm = create_model('svm', fraction=0.025)"
   ]
  },
  {
   "cell_type": "code",
   "execution_count": 15,
   "metadata": {},
   "outputs": [
    {
     "name": "stdout",
     "output_type": "stream",
     "text": [
      "OCSVM(cache_size=200, coef0=0.0, contamination=0.025, degree=3, gamma='auto',\n",
      "   kernel='rbf', max_iter=-1, nu=0.5, shrinking=True, tol=0.001,\n",
      "   verbose=False)\n"
     ]
    }
   ],
   "source": [
    "print(svm)"
   ]
  },
  {
   "cell_type": "code",
   "execution_count": 16,
   "metadata": {},
   "outputs": [
    {
     "data": {
      "text/html": [
       "<div>\n",
       "<style scoped>\n",
       "    .dataframe tbody tr th:only-of-type {\n",
       "        vertical-align: middle;\n",
       "    }\n",
       "\n",
       "    .dataframe tbody tr th {\n",
       "        vertical-align: top;\n",
       "    }\n",
       "\n",
       "    .dataframe thead th {\n",
       "        text-align: right;\n",
       "    }\n",
       "</style>\n",
       "<table border=\"1\" class=\"dataframe\">\n",
       "  <thead>\n",
       "    <tr style=\"text-align: right;\">\n",
       "      <th></th>\n",
       "      <th>Name</th>\n",
       "      <th>Reference</th>\n",
       "    </tr>\n",
       "    <tr>\n",
       "      <th>ID</th>\n",
       "      <th></th>\n",
       "      <th></th>\n",
       "    </tr>\n",
       "  </thead>\n",
       "  <tbody>\n",
       "    <tr>\n",
       "      <th>abod</th>\n",
       "      <td>Angle-base Outlier Detection</td>\n",
       "      <td>pyod.models.abod.ABOD</td>\n",
       "    </tr>\n",
       "    <tr>\n",
       "      <th>iforest</th>\n",
       "      <td>Isolation Forest</td>\n",
       "      <td>pyod.models.iforest</td>\n",
       "    </tr>\n",
       "    <tr>\n",
       "      <th>cluster</th>\n",
       "      <td>Clustering-Based Local Outlier</td>\n",
       "      <td>pyod.models.cblof</td>\n",
       "    </tr>\n",
       "    <tr>\n",
       "      <th>cof</th>\n",
       "      <td>Connectivity-Based Outlier Factor</td>\n",
       "      <td>pyod.models.cof</td>\n",
       "    </tr>\n",
       "    <tr>\n",
       "      <th>histogram</th>\n",
       "      <td>Histogram-based Outlier Detection</td>\n",
       "      <td>pyod.models.hbos</td>\n",
       "    </tr>\n",
       "    <tr>\n",
       "      <th>knn</th>\n",
       "      <td>k-Nearest Neighbors Detector</td>\n",
       "      <td>pyod.models.knn</td>\n",
       "    </tr>\n",
       "    <tr>\n",
       "      <th>lof</th>\n",
       "      <td>Local Outlier Factor</td>\n",
       "      <td>pyod.models.lof</td>\n",
       "    </tr>\n",
       "    <tr>\n",
       "      <th>svm</th>\n",
       "      <td>One-class SVM detector</td>\n",
       "      <td>pyod.models.ocsvm</td>\n",
       "    </tr>\n",
       "    <tr>\n",
       "      <th>pca</th>\n",
       "      <td>Principal Component Analysis</td>\n",
       "      <td>pyod.models.pca</td>\n",
       "    </tr>\n",
       "    <tr>\n",
       "      <th>mcd</th>\n",
       "      <td>Minimum Covariance Determinant</td>\n",
       "      <td>pyod.models.mcd</td>\n",
       "    </tr>\n",
       "    <tr>\n",
       "      <th>sod</th>\n",
       "      <td>Subspace Outlier Detection</td>\n",
       "      <td>pyod.models.sod</td>\n",
       "    </tr>\n",
       "    <tr>\n",
       "      <th>sos</th>\n",
       "      <td>Stochastic Outlier Selection</td>\n",
       "      <td>pyod.models.sos</td>\n",
       "    </tr>\n",
       "  </tbody>\n",
       "</table>\n",
       "</div>"
      ],
      "text/plain": [
       "                                        Name              Reference\n",
       "ID                                                                 \n",
       "abod            Angle-base Outlier Detection  pyod.models.abod.ABOD\n",
       "iforest                     Isolation Forest    pyod.models.iforest\n",
       "cluster       Clustering-Based Local Outlier      pyod.models.cblof\n",
       "cof        Connectivity-Based Outlier Factor        pyod.models.cof\n",
       "histogram  Histogram-based Outlier Detection       pyod.models.hbos\n",
       "knn             k-Nearest Neighbors Detector        pyod.models.knn\n",
       "lof                     Local Outlier Factor        pyod.models.lof\n",
       "svm                   One-class SVM detector      pyod.models.ocsvm\n",
       "pca             Principal Component Analysis        pyod.models.pca\n",
       "mcd           Minimum Covariance Determinant        pyod.models.mcd\n",
       "sod               Subspace Outlier Detection        pyod.models.sod\n",
       "sos             Stochastic Outlier Selection        pyod.models.sos"
      ]
     },
     "execution_count": 16,
     "metadata": {},
     "output_type": "execute_result"
    }
   ],
   "source": [
    "models()"
   ]
  },
  {
   "cell_type": "code",
   "execution_count": 17,
   "metadata": {},
   "outputs": [
    {
     "data": {
      "text/html": [
       "<div>\n",
       "<style scoped>\n",
       "    .dataframe tbody tr th:only-of-type {\n",
       "        vertical-align: middle;\n",
       "    }\n",
       "\n",
       "    .dataframe tbody tr th {\n",
       "        vertical-align: top;\n",
       "    }\n",
       "\n",
       "    .dataframe thead th {\n",
       "        text-align: right;\n",
       "    }\n",
       "</style>\n",
       "<table border=\"1\" class=\"dataframe\">\n",
       "  <thead>\n",
       "    <tr style=\"text-align: right;\">\n",
       "      <th></th>\n",
       "      <th>MouseID</th>\n",
       "      <th>DYRK1A_N</th>\n",
       "      <th>ITSN1_N</th>\n",
       "      <th>BDNF_N</th>\n",
       "      <th>NR1_N</th>\n",
       "      <th>NR2A_N</th>\n",
       "      <th>pAKT_N</th>\n",
       "      <th>pBRAF_N</th>\n",
       "      <th>pCAMKII_N</th>\n",
       "      <th>pCREB_N</th>\n",
       "      <th>...</th>\n",
       "      <th>H3AcK18_N</th>\n",
       "      <th>EGR1_N</th>\n",
       "      <th>H3MeK4_N</th>\n",
       "      <th>CaNA_N</th>\n",
       "      <th>Genotype</th>\n",
       "      <th>Treatment</th>\n",
       "      <th>Behavior</th>\n",
       "      <th>class</th>\n",
       "      <th>Label</th>\n",
       "      <th>Score</th>\n",
       "    </tr>\n",
       "  </thead>\n",
       "  <tbody>\n",
       "    <tr>\n",
       "      <th>0</th>\n",
       "      <td>50810F_4</td>\n",
       "      <td>0.492403</td>\n",
       "      <td>0.658379</td>\n",
       "      <td>0.339319</td>\n",
       "      <td>2.446823</td>\n",
       "      <td>4.613029</td>\n",
       "      <td>0.273250</td>\n",
       "      <td>0.218692</td>\n",
       "      <td>4.184162</td>\n",
       "      <td>0.261280</td>\n",
       "      <td>...</td>\n",
       "      <td>NaN</td>\n",
       "      <td>NaN</td>\n",
       "      <td>NaN</td>\n",
       "      <td>1.452390</td>\n",
       "      <td>Control</td>\n",
       "      <td>Saline</td>\n",
       "      <td>C/S</td>\n",
       "      <td>c-CS-s</td>\n",
       "      <td>0</td>\n",
       "      <td>-0.039132</td>\n",
       "    </tr>\n",
       "    <tr>\n",
       "      <th>1</th>\n",
       "      <td>3516_9</td>\n",
       "      <td>0.182518</td>\n",
       "      <td>0.298969</td>\n",
       "      <td>0.229708</td>\n",
       "      <td>1.725425</td>\n",
       "      <td>2.699869</td>\n",
       "      <td>0.174822</td>\n",
       "      <td>0.139538</td>\n",
       "      <td>2.747931</td>\n",
       "      <td>0.187309</td>\n",
       "      <td>...</td>\n",
       "      <td>NaN</td>\n",
       "      <td>0.220072</td>\n",
       "      <td>0.338278</td>\n",
       "      <td>1.090741</td>\n",
       "      <td>Control</td>\n",
       "      <td>Saline</td>\n",
       "      <td>S/C</td>\n",
       "      <td>c-SC-s</td>\n",
       "      <td>1</td>\n",
       "      <td>0.005363</td>\n",
       "    </tr>\n",
       "    <tr>\n",
       "      <th>2</th>\n",
       "      <td>3411_12</td>\n",
       "      <td>0.288450</td>\n",
       "      <td>0.515536</td>\n",
       "      <td>0.286301</td>\n",
       "      <td>2.043971</td>\n",
       "      <td>3.312488</td>\n",
       "      <td>0.218683</td>\n",
       "      <td>0.199140</td>\n",
       "      <td>2.929255</td>\n",
       "      <td>0.226304</td>\n",
       "      <td>...</td>\n",
       "      <td>NaN</td>\n",
       "      <td>0.286819</td>\n",
       "      <td>NaN</td>\n",
       "      <td>1.152579</td>\n",
       "      <td>Ts65Dn</td>\n",
       "      <td>Memantine</td>\n",
       "      <td>S/C</td>\n",
       "      <td>t-SC-m</td>\n",
       "      <td>0</td>\n",
       "      <td>-0.085396</td>\n",
       "    </tr>\n",
       "    <tr>\n",
       "      <th>3</th>\n",
       "      <td>3416_4</td>\n",
       "      <td>0.571500</td>\n",
       "      <td>0.747993</td>\n",
       "      <td>0.311465</td>\n",
       "      <td>2.450201</td>\n",
       "      <td>3.827270</td>\n",
       "      <td>0.200075</td>\n",
       "      <td>0.165454</td>\n",
       "      <td>2.424611</td>\n",
       "      <td>0.192925</td>\n",
       "      <td>...</td>\n",
       "      <td>0.149360</td>\n",
       "      <td>NaN</td>\n",
       "      <td>NaN</td>\n",
       "      <td>1.720202</td>\n",
       "      <td>Ts65Dn</td>\n",
       "      <td>Memantine</td>\n",
       "      <td>C/S</td>\n",
       "      <td>t-CS-m</td>\n",
       "      <td>0</td>\n",
       "      <td>-0.085370</td>\n",
       "    </tr>\n",
       "    <tr>\n",
       "      <th>4</th>\n",
       "      <td>J1291_2</td>\n",
       "      <td>0.287189</td>\n",
       "      <td>0.523557</td>\n",
       "      <td>0.319746</td>\n",
       "      <td>2.425490</td>\n",
       "      <td>3.589465</td>\n",
       "      <td>0.244044</td>\n",
       "      <td>0.189254</td>\n",
       "      <td>3.807835</td>\n",
       "      <td>0.250662</td>\n",
       "      <td>...</td>\n",
       "      <td>0.287167</td>\n",
       "      <td>0.127822</td>\n",
       "      <td>0.220443</td>\n",
       "      <td>1.372286</td>\n",
       "      <td>Ts65Dn</td>\n",
       "      <td>Saline</td>\n",
       "      <td>S/C</td>\n",
       "      <td>t-SC-s</td>\n",
       "      <td>0</td>\n",
       "      <td>-0.074109</td>\n",
       "    </tr>\n",
       "  </tbody>\n",
       "</table>\n",
       "<p>5 rows × 84 columns</p>\n",
       "</div>"
      ],
      "text/plain": [
       "    MouseID  DYRK1A_N   ITSN1_N    BDNF_N     NR1_N    NR2A_N    pAKT_N  \\\n",
       "0  50810F_4  0.492403  0.658379  0.339319  2.446823  4.613029  0.273250   \n",
       "1    3516_9  0.182518  0.298969  0.229708  1.725425  2.699869  0.174822   \n",
       "2   3411_12  0.288450  0.515536  0.286301  2.043971  3.312488  0.218683   \n",
       "3    3416_4  0.571500  0.747993  0.311465  2.450201  3.827270  0.200075   \n",
       "4   J1291_2  0.287189  0.523557  0.319746  2.425490  3.589465  0.244044   \n",
       "\n",
       "    pBRAF_N  pCAMKII_N   pCREB_N  ...  H3AcK18_N    EGR1_N  H3MeK4_N  \\\n",
       "0  0.218692   4.184162  0.261280  ...        NaN       NaN       NaN   \n",
       "1  0.139538   2.747931  0.187309  ...        NaN  0.220072  0.338278   \n",
       "2  0.199140   2.929255  0.226304  ...        NaN  0.286819       NaN   \n",
       "3  0.165454   2.424611  0.192925  ...   0.149360       NaN       NaN   \n",
       "4  0.189254   3.807835  0.250662  ...   0.287167  0.127822  0.220443   \n",
       "\n",
       "     CaNA_N  Genotype  Treatment  Behavior   class  Label     Score  \n",
       "0  1.452390   Control     Saline       C/S  c-CS-s      0 -0.039132  \n",
       "1  1.090741   Control     Saline       S/C  c-SC-s      1  0.005363  \n",
       "2  1.152579    Ts65Dn  Memantine       S/C  t-SC-m      0 -0.085396  \n",
       "3  1.720202    Ts65Dn  Memantine       C/S  t-CS-m      0 -0.085370  \n",
       "4  1.372286    Ts65Dn     Saline       S/C  t-SC-s      0 -0.074109  \n",
       "\n",
       "[5 rows x 84 columns]"
      ]
     },
     "execution_count": 17,
     "metadata": {},
     "output_type": "execute_result"
    }
   ],
   "source": [
    "iforest_result = assign_model(iforest)\n",
    "iforest_result.head()"
   ]
  },
  {
   "cell_type": "markdown",
   "metadata": {},
   "source": [
    "Two columns Label and Score are added towards the end. 0 stands for inliers and 1 for outliers/anomalies. Score is the values computed by the algorithm."
   ]
  },
  {
   "cell_type": "code",
   "execution_count": 18,
   "metadata": {},
   "outputs": [
    {
     "data": {
      "text/html": [
       "        <script type=\"text/javascript\">\n",
       "        window.PlotlyConfig = {MathJaxConfig: 'local'};\n",
       "        if (window.MathJax) {MathJax.Hub.Config({SVG: {font: \"STIX-Web\"}});}\n",
       "        if (typeof require !== 'undefined') {\n",
       "        require.undef(\"plotly\");\n",
       "        requirejs.config({\n",
       "            paths: {\n",
       "                'plotly': ['https://cdn.plot.ly/plotly-latest.min']\n",
       "            }\n",
       "        });\n",
       "        require(['plotly'], function(Plotly) {\n",
       "            window._Plotly = Plotly;\n",
       "        });\n",
       "        }\n",
       "        </script>\n",
       "        "
      ]
     },
     "metadata": {},
     "output_type": "display_data"
    },
    {
     "data": {
      "application/vnd.plotly.v1+json": {
       "config": {
        "plotlyServerURL": "https://plot.ly"
       },
       "data": [
        {
         "customdata": [
          [
           "50810F_4"
          ],
          [
           "3516_9"
          ],
          [
           "3411_12"
          ],
          [
           "3416_4"
          ],
          [
           "J1291_2"
          ],
          [
           "3429_2"
          ],
          [
           "3491_2"
          ],
          [
           "3491_4"
          ],
          [
           "J3295_7"
          ],
          [
           "50810C_9"
          ],
          [
           "3525_14"
          ],
          [
           "3414_12"
          ],
          [
           "3504_5"
          ],
          [
           "294_9"
          ],
          [
           "3484_6"
          ],
          [
           "3422_14"
          ],
          [
           "3479_4"
          ],
          [
           "3488_1"
          ],
          [
           "50810B_13"
          ],
          [
           "3498_9"
          ],
          [
           "321_12"
          ],
          [
           "322_11"
          ],
          [
           "3481_6"
          ],
          [
           "3497_14"
          ],
          [
           "3490_4"
          ],
          [
           "3426_13"
          ],
          [
           "3606_13"
          ],
          [
           "3484_12"
          ],
          [
           "3517_10"
          ],
          [
           "3501_11"
          ],
          [
           "3505_12"
          ],
          [
           "361_5"
          ],
          [
           "321_7"
          ],
          [
           "364_8"
          ],
          [
           "3412_10"
          ],
          [
           "3429_3"
          ],
          [
           "3501_12"
          ],
          [
           "3415_12"
          ],
          [
           "3477_10"
          ],
          [
           "J3295_12"
          ],
          [
           "3497_15"
          ],
          [
           "293_2"
          ],
          [
           "361_3"
          ],
          [
           "3421_10"
          ],
          [
           "3491_3"
          ],
          [
           "3507_5"
          ],
          [
           "3415_14"
          ],
          [
           "320_2"
          ],
          [
           "3530_8"
          ],
          [
           "3516_4"
          ],
          [
           "3413_13"
          ],
          [
           "3481_14"
          ],
          [
           "3497_7"
          ],
          [
           "3419_5"
          ],
          [
           "3429_7"
          ],
          [
           "18899_5"
          ],
          [
           "50810E_4"
          ],
          [
           "3522_1"
          ],
          [
           "3423_4"
          ],
          [
           "3483_13"
          ],
          [
           "3422_6"
          ],
          [
           "J1291_13"
          ],
          [
           "363_3"
          ],
          [
           "365_5"
          ],
          [
           "18899_15"
          ],
          [
           "3605_10"
          ],
          [
           "3483_7"
          ],
          [
           "3424_13"
          ],
          [
           "3490_7"
          ],
          [
           "3606_1"
          ],
          [
           "J2292_6"
          ],
          [
           "3513_10"
          ],
          [
           "3416_12"
          ],
          [
           "3497_3"
          ],
          [
           "3507_9"
          ],
          [
           "3414_9"
          ],
          [
           "J3295_10"
          ],
          [
           "3421_5"
          ],
          [
           "3483_12"
          ],
          [
           "3421_1"
          ],
          [
           "362_2"
          ],
          [
           "3417_12"
          ],
          [
           "3507_3"
          ],
          [
           "321_15"
          ],
          [
           "3418_12"
          ],
          [
           "3480_7"
          ],
          [
           "293_14"
          ],
          [
           "50810A_15"
          ],
          [
           "J3295_5"
          ],
          [
           "311_9"
          ],
          [
           "50810B_5"
          ],
          [
           "3521_7"
          ],
          [
           "3488_7"
          ],
          [
           "3422_5"
          ],
          [
           "3480_11"
          ],
          [
           "3525_5"
          ],
          [
           "3498_3"
          ],
          [
           "3423_15"
          ],
          [
           "3499_12"
          ],
          [
           "3412_14"
          ],
          [
           "J2292_7"
          ],
          [
           "3530_9"
          ],
          [
           "3425_1"
          ],
          [
           "3491_10"
          ],
          [
           "3479_7"
          ],
          [
           "3414_15"
          ],
          [
           "3490_3"
          ],
          [
           "321_5"
          ],
          [
           "3605_2"
          ],
          [
           "363_6"
          ],
          [
           "3504_4"
          ],
          [
           "3426_6"
          ],
          [
           "3415_2"
          ],
          [
           "3426_11"
          ],
          [
           "309_11"
          ],
          [
           "3411_1"
          ],
          [
           "3419_4"
          ],
          [
           "3479_5"
          ],
          [
           "3419_14"
          ],
          [
           "365_6"
          ],
          [
           "18899_8"
          ],
          [
           "3420_9"
          ],
          [
           "3503_8"
          ],
          [
           "3489_14"
          ],
          [
           "3424_3"
          ],
          [
           "3499_7"
          ],
          [
           "3415_9"
          ],
          [
           "3423_9"
          ],
          [
           "3517_4"
          ],
          [
           "3605_7"
          ],
          [
           "293_9"
          ],
          [
           "3491_14"
          ],
          [
           "365_8"
          ],
          [
           "3521_5"
          ],
          [
           "3501_9"
          ],
          [
           "3502_10"
          ],
          [
           "293_11"
          ],
          [
           "3525_12"
          ],
          [
           "50810F_13"
          ],
          [
           "3415_4"
          ],
          [
           "3490_14"
          ],
          [
           "3419_15"
          ],
          [
           "50810C_10"
          ],
          [
           "3423_13"
          ],
          [
           "3534_2"
          ],
          [
           "320_10"
          ],
          [
           "320_1"
          ],
          [
           "3525_7"
          ],
          [
           "3521_2"
          ],
          [
           "321_10"
          ],
          [
           "18899_2"
          ],
          [
           "364_4"
          ],
          [
           "50810C_8"
          ],
          [
           "J2292_14"
          ],
          [
           "50810A_9"
          ],
          [
           "309_4"
          ],
          [
           "3477_8"
          ],
          [
           "365_14"
          ],
          [
           "3525_15"
          ],
          [
           "3505_11"
          ],
          [
           "50810E_5"
          ],
          [
           "3501_7"
          ],
          [
           "3488_13"
          ],
          [
           "321_14"
          ],
          [
           "322_4"
          ],
          [
           "3422_1"
          ],
          [
           "3480_8"
          ],
          [
           "3499_11"
          ],
          [
           "3412_4"
          ],
          [
           "3416_3"
          ],
          [
           "3479_3"
          ],
          [
           "J1291_5"
          ],
          [
           "J2292_12"
          ],
          [
           "3490_5"
          ],
          [
           "3503_4"
          ],
          [
           "3503_5"
          ],
          [
           "3422_8"
          ],
          [
           "50810F_1"
          ],
          [
           "3489_4"
          ],
          [
           "3420_1"
          ],
          [
           "322_7"
          ],
          [
           "365_10"
          ],
          [
           "322_8"
          ],
          [
           "3502_13"
          ],
          [
           "309_13"
          ],
          [
           "3479_2"
          ],
          [
           "3489_13"
          ],
          [
           "50810F_11"
          ],
          [
           "3516_15"
          ],
          [
           "50810B_9"
          ],
          [
           "293_12"
          ],
          [
           "3413_5"
          ],
          [
           "3478_5"
          ],
          [
           "3420_6"
          ],
          [
           "3422_11"
          ],
          [
           "365_15"
          ],
          [
           "3525_3"
          ],
          [
           "3517_14"
          ],
          [
           "18899_9"
          ],
          [
           "3476_15"
          ],
          [
           "3500_7"
          ],
          [
           "3517_1"
          ],
          [
           "3480_2"
          ],
          [
           "309_3"
          ],
          [
           "3481_15"
          ],
          [
           "3411_13"
          ],
          [
           "3534_7"
          ],
          [
           "3483_10"
          ],
          [
           "3525_2"
          ],
          [
           "3478_4"
          ],
          [
           "3489_7"
          ],
          [
           "18899_4"
          ],
          [
           "50810C_2"
          ],
          [
           "3501_4"
          ],
          [
           "50810D_5"
          ],
          [
           "364_6"
          ],
          [
           "3513_5"
          ],
          [
           "3429_14"
          ],
          [
           "3504_15"
          ],
          [
           "3483_15"
          ],
          [
           "3416_7"
          ],
          [
           "3479_13"
          ],
          [
           "18899_14"
          ],
          [
           "3477_13"
          ],
          [
           "3477_9"
          ],
          [
           "3418_2"
          ],
          [
           "3500_13"
          ],
          [
           "3478_9"
          ],
          [
           "3477_7"
          ],
          [
           "3425_9"
          ],
          [
           "3480_6"
          ],
          [
           "3507_2"
          ],
          [
           "3417_6"
          ],
          [
           "321_11"
          ],
          [
           "3420_4"
          ],
          [
           "3520_1"
          ],
          [
           "J2292_3"
          ],
          [
           "311_11"
          ],
          [
           "322_13"
          ],
          [
           "3491_1"
          ],
          [
           "320_15"
          ],
          [
           "3417_3"
          ],
          [
           "3488_3"
          ],
          [
           "3418_6"
          ],
          [
           "364_11"
          ],
          [
           "J1291_4"
          ],
          [
           "50810A_1"
          ],
          [
           "50810D_9"
          ],
          [
           "50810D_7"
          ],
          [
           "365_2"
          ],
          [
           "3478_14"
          ],
          [
           "3418_5"
          ],
          [
           "50810F_5"
          ],
          [
           "3418_3"
          ],
          [
           "362_6"
          ],
          [
           "3481_11"
          ],
          [
           "3522_2"
          ],
          [
           "3484_2"
          ],
          [
           "3480_15"
          ],
          [
           "50810E_11"
          ],
          [
           "322_1"
          ],
          [
           "50810F_9"
          ],
          [
           "3499_3"
          ],
          [
           "361_8"
          ],
          [
           "362_11"
          ],
          [
           "3418_11"
          ],
          [
           "3421_15"
          ],
          [
           "50810A_5"
          ],
          [
           "3478_7"
          ],
          [
           "3413_3"
          ],
          [
           "3489_10"
          ],
          [
           "365_12"
          ],
          [
           "3507_6"
          ],
          [
           "50810B_12"
          ],
          [
           "50810B_11"
          ],
          [
           "3488_12"
          ],
          [
           "3498_1"
          ],
          [
           "3605_8"
          ],
          [
           "3416_1"
          ],
          [
           "362_7"
          ],
          [
           "361_14"
          ],
          [
           "3490_1"
          ],
          [
           "3516_2"
          ],
          [
           "3606_8"
          ],
          [
           "3521_3"
          ],
          [
           "50810B_10"
          ],
          [
           "3513_9"
          ],
          [
           "3476_1"
          ],
          [
           "3478_13"
          ],
          [
           "3504_7"
          ],
          [
           "3417_15"
          ],
          [
           "311_15"
          ],
          [
           "3412_1"
          ],
          [
           "3503_9"
          ],
          [
           "3424_14"
          ],
          [
           "3479_15"
          ],
          [
           "3606_4"
          ],
          [
           "3411_9"
          ],
          [
           "3414_3"
          ],
          [
           "3497_6"
          ],
          [
           "3421_9"
          ],
          [
           "J2292_4"
          ],
          [
           "322_6"
          ],
          [
           "3426_8"
          ],
          [
           "50810E_14"
          ],
          [
           "3484_8"
          ],
          [
           "3503_15"
          ],
          [
           "3501_13"
          ],
          [
           "3484_3"
          ],
          [
           "3420_12"
          ],
          [
           "3500_11"
          ],
          [
           "50810D_1"
          ],
          [
           "50810B_14"
          ],
          [
           "3477_6"
          ],
          [
           "3501_8"
          ],
          [
           "3530_11"
          ],
          [
           "3517_7"
          ],
          [
           "3503_10"
          ],
          [
           "3483_14"
          ],
          [
           "3423_8"
          ],
          [
           "322_12"
          ],
          [
           "3499_5"
          ],
          [
           "320_4"
          ],
          [
           "3418_7"
          ],
          [
           "362_5"
          ],
          [
           "3419_10"
          ],
          [
           "50810F_8"
          ],
          [
           "3605_4"
          ],
          [
           "3502_7"
          ],
          [
           "3415_3"
          ],
          [
           "3415_10"
          ],
          [
           "3429_1"
          ],
          [
           "3415_8"
          ],
          [
           "50810E_9"
          ],
          [
           "3481_3"
          ],
          [
           "J1291_1"
          ],
          [
           "3416_10"
          ],
          [
           "3525_1"
          ],
          [
           "3534_15"
          ],
          [
           "3606_10"
          ],
          [
           "309_6"
          ],
          [
           "3477_11"
          ],
          [
           "3605_14"
          ],
          [
           "3499_15"
          ],
          [
           "3499_8"
          ],
          [
           "3480_10"
          ],
          [
           "3429_6"
          ],
          [
           "3477_15"
          ],
          [
           "3426_9"
          ],
          [
           "3417_2"
          ],
          [
           "3426_14"
          ],
          [
           "364_12"
          ],
          [
           "3416_15"
          ],
          [
           "362_12"
          ],
          [
           "3490_12"
          ],
          [
           "50810C_11"
          ],
          [
           "3522_6"
          ],
          [
           "3488_10"
          ],
          [
           "3491_7"
          ],
          [
           "3416_13"
          ],
          [
           "3507_14"
          ],
          [
           "50810C_14"
          ],
          [
           "3503_11"
          ],
          [
           "3417_5"
          ],
          [
           "365_1"
          ],
          [
           "3422_2"
          ],
          [
           "309_10"
          ],
          [
           "50810F_6"
          ],
          [
           "3419_2"
          ],
          [
           "363_5"
          ],
          [
           "3484_11"
          ],
          [
           "3415_7"
          ],
          [
           "3414_14"
          ],
          [
           "50810E_8"
          ],
          [
           "293_7"
          ],
          [
           "3500_15"
          ],
          [
           "18899_7"
          ],
          [
           "3420_2"
          ],
          [
           "3605_11"
          ],
          [
           "3424_11"
          ],
          [
           "3516_12"
          ],
          [
           "3500_3"
          ],
          [
           "3426_2"
          ],
          [
           "3416_11"
          ],
          [
           "3423_2"
          ],
          [
           "50810B_8"
          ],
          [
           "3412_13"
          ],
          [
           "J3295_14"
          ],
          [
           "3489_5"
          ],
          [
           "3424_15"
          ],
          [
           "3525_6"
          ],
          [
           "3476_10"
          ],
          [
           "3488_5"
          ],
          [
           "3481_7"
          ],
          [
           "309_8"
          ],
          [
           "50810C_13"
          ],
          [
           "294_6"
          ],
          [
           "3480_13"
          ],
          [
           "3429_4"
          ],
          [
           "3420_14"
          ],
          [
           "3478_15"
          ],
          [
           "3522_5"
          ],
          [
           "3489_9"
          ],
          [
           "3498_4"
          ],
          [
           "3424_1"
          ],
          [
           "3505_6"
          ],
          [
           "3476_7"
          ],
          [
           "3505_5"
          ],
          [
           "361_10"
          ],
          [
           "3525_9"
          ],
          [
           "3530_6"
          ],
          [
           "3490_9"
          ],
          [
           "3513_11"
          ],
          [
           "3517_9"
          ],
          [
           "3522_9"
          ],
          [
           "3534_14"
          ],
          [
           "3530_14"
          ],
          [
           "294_14"
          ],
          [
           "3500_4"
          ],
          [
           "3416_9"
          ],
          [
           "3606_9"
          ],
          [
           "3420_3"
          ],
          [
           "3483_5"
          ],
          [
           "3415_5"
          ],
          [
           "3521_14"
          ],
          [
           "3477_3"
          ],
          [
           "3422_13"
          ],
          [
           "50810F_10"
          ],
          [
           "3414_13"
          ],
          [
           "3490_6"
          ],
          [
           "320_14"
          ],
          [
           "3422_15"
          ],
          [
           "3520_14"
          ],
          [
           "3429_15"
          ],
          [
           "3481_2"
          ],
          [
           "3414_6"
          ],
          [
           "3477_12"
          ],
          [
           "50810D_4"
          ],
          [
           "3516_6"
          ],
          [
           "363_8"
          ],
          [
           "3516_10"
          ],
          [
           "50810E_1"
          ],
          [
           "3476_5"
          ],
          [
           "309_1"
          ],
          [
           "50810F_3"
          ],
          [
           "3484_1"
          ],
          [
           "3497_8"
          ],
          [
           "3478_2"
          ],
          [
           "3534_13"
          ],
          [
           "3429_12"
          ],
          [
           "3516_13"
          ],
          [
           "3513_13"
          ],
          [
           "3525_8"
          ],
          [
           "3429_8"
          ],
          [
           "3412_8"
          ],
          [
           "3423_1"
          ],
          [
           "3520_6"
          ],
          [
           "50810C_4"
          ],
          [
           "3522_14"
          ],
          [
           "3504_2"
          ],
          [
           "3517_13"
          ],
          [
           "3499_1"
          ],
          [
           "3525_13"
          ],
          [
           "3413_2"
          ],
          [
           "3484_4"
          ],
          [
           "3490_10"
          ],
          [
           "364_5"
          ],
          [
           "50810B_4"
          ],
          [
           "3513_12"
          ],
          [
           "322_10"
          ],
          [
           "365_7"
          ],
          [
           "3520_12"
          ],
          [
           "3477_1"
          ],
          [
           "3516_3"
          ],
          [
           "3478_12"
          ],
          [
           "3521_10"
          ],
          [
           "3490_15"
          ],
          [
           "3522_8"
          ],
          [
           "3425_11"
          ],
          [
           "3521_1"
          ],
          [
           "3479_9"
          ],
          [
           "3476_13"
          ],
          [
           "294_15"
          ],
          [
           "311_14"
          ],
          [
           "3504_14"
          ],
          [
           "3413_14"
          ],
          [
           "3522_7"
          ],
          [
           "3411_11"
          ],
          [
           "50810F_14"
          ],
          [
           "3605_5"
          ],
          [
           "3412_5"
          ],
          [
           "3411_3"
          ],
          [
           "3521_6"
          ],
          [
           "3412_9"
          ],
          [
           "309_7"
          ],
          [
           "3411_15"
          ],
          [
           "J2292_13"
          ],
          [
           "3498_5"
          ],
          [
           "3481_12"
          ],
          [
           "3416_5"
          ],
          [
           "322_14"
          ],
          [
           "3530_2"
          ],
          [
           "3490_8"
          ],
          [
           "3500_14"
          ],
          [
           "3521_11"
          ],
          [
           "50810B_3"
          ],
          [
           "3500_10"
          ],
          [
           "3420_11"
          ],
          [
           "3420_5"
          ],
          [
           "3501_6"
          ],
          [
           "3520_13"
          ],
          [
           "J3295_13"
          ],
          [
           "3416_6"
          ],
          [
           "3501_1"
          ],
          [
           "3413_6"
          ],
          [
           "320_12"
          ],
          [
           "3507_4"
          ],
          [
           "361_1"
          ],
          [
           "3490_2"
          ],
          [
           "3534_4"
          ],
          [
           "3481_4"
          ],
          [
           "3424_4"
          ],
          [
           "311_10"
          ],
          [
           "3490_11"
          ],
          [
           "3416_14"
          ],
          [
           "3483_3"
          ],
          [
           "3530_13"
          ],
          [
           "3484_7"
          ],
          [
           "3522_11"
          ],
          [
           "3497_9"
          ],
          [
           "3423_5"
          ],
          [
           "362_10"
          ],
          [
           "3417_14"
          ],
          [
           "3530_1"
          ],
          [
           "3422_10"
          ],
          [
           "50810A_6"
          ],
          [
           "3412_12"
          ],
          [
           "311_4"
          ],
          [
           "3414_1"
          ],
          [
           "3505_8"
          ],
          [
           "322_2"
          ],
          [
           "364_3"
          ],
          [
           "3513_1"
          ],
          [
           "364_9"
          ],
          [
           "3425_13"
          ],
          [
           "3484_9"
          ],
          [
           "293_3"
          ],
          [
           "3505_13"
          ],
          [
           "3421_8"
          ],
          [
           "3516_8"
          ],
          [
           "363_11"
          ],
          [
           "3501_5"
          ],
          [
           "3423_7"
          ],
          [
           "50810A_4"
          ],
          [
           "3425_5"
          ],
          [
           "3502_3"
          ],
          [
           "3497_1"
          ],
          [
           "50810D_8"
          ],
          [
           "322_15"
          ],
          [
           "3491_12"
          ],
          [
           "3488_6"
          ],
          [
           "18899_12"
          ],
          [
           "3507_10"
          ],
          [
           "50810D_13"
          ],
          [
           "3415_15"
          ],
          [
           "3517_15"
          ],
          [
           "3426_12"
          ],
          [
           "363_7"
          ],
          [
           "363_14"
          ],
          [
           "309_12"
          ],
          [
           "50810A_7"
          ],
          [
           "3483_6"
          ],
          [
           "50810B_6"
          ],
          [
           "320_13"
          ],
          [
           "3412_3"
          ],
          [
           "50810D_12"
          ],
          [
           "3414_7"
          ],
          [
           "50810E_6"
          ],
          [
           "50810F_7"
          ],
          [
           "3516_5"
          ],
          [
           "3491_13"
          ],
          [
           "J1291_11"
          ],
          [
           "3530_3"
          ],
          [
           "363_15"
          ],
          [
           "362_3"
          ],
          [
           "3479_6"
          ],
          [
           "311_1"
          ],
          [
           "3411_2"
          ],
          [
           "3478_10"
          ],
          [
           "3476_11"
          ],
          [
           "3420_13"
          ],
          [
           "3412_15"
          ],
          [
           "3499_10"
          ],
          [
           "3489_12"
          ],
          [
           "311_8"
          ],
          [
           "3480_12"
          ],
          [
           "3501_15"
          ],
          [
           "3426_7"
          ],
          [
           "3534_9"
          ],
          [
           "3479_11"
          ],
          [
           "50810F_12"
          ],
          [
           "3504_1"
          ],
          [
           "3421_6"
          ],
          [
           "3419_9"
          ],
          [
           "3411_4"
          ],
          [
           "3499_4"
          ],
          [
           "3418_9"
          ],
          [
           "322_9"
          ],
          [
           "293_10"
          ],
          [
           "364_15"
          ],
          [
           "50810C_1"
          ],
          [
           "50810F_15"
          ],
          [
           "294_4"
          ],
          [
           "3415_1"
          ],
          [
           "3606_12"
          ],
          [
           "3414_11"
          ],
          [
           "3422_12"
          ],
          [
           "3413_9"
          ],
          [
           "364_2"
          ],
          [
           "3500_12"
          ],
          [
           "3481_8"
          ],
          [
           "3525_11"
          ],
          [
           "J2292_5"
          ],
          [
           "3507_13"
          ],
          [
           "50810E_2"
          ],
          [
           "3489_3"
          ],
          [
           "50810E_10"
          ],
          [
           "361_4"
          ],
          [
           "3520_7"
          ],
          [
           "3507_12"
          ],
          [
           "3424_9"
          ],
          [
           "3513_3"
          ],
          [
           "321_13"
          ],
          [
           "3417_4"
          ],
          [
           "3426_5"
          ],
          [
           "3507_1"
          ],
          [
           "3504_6"
          ],
          [
           "3484_10"
          ],
          [
           "362_14"
          ],
          [
           "321_2"
          ],
          [
           "3480_5"
          ],
          [
           "3419_1"
          ],
          [
           "3499_13"
          ],
          [
           "3421_7"
          ],
          [
           "50810B_7"
          ],
          [
           "3530_10"
          ],
          [
           "18899_3"
          ],
          [
           "362_9"
          ],
          [
           "50810E_12"
          ],
          [
           "3422_9"
          ],
          [
           "3502_9"
          ],
          [
           "3477_5"
          ],
          [
           "3479_12"
          ],
          [
           "361_15"
          ],
          [
           "3477_14"
          ],
          [
           "3521_15"
          ],
          [
           "3520_5"
          ],
          [
           "3498_12"
          ],
          [
           "50810E_7"
          ],
          [
           "321_6"
          ],
          [
           "3480_9"
          ],
          [
           "3525_4"
          ],
          [
           "3521_8"
          ],
          [
           "3424_6"
          ],
          [
           "3505_9"
          ],
          [
           "50810A_10"
          ],
          [
           "293_13"
          ],
          [
           "3478_6"
          ],
          [
           "311_5"
          ],
          [
           "3513_2"
          ],
          [
           "50810B_1"
          ],
          [
           "50810C_6"
          ],
          [
           "50810D_3"
          ],
          [
           "3490_13"
          ],
          [
           "293_8"
          ],
          [
           "320_9"
          ],
          [
           "3412_11"
          ],
          [
           "3503_6"
          ],
          [
           "50810E_15"
          ],
          [
           "3502_1"
          ],
          [
           "J3295_15"
          ],
          [
           "3426_4"
          ],
          [
           "294_5"
          ],
          [
           "3504_9"
          ],
          [
           "3522_3"
          ],
          [
           "365_3"
          ],
          [
           "3429_11"
          ],
          [
           "361_11"
          ],
          [
           "363_4"
          ],
          [
           "J2292_15"
          ],
          [
           "18899_10"
          ],
          [
           "311_3"
          ],
          [
           "3520_8"
          ],
          [
           "3478_8"
          ],
          [
           "362_1"
          ],
          [
           "3501_3"
          ],
          [
           "J1291_14"
          ],
          [
           "3413_11"
          ],
          [
           "3507_11"
          ],
          [
           "J1291_9"
          ],
          [
           "293_4"
          ],
          [
           "3417_7"
          ],
          [
           "3413_1"
          ],
          [
           "3477_2"
          ],
          [
           "3476_12"
          ],
          [
           "3517_12"
          ],
          [
           "3606_3"
          ],
          [
           "3530_4"
          ],
          [
           "3501_10"
          ],
          [
           "3489_8"
          ],
          [
           "3484_13"
          ],
          [
           "321_1"
          ],
          [
           "3424_12"
          ],
          [
           "294_8"
          ],
          [
           "18899_11"
          ],
          [
           "3412_7"
          ],
          [
           "311_2"
          ],
          [
           "3489_2"
          ],
          [
           "321_4"
          ],
          [
           "3413_12"
          ],
          [
           "3421_14"
          ],
          [
           "3489_6"
          ],
          [
           "3534_6"
          ],
          [
           "3530_5"
          ],
          [
           "3481_1"
          ],
          [
           "364_14"
          ],
          [
           "3605_12"
          ],
          [
           "3418_15"
          ],
          [
           "3500_1"
          ],
          [
           "311_12"
          ],
          [
           "3498_8"
          ],
          [
           "3422_3"
          ],
          [
           "J1291_3"
          ],
          [
           "3484_5"
          ],
          [
           "3500_5"
          ],
          [
           "320_8"
          ],
          [
           "3522_10"
          ],
          [
           "J1291_15"
          ],
          [
           "3484_15"
          ],
          [
           "3424_5"
          ],
          [
           "J3295_1"
          ],
          [
           "361_13"
          ],
          [
           "3425_10"
          ],
          [
           "3425_4"
          ],
          [
           "3606_6"
          ],
          [
           "3413_15"
          ],
          [
           "3425_15"
          ],
          [
           "3426_10"
          ],
          [
           "3488_9"
          ],
          [
           "J3295_2"
          ],
          [
           "3421_3"
          ],
          [
           "3414_10"
          ],
          [
           "294_11"
          ],
          [
           "361_6"
          ],
          [
           "3513_8"
          ],
          [
           "294_13"
          ],
          [
           "293_1"
          ],
          [
           "3534_8"
          ],
          [
           "294_3"
          ],
          [
           "3425_12"
          ],
          [
           "3534_5"
          ],
          [
           "3517_3"
          ],
          [
           "3507_7"
          ],
          [
           "3500_2"
          ],
          [
           "3530_7"
          ],
          [
           "3499_14"
          ],
          [
           "50810F_2"
          ],
          [
           "50810D_15"
          ],
          [
           "3517_5"
          ],
          [
           "3416_2"
          ],
          [
           "3498_6"
          ],
          [
           "3522_13"
          ],
          [
           "3507_15"
          ],
          [
           "321_9"
          ],
          [
           "294_2"
          ],
          [
           "50810A_14"
          ],
          [
           "J3295_8"
          ],
          [
           "3419_13"
          ],
          [
           "3505_14"
          ],
          [
           "3425_3"
          ],
          [
           "3421_2"
          ],
          [
           "309_9"
          ],
          [
           "50810C_5"
          ],
          [
           "320_7"
          ],
          [
           "3423_3"
          ],
          [
           "3505_7"
          ],
          [
           "3503_14"
          ],
          [
           "3477_4"
          ],
          [
           "18899_13"
          ],
          [
           "3414_2"
          ],
          [
           "3429_9"
          ],
          [
           "3605_1"
          ],
          [
           "3605_13"
          ],
          [
           "3491_8"
          ],
          [
           "362_8"
          ],
          [
           "3417_11"
          ],
          [
           "365_13"
          ],
          [
           "50810D_10"
          ],
          [
           "294_1"
          ],
          [
           "3498_14"
          ],
          [
           "3502_14"
          ],
          [
           "3504_11"
          ],
          [
           "3513_6"
          ],
          [
           "3516_11"
          ],
          [
           "50810B_2"
          ],
          [
           "3481_9"
          ],
          [
           "293_6"
          ],
          [
           "3521_13"
          ],
          [
           "3521_12"
          ],
          [
           "3605_15"
          ],
          [
           "3480_1"
          ],
          [
           "18899_6"
          ],
          [
           "3491_15"
          ],
          [
           "3505_15"
          ],
          [
           "3502_6"
          ],
          [
           "3480_4"
          ],
          [
           "3423_14"
          ],
          [
           "3478_11"
          ],
          [
           "3413_7"
          ],
          [
           "3520_4"
          ],
          [
           "3425_14"
          ],
          [
           "3417_9"
          ],
          [
           "3521_9"
          ],
          [
           "3501_2"
          ],
          [
           "J1291_10"
          ],
          [
           "3419_3"
          ],
          [
           "3417_10"
          ],
          [
           "364_10"
          ],
          [
           "365_9"
          ],
          [
           "3421_4"
          ],
          [
           "50810A_11"
          ],
          [
           "3520_3"
          ],
          [
           "3413_4"
          ],
          [
           "3419_8"
          ],
          [
           "3422_4"
          ],
          [
           "3606_11"
          ],
          [
           "3503_7"
          ],
          [
           "50810D_11"
          ],
          [
           "3498_2"
          ],
          [
           "3483_4"
          ],
          [
           "3517_8"
          ],
          [
           "3483_8"
          ],
          [
           "3513_4"
          ],
          [
           "3520_10"
          ],
          [
           "3504_8"
          ],
          [
           "50810A_13"
          ],
          [
           "3498_10"
          ],
          [
           "3483_11"
          ],
          [
           "3418_1"
          ],
          [
           "3517_11"
          ],
          [
           "3420_10"
          ],
          [
           "3504_12"
          ],
          [
           "309_2"
          ],
          [
           "3476_4"
          ],
          [
           "50810C_3"
          ],
          [
           "3415_6"
          ],
          [
           "3429_10"
          ],
          [
           "3421_12"
          ],
          [
           "3476_14"
          ],
          [
           "3497_12"
          ],
          [
           "J3295_4"
          ],
          [
           "3534_12"
          ],
          [
           "3488_15"
          ],
          [
           "362_13"
          ],
          [
           "50810E_3"
          ],
          [
           "3422_7"
          ],
          [
           "3488_2"
          ],
          [
           "3606_5"
          ],
          [
           "3507_8"
          ],
          [
           "363_2"
          ],
          [
           "3500_8"
          ],
          [
           "3426_15"
          ],
          [
           "3417_8"
          ],
          [
           "3522_12"
          ],
          [
           "3484_14"
          ],
          [
           "3606_2"
          ],
          [
           "3522_4"
          ],
          [
           "3425_2"
          ],
          [
           "3500_9"
          ],
          [
           "3605_9"
          ],
          [
           "3498_11"
          ],
          [
           "361_2"
          ],
          [
           "3478_3"
          ],
          [
           "3505_4"
          ],
          [
           "50810D_6"
          ],
          [
           "3513_15"
          ],
          [
           "293_5"
          ],
          [
           "3480_14"
          ],
          [
           "362_4"
          ],
          [
           "3418_10"
          ],
          [
           "3429_13"
          ],
          [
           "3504_3"
          ],
          [
           "364_13"
          ],
          [
           "3497_2"
          ],
          [
           "3497_10"
          ],
          [
           "3420_15"
          ],
          [
           "J1291_7"
          ],
          [
           "50810C_12"
          ],
          [
           "3424_8"
          ],
          [
           "3480_3"
          ],
          [
           "3488_11"
          ],
          [
           "3504_10"
          ],
          [
           "J3295_11"
          ],
          [
           "3534_3"
          ],
          [
           "3479_10"
          ],
          [
           "J2292_1"
          ],
          [
           "3429_5"
          ],
          [
           "J1291_8"
          ],
          [
           "50810B_15"
          ],
          [
           "3505_1"
          ],
          [
           "3425_6"
          ],
          [
           "J2292_2"
          ],
          [
           "361_7"
          ],
          [
           "3414_8"
          ],
          [
           "3534_1"
          ],
          [
           "3415_11"
          ],
          [
           "3503_3"
          ],
          [
           "363_9"
          ],
          [
           "3491_5"
          ],
          [
           "294_10"
          ],
          [
           "3489_15"
          ],
          [
           "320_6"
          ],
          [
           "3516_1"
          ],
          [
           "3412_6"
          ],
          [
           "3505_10"
          ],
          [
           "3513_7"
          ],
          [
           "3426_3"
          ],
          [
           "3425_7"
          ],
          [
           "3481_5"
          ],
          [
           "3411_14"
          ],
          [
           "3498_15"
          ],
          [
           "3499_6"
          ],
          [
           "J2292_9"
          ],
          [
           "3503_1"
          ],
          [
           "3418_8"
          ],
          [
           "3476_9"
          ],
          [
           "3414_5"
          ],
          [
           "363_1"
          ],
          [
           "3423_11"
          ],
          [
           "3498_7"
          ],
          [
           "3516_14"
          ],
          [
           "3476_3"
          ],
          [
           "3491_9"
          ],
          [
           "3419_12"
          ],
          [
           "50810A_3"
          ],
          [
           "3530_15"
          ],
          [
           "3483_1"
          ],
          [
           "50810A_8"
          ],
          [
           "3502_2"
          ],
          [
           "3425_8"
          ],
          [
           "3420_8"
          ],
          [
           "309_5"
          ],
          [
           "3502_4"
          ],
          [
           "3504_13"
          ],
          [
           "3513_14"
          ],
          [
           "50810E_13"
          ],
          [
           "3417_13"
          ],
          [
           "3418_4"
          ],
          [
           "3516_7"
          ],
          [
           "3411_6"
          ],
          [
           "J3295_9"
          ],
          [
           "361_9"
          ],
          [
           "3499_9"
          ],
          [
           "3534_10"
          ],
          [
           "3411_8"
          ],
          [
           "3414_4"
          ],
          [
           "50810D_2"
          ],
          [
           "3488_8"
          ],
          [
           "321_3"
          ],
          [
           "320_3"
          ],
          [
           "50810C_15"
          ],
          [
           "3502_15"
          ],
          [
           "3606_15"
          ],
          [
           "3419_6"
          ],
          [
           "3520_15"
          ],
          [
           "311_13"
          ],
          [
           "3491_11"
          ],
          [
           "3500_6"
          ],
          [
           "3481_10"
          ],
          [
           "3502_8"
          ],
          [
           "3497_4"
          ],
          [
           "365_4"
          ],
          [
           "50810D_14"
          ],
          [
           "3522_15"
          ],
          [
           "50810A_2"
          ],
          [
           "3416_8"
          ],
          [
           "3488_4"
          ],
          [
           "3521_4"
          ],
          [
           "322_3"
          ],
          [
           "3424_7"
          ],
          [
           "3505_3"
          ],
          [
           "3520_9"
          ],
          [
           "J3295_6"
          ],
          [
           "3489_11"
          ],
          [
           "3606_14"
          ],
          [
           "J1291_12"
          ],
          [
           "322_5"
          ],
          [
           "3605_3"
          ],
          [
           "309_15"
          ],
          [
           "294_7"
          ],
          [
           "320_11"
          ],
          [
           "3481_13"
          ],
          [
           "3497_5"
          ],
          [
           "3413_8"
          ],
          [
           "3501_14"
          ],
          [
           "3420_7"
          ],
          [
           "50810C_7"
          ],
          [
           "3530_12"
          ],
          [
           "321_8"
          ],
          [
           "3483_9"
          ],
          [
           "3479_8"
          ],
          [
           "3418_14"
          ],
          [
           "293_15"
          ],
          [
           "3411_5"
          ],
          [
           "365_11"
          ],
          [
           "363_12"
          ],
          [
           "3503_12"
          ],
          [
           "3411_7"
          ],
          [
           "3423_12"
          ],
          [
           "3423_6"
          ],
          [
           "364_1"
          ],
          [
           "3605_6"
          ],
          [
           "3476_8"
          ],
          [
           "362_15"
          ],
          [
           "3491_6"
          ],
          [
           "3419_7"
          ]
         ],
         "hovertemplate": "0=%{x}<br>1=%{y}<br>2=%{z}<br>Feature=%{customdata[0]}<br>Label=%{marker.color}<extra></extra>",
         "legendgroup": "",
         "marker": {
          "color": [
           0,
           1,
           0,
           0,
           0,
           0,
           0,
           0,
           0,
           0,
           0,
           0,
           0,
           0,
           0,
           0,
           0,
           0,
           0,
           0,
           0,
           0,
           0,
           1,
           0,
           0,
           0,
           0,
           1,
           0,
           0,
           0,
           0,
           0,
           0,
           0,
           0,
           0,
           0,
           0,
           0,
           0,
           0,
           0,
           0,
           0,
           1,
           1,
           0,
           0,
           1,
           0,
           0,
           0,
           0,
           0,
           0,
           0,
           0,
           0,
           0,
           0,
           0,
           0,
           0,
           0,
           0,
           0,
           0,
           0,
           0,
           0,
           0,
           0,
           0,
           0,
           0,
           0,
           0,
           0,
           0,
           0,
           0,
           0,
           0,
           0,
           0,
           0,
           0,
           0,
           0,
           0,
           0,
           0,
           0,
           0,
           0,
           0,
           0,
           0,
           0,
           0,
           0,
           0,
           0,
           0,
           0,
           0,
           0,
           0,
           0,
           0,
           0,
           0,
           0,
           0,
           0,
           0,
           0,
           0,
           0,
           0,
           0,
           0,
           0,
           0,
           0,
           0,
           0,
           0,
           0,
           0,
           0,
           0,
           0,
           0,
           0,
           0,
           0,
           0,
           0,
           0,
           0,
           0,
           0,
           0,
           0,
           0,
           0,
           0,
           0,
           0,
           0,
           0,
           0,
           0,
           0,
           0,
           0,
           0,
           0,
           0,
           0,
           0,
           0,
           0,
           0,
           0,
           0,
           0,
           0,
           0,
           0,
           0,
           0,
           0,
           0,
           0,
           0,
           0,
           0,
           0,
           0,
           0,
           0,
           0,
           0,
           0,
           1,
           0,
           0,
           0,
           0,
           0,
           0,
           0,
           0,
           0,
           0,
           0,
           0,
           1,
           0,
           0,
           0,
           0,
           0,
           0,
           0,
           0,
           0,
           0,
           0,
           0,
           0,
           0,
           0,
           0,
           1,
           0,
           0,
           0,
           0,
           0,
           0,
           0,
           0,
           0,
           0,
           0,
           0,
           0,
           0,
           0,
           0,
           0,
           0,
           1,
           0,
           0,
           0,
           0,
           0,
           0,
           0,
           0,
           1,
           0,
           0,
           0,
           0,
           0,
           0,
           0,
           0,
           0,
           0,
           1,
           0,
           0,
           0,
           0,
           0,
           0,
           0,
           0,
           0,
           0,
           0,
           0,
           0,
           0,
           0,
           0,
           1,
           0,
           0,
           0,
           0,
           0,
           0,
           0,
           0,
           0,
           0,
           1,
           0,
           0,
           0,
           0,
           0,
           0,
           0,
           0,
           0,
           0,
           0,
           0,
           0,
           0,
           0,
           0,
           0,
           0,
           0,
           0,
           0,
           0,
           1,
           0,
           0,
           0,
           0,
           0,
           0,
           0,
           1,
           0,
           1,
           0,
           0,
           0,
           0,
           0,
           0,
           0,
           0,
           0,
           0,
           0,
           0,
           0,
           0,
           0,
           0,
           0,
           0,
           0,
           0,
           0,
           0,
           0,
           0,
           0,
           0,
           0,
           0,
           0,
           0,
           0,
           0,
           0,
           0,
           0,
           0,
           0,
           0,
           0,
           0,
           0,
           0,
           0,
           0,
           0,
           0,
           0,
           0,
           0,
           0,
           0,
           0,
           0,
           0,
           0,
           0,
           0,
           0,
           0,
           0,
           0,
           1,
           0,
           0,
           0,
           0,
           0,
           0,
           1,
           0,
           0,
           0,
           0,
           0,
           0,
           0,
           0,
           0,
           0,
           0,
           1,
           0,
           0,
           0,
           0,
           0,
           0,
           0,
           0,
           0,
           0,
           0,
           0,
           0,
           0,
           0,
           0,
           0,
           0,
           0,
           0,
           0,
           0,
           0,
           0,
           0,
           0,
           0,
           1,
           0,
           0,
           0,
           0,
           0,
           0,
           0,
           0,
           0,
           0,
           0,
           0,
           0,
           0,
           0,
           0,
           0,
           1,
           0,
           0,
           0,
           0,
           1,
           0,
           0,
           0,
           0,
           0,
           0,
           0,
           0,
           0,
           0,
           0,
           0,
           0,
           0,
           0,
           0,
           0,
           0,
           0,
           0,
           0,
           0,
           0,
           0,
           0,
           0,
           0,
           0,
           0,
           0,
           0,
           0,
           0,
           0,
           0,
           0,
           0,
           0,
           0,
           0,
           0,
           0,
           0,
           0,
           0,
           0,
           0,
           0,
           0,
           0,
           0,
           0,
           0,
           0,
           0,
           0,
           0,
           0,
           0,
           0,
           1,
           0,
           0,
           0,
           0,
           0,
           0,
           0,
           0,
           0,
           1,
           0,
           0,
           0,
           0,
           0,
           0,
           0,
           0,
           0,
           0,
           0,
           0,
           0,
           0,
           0,
           0,
           0,
           0,
           0,
           0,
           0,
           0,
           0,
           0,
           0,
           0,
           0,
           0,
           0,
           0,
           0,
           0,
           0,
           0,
           1,
           0,
           0,
           0,
           0,
           0,
           0,
           0,
           1,
           0,
           0,
           0,
           0,
           0,
           0,
           0,
           0,
           0,
           0,
           0,
           0,
           0,
           0,
           0,
           0,
           0,
           0,
           0,
           0,
           0,
           0,
           0,
           0,
           0,
           1,
           0,
           0,
           0,
           0,
           0,
           1,
           0,
           0,
           0,
           1,
           0,
           0,
           0,
           0,
           0,
           0,
           0,
           0,
           0,
           0,
           0,
           0,
           0,
           0,
           0,
           0,
           0,
           0,
           0,
           0,
           0,
           0,
           0,
           0,
           0,
           0,
           0,
           0,
           0,
           0,
           0,
           0,
           0,
           0,
           0,
           0,
           0,
           0,
           1,
           0,
           0,
           1,
           0,
           0,
           0,
           0,
           0,
           0,
           0,
           0,
           0,
           0,
           0,
           0,
           0,
           0,
           0,
           0,
           0,
           0,
           0,
           0,
           0,
           0,
           0,
           0,
           0,
           0,
           0,
           0,
           0,
           0,
           0,
           0,
           0,
           0,
           0,
           0,
           0,
           0,
           0,
           0,
           0,
           0,
           0,
           0,
           0,
           0,
           0,
           0,
           0,
           0,
           0,
           0,
           0,
           0,
           0,
           0,
           0,
           0,
           1,
           0,
           0,
           0,
           0,
           0,
           0,
           0,
           0,
           1,
           0,
           0,
           0,
           0,
           0,
           0,
           0,
           0,
           0,
           1,
           0,
           0,
           0,
           0,
           0,
           0,
           0,
           0,
           0,
           0,
           0,
           0,
           0,
           0,
           0,
           0,
           0,
           1,
           0,
           0,
           0,
           0,
           0,
           0,
           0,
           1,
           0,
           0,
           0,
           0,
           0,
           0,
           0,
           0,
           0,
           0,
           0,
           0,
           0,
           0,
           0,
           0,
           0,
           0,
           1,
           0,
           0,
           0,
           0,
           0,
           0,
           0,
           0,
           0,
           0,
           0,
           0,
           0,
           0,
           0,
           0,
           0,
           0,
           0,
           0,
           1,
           0,
           0,
           0,
           0,
           0,
           0,
           0,
           0,
           0,
           0,
           0,
           0,
           0,
           0,
           0,
           0,
           1,
           0,
           0,
           0,
           0,
           0,
           1,
           0,
           0,
           0,
           0,
           0,
           0,
           0,
           0,
           0,
           0,
           0,
           0,
           0,
           0,
           0,
           0,
           0,
           0,
           0,
           0,
           0,
           0,
           0,
           0,
           0,
           0,
           0,
           0,
           0,
           0,
           0,
           0,
           0,
           0,
           0,
           0,
           0,
           0,
           0,
           0,
           0,
           0,
           0,
           0,
           0,
           0,
           0,
           0,
           0,
           0,
           0,
           0,
           0,
           0,
           0,
           0,
           0,
           0,
           0,
           0,
           0,
           0,
           0,
           0,
           1,
           0,
           0,
           0,
           0,
           0,
           0,
           0,
           0,
           0,
           0,
           0,
           0,
           1,
           0,
           0,
           1,
           0,
           0,
           0,
           0,
           1,
           0,
           0,
           0,
           0,
           0,
           0,
           0,
           0,
           0,
           0,
           0,
           0,
           0,
           1,
           0,
           0,
           0,
           0,
           0,
           0,
           0,
           0,
           0,
           0,
           0,
           0,
           0,
           0,
           0,
           0,
           0,
           0,
           0,
           0,
           0,
           0,
           0,
           0,
           0,
           0,
           0,
           0,
           0,
           0,
           1,
           0,
           0,
           0,
           1,
           0,
           0,
           0,
           0,
           0,
           0,
           0,
           0,
           0,
           0,
           0,
           0,
           0,
           0,
           0,
           0,
           0,
           0,
           0,
           0,
           0,
           0,
           0,
           0,
           1,
           0,
           1,
           0,
           0,
           0,
           0,
           0,
           0,
           0,
           0,
           1,
           0,
           0,
           0,
           1,
           0,
           0,
           0,
           0,
           0,
           0,
           0,
           0,
           0,
           0,
           0,
           0,
           0,
           0,
           0,
           0,
           0,
           0,
           0,
           0,
           0,
           0,
           0,
           0,
           0,
           0,
           0,
           0,
           0,
           0,
           0,
           0,
           0,
           0,
           0,
           0,
           0,
           0,
           0,
           0,
           0
          ],
          "coloraxis": "coloraxis",
          "opacity": 0.7,
          "symbol": "circle"
         },
         "mode": "markers",
         "name": "",
         "scene": "scene",
         "showlegend": false,
         "type": "scatter3d",
         "x": [
          -11.217789649963379,
          8.788143157958984,
          -1.393836259841919,
          7.461807727813721,
          10.147123336791992,
          12.622431755065918,
          1.612443447113037,
          1.2572866678237915,
          9.602753639221191,
          0.2329920381307602,
          -11.458097457885742,
          8.571572303771973,
          10.071961402893066,
          -4.88435173034668,
          10.852779388427734,
          -4.670327663421631,
          2.935537815093994,
          -4.306290149688721,
          14.232466697692871,
          13.224079132080078,
          -4.951728343963623,
          -3.2099921703338623,
          -5.554233551025391,
          15.616781234741211,
          -7.54939079284668,
          3.445237636566162,
          -4.349935531616211,
          10.905149459838867,
          -7.34678316116333,
          -10.983110427856445,
          6.63667106628418,
          1.962717056274414,
          -3.714418888092041,
          -7.737583637237549,
          -0.7069904208183289,
          12.921518325805664,
          -10.989636421203613,
          4.43687105178833,
          -11.507878303527832,
          11.016109466552734,
          -8.09786319732666,
          8.858087539672852,
          1.5176674127578735,
          9.311849594116211,
          1.6579208374023438,
          0.13829225301742554,
          14.0345458984375,
          -3.9335711002349854,
          -9.370941162109375,
          8.91124153137207,
          1.6502610445022583,
          -2.6790244579315186,
          -7.8558197021484375,
          -4.2693281173706055,
          12.312541007995605,
          -8.005922317504883,
          -2.449878692626953,
          4.088662624359131,
          -10.040911674499512,
          10.325946807861328,
          -5.428318977355957,
          12.517645835876465,
          4.000770568847656,
          -3.446324348449707,
          -8.207740783691406,
          -6.523316860198975,
          9.073126792907715,
          -8.997827529907227,
          -14.2920503616333,
          -7.282719135284424,
          -1.011195421218872,
          -2.820369243621826,
          6.063178062438965,
          -7.766973495483398,
          -0.49149250984191895,
          8.945270538330078,
          10.795950889587402,
          7.826355934143066,
          9.971261978149414,
          7.50927734375,
          -3.6519689559936523,
          3.4095847606658936,
          0.2199699431657791,
          -5.8911638259887695,
          -9.383389472961426,
          4.905308723449707,
          10.184019088745117,
          1.9510127305984497,
          8.835205078125,
          -6.548427104949951,
          15.945759773254395,
          6.219006061553955,
          -0.9229451417922974,
          -5.056888580322266,
          4.809311866760254,
          -9.088533401489258,
          12.91006088256836,
          -10.31921100616455,
          6.187633514404297,
          -0.7966837882995605,
          -1.4200570583343506,
          -8.950164794921875,
          6.383998870849609,
          0.7171670198440552,
          1.456878900527954,
          9.363849639892578,
          -8.741312980651855,
          -3.5582010746002197,
          -7.094248294830322,
          4.377037048339844,
          9.829885482788086,
          4.270588397979736,
          1.6399989128112793,
          4.783181190490723,
          2.675553798675537,
          -4.758224010467529,
          -3.929755687713623,
          2.8143470287323,
          -4.454545497894287,
          -5.550930500030518,
          -7.706699371337891,
          -1.598263144493103,
          3.365410327911377,
          -10.478821754455566,
          -7.749713897705078,
          6.164772033691406,
          3.4419102668762207,
          -10.00862979888916,
          -6.471922874450684,
          -6.795638561248779,
          10.191818237304688,
          0.901413083076477,
          -6.4760212898254395,
          4.989256858825684,
          -10.419445037841797,
          -13.238210678100586,
          9.744378089904785,
          -10.639946937561035,
          -12.018451690673828,
          2.133913993835449,
          5.197564601898193,
          -4.426416873931885,
          -0.745960533618927,
          -10.205886840820312,
          -11.464707374572754,
          -4.8981475830078125,
          -3.524942398071289,
          -9.480847358703613,
          4.358399868011475,
          -4.811166286468506,
          -8.187085151672363,
          -7.216850280761719,
          -0.2470182627439499,
          -3.5665810108184814,
          -0.7226977944374084,
          3.8528387546539307,
          -11.51857852935791,
          -7.464256286621094,
          -11.51291561126709,
          6.267248630523682,
          -2.4470837116241455,
          -10.131760597229004,
          -1.541761040687561,
          -5.8365559577941895,
          -1.9083529710769653,
          -5.249035835266113,
          4.600231647491455,
          6.5128045082092285,
          -1.022971272468567,
          7.556522846221924,
          3.343470335006714,
          10.439225196838379,
          -3.261268377304077,
          -7.773867130279541,
          3.5641236305236816,
          2.662670850753784,
          -4.76127290725708,
          -10.648241996765137,
          -10.107518196105957,
          -1.8361780643463135,
          -2.5081725120544434,
          -6.3867034912109375,
          -3.0946686267852783,
          -13.964353561401367,
          1.8578253984451294,
          3.416463613510132,
          -10.500560760498047,
          -12.998344421386719,
          10.345928192138672,
          15.389853477478027,
          10.37979793548584,
          1.5440800189971924,
          -1.3834214210510254,
          -1.4459068775177002,
          -4.951852321624756,
          -7.144146919250488,
          -8.60901165008545,
          -6.315884113311768,
          -8.013810157775879,
          7.004141330718994,
          0.9032152891159058,
          -6.519711494445801,
          4.765874862670898,
          4.299641132354736,
          -3.4141340255737305,
          -0.8800134658813477,
          -11.934608459472656,
          10.540461540222168,
          -8.474614143371582,
          -1.23111093044281,
          -9.995079040527344,
          -7.549325466156006,
          0.22841845452785492,
          -9.194450378417969,
          0.3585948944091797,
          -7.791404724121094,
          -1.8950860500335693,
          11.708297729492188,
          10.263535499572754,
          9.819245338439941,
          7.118541240692139,
          0.7939413785934448,
          -7.6488800048828125,
          -11.888996124267578,
          -10.830938339233398,
          -7.989844799041748,
          1.4918341636657715,
          -1.6000207662582397,
          -11.853100776672363,
          7.57658576965332,
          4.388136863708496,
          0.3966042697429657,
          2.544708251953125,
          -4.9690937995910645,
          -2.1170597076416016,
          4.500679016113281,
          -0.47832322120666504,
          -6.943967819213867,
          -3.9249563217163086,
          1.547202467918396,
          -6.406941890716553,
          2.201148271560669,
          -4.374456405639648,
          -7.074974060058594,
          -9.581589698791504,
          10.283859252929688,
          -0.8312046527862549,
          1.6530187129974365,
          1.3716224431991577,
          -2.609377384185791,
          -1.0500073432922363,
          -7.730149745941162,
          -11.543351173400879,
          -7.29912805557251,
          -2.788806915283203,
          -3.613337278366089,
          4.043498516082764,
          9.962468147277832,
          6.3245930671691895,
          -2.0636520385742188,
          -1.4292562007904053,
          -11.251574516296387,
          2.049619436264038,
          2.147000551223755,
          -2.712686061859131,
          -9.564184188842773,
          9.292156219482422,
          1.018893837928772,
          -1.2387467622756958,
          1.3369524478912354,
          -10.212506294250488,
          -6.790042400360107,
          -0.02793767862021923,
          14.730498313903809,
          14.68237590789795,
          -1.9228429794311523,
          13.720305442810059,
          -6.998153209686279,
          7.753657341003418,
          -1.9640157222747803,
          1.1627289056777954,
          -8.29013729095459,
          7.652940273284912,
          -5.0294108390808105,
          4.3434953689575195,
          14.66382122039795,
          -1.4295614957809448,
          3.948591470718384,
          -1.0316094160079956,
          9.927251815795898,
          3.846928596496582,
          -7.091456890106201,
          -1.3103175163269043,
          3.082334280014038,
          -9.090965270996094,
          0.7508596181869507,
          -5.8394999504089355,
          -2.462998867034912,
          8.77787971496582,
          -7.784958839416504,
          8.078754425048828,
          -0.29890313744544983,
          -2.4531257152557373,
          4.896002769470215,
          -2.8162624835968018,
          11.132076263427734,
          4.7353386878967285,
          -10.290034294128418,
          10.167791366577148,
          -6.868316650390625,
          1.6855974197387695,
          1.6621485948562622,
          14.06806755065918,
          -10.493335723876953,
          -10.240987777709961,
          -8.835906982421875,
          -7.13562536239624,
          4.721138954162598,
          9.857290267944336,
          -9.751694679260254,
          -3.7379136085510254,
          4.915822505950928,
          -3.395303249359131,
          -8.428123474121094,
          -2.9050493240356445,
          -5.004100322723389,
          -11.37740707397461,
          -6.829276084899902,
          -12.38259220123291,
          1.504245638847351,
          5.058604717254639,
          12.773063659667969,
          3.7015795707702637,
          -1.956274151802063,
          -6.53897762298584,
          9.870600700378418,
          6.360142707824707,
          -8.450356483459473,
          -11.451959609985352,
          -4.7478108406066895,
          4.21354866027832,
          -11.240720748901367,
          -6.291383743286133,
          8.035073280334473,
          5.789252281188965,
          5.3811492919921875,
          12.740405082702637,
          -11.12401294708252,
          4.559875011444092,
          2.529676914215088,
          3.558509588241577,
          -9.32384967803955,
          5.923529624938965,
          -2.189718008041382,
          -7.590806484222412,
          -0.5734637975692749,
          4.614467144012451,
          -1.4948769807815552,
          1.4662400484085083,
          0.8350261449813843,
          -1.409071683883667,
          -0.4877009391784668,
          3.96044921875,
          3.106812000274658,
          -5.335017681121826,
          -5.520730018615723,
          2.29266619682312,
          -10.717883110046387,
          -4.7275919914245605,
          3.89420485496521,
          10.915010452270508,
          3.8810601234436035,
          9.410551071166992,
          -2.3640012741088867,
          9.306930541992188,
          1.4884529113769531,
          -7.475561618804932,
          -1.8012034893035889,
          -6.231205940246582,
          -9.041722297668457,
          10.057650566101074,
          -0.5130894184112549,
          3.972295045852661,
          6.511953830718994,
          -10.274747848510742,
          15.230490684509277,
          -1.1309103965759277,
          11.356194496154785,
          -9.81496524810791,
          -9.0479736328125,
          -9.226912498474121,
          6.4771599769592285,
          -2.978097915649414,
          -4.431894302368164,
          3.7798686027526855,
          -0.5365896224975586,
          -4.75030517578125,
          6.089814186096191,
          12.662407875061035,
          -7.05710506439209,
          -1.2732980251312256,
          4.336326599121094,
          -10.977542877197266,
          14.164177894592285,
          -7.477032661437988,
          6.890084743499756,
          5.673319339752197,
          6.621871471405029,
          1.5451351404190063,
          -9.706466674804688,
          -8.895273208618164,
          -8.428475379943848,
          -2.0288045406341553,
          -5.31172513961792,
          4.817570209503174,
          -11.42132568359375,
          -9.790319442749023,
          -4.595322132110596,
          0.33147376775741577,
          7.014277935028076,
          -5.336040019989014,
          -1.4526671171188354,
          8.955665588378906,
          2.031680107116699,
          7.311047554016113,
          -10.170212745666504,
          -3.979248523712158,
          -12.95198917388916,
          9.398117065429688,
          -8.338186264038086,
          -6.275181293487549,
          -4.880978107452393,
          7.587103843688965,
          11.484078407287598,
          -6.123734951019287,
          9.131887435913086,
          -10.93621826171875,
          0.10504578799009323,
          8.835721969604492,
          3.037247657775879,
          10.490713119506836,
          -1.5844006538391113,
          5.690949440002441,
          4.258138179779053,
          -10.685127258300781,
          9.623642921447754,
          15.989941596984863,
          -1.7812100648880005,
          -11.4472017288208,
          11.576236724853516,
          10.17644214630127,
          -3.154888391494751,
          -9.797250747680664,
          12.250266075134277,
          -1.253644347190857,
          -10.091730117797852,
          5.046995639801025,
          -0.19247086346149445,
          2.4223949909210205,
          10.18783187866211,
          -6.932255744934082,
          2.0457205772399902,
          -11.149205207824707,
          1.3021571636199951,
          10.074793815612793,
          4.5954413414001465,
          -7.531773090362549,
          15.683098793029785,
          -2.0482146739959717,
          -3.2260630130767822,
          -6.271393299102783,
          6.828382968902588,
          -10.629096984863281,
          7.667018413543701,
          -1.0259782075881958,
          6.452218055725098,
          -7.605700492858887,
          4.5530314445495605,
          8.44736385345459,
          4.383561134338379,
          1.4600111246109009,
          6.155427932739258,
          -4.567352771759033,
          -7.104075908660889,
          10.2799072265625,
          1.3406696319580078,
          4.43243408203125,
          -1.6051394939422607,
          -12.04215145111084,
          -7.174015998840332,
          -1.120204210281372,
          -4.028357982635498,
          5.05483865737915,
          -1.4578927755355835,
          3.42120623588562,
          -1.0440489053726196,
          -3.3143246173858643,
          13.618200302124023,
          -3.9873197078704834,
          7.209474563598633,
          -4.45380163192749,
          -8.96753215789795,
          -8.413902282714844,
          1.622186303138733,
          6.308210849761963,
          16.726266860961914,
          1.3415261507034302,
          -6.4907660484313965,
          -2.1910240650177,
          -9.666078567504883,
          7.341482162475586,
          11.106073379516602,
          7.098934173583984,
          -8.75097942352295,
          1.5805631875991821,
          -5.8263444900512695,
          0.15134885907173157,
          1.8708524703979492,
          -8.60694694519043,
          -11.81984806060791,
          -5.199062824249268,
          3.571687698364258,
          -6.727997779846191,
          4.654798984527588,
          6.426682949066162,
          8.645086288452148,
          -9.592381477355957,
          10.76103401184082,
          3.102144956588745,
          -7.849522113800049,
          -10.190933227539062,
          -2.9059348106384277,
          4.130920886993408,
          -9.114355087280273,
          -4.520256042480469,
          -1.631111979484558,
          -0.9014075994491577,
          -6.782272815704346,
          9.110730171203613,
          6.573858737945557,
          -1.6483867168426514,
          -7.719724178314209,
          -2.052177906036377,
          -7.605163097381592,
          8.784157752990723,
          11.361930847167969,
          9.352640151977539,
          6.828965187072754,
          8.249235153198242,
          8.79971981048584,
          2.1526527404785156,
          -9.398924827575684,
          -9.881016731262207,
          0.9202706813812256,
          7.08068323135376,
          -11.19584846496582,
          -7.977467060089111,
          1.5053157806396484,
          -4.5672173500061035,
          1.2668565511703491,
          -2.945352792739868,
          -7.641480922698975,
          -0.6885005235671997,
          4.128660678863525,
          14.032381057739258,
          -5.44071102142334,
          4.873581409454346,
          2.7923848628997803,
          1.105282187461853,
          2.843024969100952,
          -0.7406899929046631,
          8.946043968200684,
          15.888504981994629,
          -5.427170753479004,
          -1.4901381731033325,
          3.08054256439209,
          9.32453727722168,
          -1.8404853343963623,
          -11.656259536743164,
          8.586977005004883,
          0.5357586145401001,
          11.671764373779297,
          -8.905906677246094,
          1.1480134725570679,
          -3.448805570602417,
          2.7916789054870605,
          -6.737200736999512,
          -4.609838962554932,
          -0.8231824040412903,
          6.520884990692139,
          -6.362825870513916,
          -1.1538431644439697,
          6.655819416046143,
          -10.71680736541748,
          -6.754349708557129,
          5.652313709259033,
          -10.390673637390137,
          4.306307315826416,
          -11.974474906921387,
          1.1718577146530151,
          -13.091201782226562,
          9.961297988891602,
          7.651920318603516,
          -3.222216844558716,
          -3.579725742340088,
          5.046517372131348,
          -6.732283592224121,
          -2.9955177307128906,
          9.883685111999512,
          -10.410849571228027,
          0.04233243316411972,
          -11.993148803710938,
          -4.005505084991455,
          1.6862385272979736,
          -5.187888145446777,
          8.419373512268066,
          -5.278831958770752,
          1.7484618425369263,
          -7.298041820526123,
          1.918318510055542,
          -4.25712776184082,
          -10.386615753173828,
          -1.06524658203125,
          -1.7742434740066528,
          -1.308832049369812,
          -10.89818000793457,
          -1.9879544973373413,
          2.162304401397705,
          5.6657891273498535,
          -1.3580340147018433,
          -8.289620399475098,
          -1.854421854019165,
          -5.489701271057129,
          3.5589303970336914,
          4.388027667999268,
          0.0812472552061081,
          10.213499069213867,
          10.490935325622559,
          -3.022289991378784,
          -2.964103937149048,
          4.589531898498535,
          -4.70490026473999,
          7.722853660583496,
          8.399139404296875,
          15.146302223205566,
          -8.89648723602295,
          -8.219884872436523,
          -2.727809429168701,
          -2.4587574005126953,
          -5.106812000274658,
          -12.430750846862793,
          -10.96042251586914,
          1.1814016103744507,
          0.7286308407783508,
          -11.625048637390137,
          7.653905868530273,
          5.026406288146973,
          13.205973625183105,
          -2.5393259525299072,
          -4.015195846557617,
          4.75778341293335,
          -8.71700382232666,
          5.829596519470215,
          -8.167041778564453,
          6.838576793670654,
          0.7757188081741333,
          10.245055198669434,
          -1.642948031425476,
          -6.368655204772949,
          -1.9416093826293945,
          16.620195388793945,
          0.36696958541870117,
          1.6456630229949951,
          5.221355438232422,
          9.908126831054688,
          -5.249502182006836,
          -0.5319659113883972,
          2.2493300437927246,
          -2.8793160915374756,
          -11.345364570617676,
          11.58604907989502,
          4.071503162384033,
          -4.2814788818359375,
          10.117499351501465,
          4.0183186531066895,
          -5.495405673980713,
          11.64206600189209,
          1.5317203998565674,
          4.169555187225342,
          -3.345216751098633,
          -6.470731735229492,
          -6.64951229095459,
          5.815882205963135,
          -1.4364019632339478,
          -3.4508137702941895,
          -8.965725898742676,
          13.50082778930664,
          1.6245919466018677,
          -0.8132304549217224,
          11.469775199890137,
          8.984619140625,
          4.059606075286865,
          1.3033182621002197,
          -10.349000930786133,
          7.058603286743164,
          -5.487725257873535,
          -7.3448076248168945,
          -9.64809513092041,
          -10.981040000915527,
          -9.643083572387695,
          9.797454833984375,
          -2.8378562927246094,
          -9.022614479064941,
          -4.666071891784668,
          -6.748291015625,
          -0.9940056800842285,
          -6.627760887145996,
          -10.885344505310059,
          -2.9962406158447266,
          1.0646463632583618,
          9.308406829833984,
          -10.957533836364746,
          -11.947847366333008,
          -9.135180473327637,
          -6.036841869354248,
          -2.696025848388672,
          -5.889512538909912,
          -9.179625511169434,
          -0.6017844080924988,
          -6.9301958084106445,
          13.839459419250488,
          -5.694808006286621,
          10.032354354858398,
          10.427668571472168,
          0.5164430141448975,
          -4.490673542022705,
          2.961235523223877,
          12.54834270477295,
          10.025419235229492,
          -7.911972999572754,
          8.020076751708984,
          1.3262385129928589,
          8.199906349182129,
          6.868621349334717,
          -6.023993015289307,
          0.7235685586929321,
          9.04229736328125,
          4.318181037902832,
          -2.362354040145874,
          8.021193504333496,
          7.072596073150635,
          8.702256202697754,
          -4.759762763977051,
          1.9166043996810913,
          -2.0913968086242676,
          -4.652679920196533,
          8.2396821975708,
          -11.54327392578125,
          -3.625925064086914,
          8.180231094360352,
          -11.631269454956055,
          -5.417902946472168,
          -0.31569305062294006,
          -0.32915136218070984,
          -9.791878700256348,
          7.99903678894043,
          -10.842219352722168,
          4.139669895172119,
          -5.30908203125,
          7.62298059463501,
          12.981215476989746,
          2.3335776329040527,
          -1.5313173532485962,
          -4.640056610107422,
          -3.8640878200531006,
          1.8340281248092651,
          9.581405639648438,
          -5.085975170135498,
          6.254126071929932,
          6.629317283630371,
          7.208041191101074,
          3.950817346572876,
          0.06458723545074463,
          -3.700087785720825,
          -10.721086502075195,
          6.435934543609619,
          4.803187370300293,
          -11.085929870605469,
          -7.495357036590576,
          8.935848236083984,
          12.39438533782959,
          -6.897326946258545,
          -6.268383502960205,
          1.5896636247634888,
          -2.257920265197754,
          3.6402671337127686,
          -7.0533528327941895,
          2.979149103164673,
          -3.548229932785034,
          13.652037620544434,
          -13.863996505737305,
          10.130352973937988,
          -1.0308575630187988,
          10.173624038696289,
          16.68651008605957,
          -4.749566078186035,
          9.621253967285156,
          7.255602836608887,
          7.13121223449707,
          -5.347370624542236,
          4.806273937225342,
          -8.159892082214355,
          1.4158196449279785,
          6.114405632019043,
          -11.748772621154785,
          4.617315769195557,
          -10.413795471191406,
          -0.8422939777374268,
          1.7012461423873901,
          4.874862194061279,
          8.886832237243652,
          3.183368444442749,
          5.638286113739014,
          -8.821410179138184,
          12.29654598236084,
          -4.138912200927734,
          4.308627128601074,
          -9.29118537902832,
          -6.553380489349365,
          8.17484188079834,
          1.20792555809021,
          4.420536041259766,
          1.4523899555206299,
          -3.218559741973877,
          -4.700610637664795,
          -5.079349994659424,
          4.06958532333374,
          2.983643054962158,
          13.54430866241455,
          8.896098136901855,
          -5.866447448730469,
          9.208531379699707,
          -2.168269634246826,
          6.795374870300293,
          10.020984649658203,
          1.575014591217041,
          14.298140525817871,
          10.26194953918457,
          -8.512328147888184,
          -6.382959365844727,
          -6.378438472747803,
          10.150097846984863,
          4.268825531005859,
          5.742951393127441,
          0.34955093264579773,
          2.030456304550171,
          12.342896461486816,
          8.50829029083252,
          6.010039329528809,
          -8.09709358215332,
          8.7160005569458,
          -11.26994800567627,
          -1.8769686222076416,
          -3.131744623184204,
          -1.0264701843261719,
          -4.667761325836182,
          -4.339112281799316,
          -5.627622127532959,
          -0.5406832695007324,
          3.955582618713379,
          1.212937593460083,
          3.346130847930908,
          3.5911386013031006,
          2.9480345249176025,
          10.6832857131958,
          -7.1420578956604,
          4.259089469909668,
          6.518407344818115,
          0.9673111438751221,
          -6.806450843811035,
          13.742695808410645,
          1.7056641578674316,
          -1.8332457542419434,
          6.502290725708008,
          0.20322377979755402,
          -2.4877514839172363,
          8.785379409790039,
          4.066267013549805,
          -2.383018970489502,
          -9.785016059875488,
          12.374693870544434,
          10.299556732177734,
          -9.046109199523926,
          -7.024879455566406,
          -8.468549728393555,
          -7.098013877868652,
          10.852313995361328,
          0.008267266675829887,
          -8.27181625366211,
          4.604483127593994,
          -1.5700682401657104,
          9.988173484802246,
          10.912238121032715,
          -11.898998260498047,
          1.3968335390090942,
          -0.4520972967147827,
          12.536887168884277,
          11.257699012756348,
          14.163779258728027,
          5.528905391693115,
          7.026118755340576,
          -0.5523662567138672,
          2.2616994380950928,
          9.24083423614502,
          -11.442340850830078,
          4.545251369476318,
          2.0090932846069336,
          3.273037910461426,
          1.3605151176452637,
          -4.780527114868164,
          -10.929085731506348,
          -4.60536527633667,
          7.637976169586182,
          -0.9027677178382874,
          6.254537582397461,
          -2.45712947845459,
          3.917421817779541,
          7.389441967010498,
          -5.153895854949951,
          -1.2977335453033447,
          13.669429779052734,
          4.8649749755859375,
          -2.3770322799682617,
          3.2107739448547363,
          -8.193607330322266,
          5.610445976257324,
          9.636336326599121,
          3.9462103843688965,
          -9.87712287902832,
          14.110127449035645,
          10.58415699005127,
          3.9151997566223145,
          1.6171371936798096,
          -3.8623743057250977,
          -0.3990253210067749,
          -9.702103614807129,
          8.637003898620605,
          -0.5030912756919861,
          -11.249046325683594,
          7.70690393447876,
          -1.782188892364502,
          4.10609769821167,
          -11.740378379821777,
          10.232370376586914,
          -2.857544183731079,
          -2.628541946411133,
          4.528635025024414,
          -8.98828125,
          9.241166114807129,
          -2.716122627258301,
          9.407697677612305,
          2.0833544731140137,
          5.548064708709717,
          -11.143706321716309,
          -2.844634771347046,
          9.483348846435547,
          1.644683599472046,
          -1.9955711364746094,
          -3.6032888889312744,
          -4.253595352172852,
          0.5120900273323059,
          -13.792413711547852,
          -4.647738933563232,
          -3.3313980102539062,
          7.274395942687988,
          -6.7982988357543945,
          1.0810831785202026,
          0.39839455485343933,
          -3.502739191055298,
          -12.534123420715332,
          -7.951953411102295,
          -5.13569974899292,
          4.211663722991943,
          2.1962130069732666,
          -0.6634746789932251,
          7.184027194976807,
          -0.7592655420303345,
          5.05235481262207,
          -1.8344624042510986,
          -8.136197090148926,
          5.554296016693115,
          5.859033584594727,
          8.456517219543457,
          -10.145509719848633,
          -4.835070610046387,
          12.17644214630127,
          -2.3483150005340576,
          -6.988193988800049,
          2.3231360912323,
          -4.6534810066223145,
          -5.410040378570557,
          -2.9764461517333984,
          -7.033993244171143,
          1.5855780839920044,
          -10.333643913269043,
          -2.350273370742798,
          -0.45212480425834656,
          -9.008015632629395,
          -4.260496616363525,
          9.074892044067383,
          1.4663609266281128,
          -9.300943374633789,
          10.685489654541016,
          -3.939493179321289,
          -6.852418899536133,
          2.1930384635925293,
          3.7237308025360107,
          -3.2707319259643555,
          -9.936366081237793,
          -10.381669998168945,
          -7.231267929077148,
          -6.962238311767578,
          5.466954708099365,
          -2.597287654876709,
          1.4363237619400024,
          -3.7643961906433105
         ],
         "y": [
          -4.068388938903809,
          -5.711823463439941,
          9.362724304199219,
          -9.534920692443848,
          2.378084182739258,
          -12.527411460876465,
          4.8962082862854,
          3.612705945968628,
          -0.17441435158252716,
          -6.989110469818115,
          5.6486053466796875,
          -6.255321502685547,
          -10.167076110839844,
          9.684863090515137,
          -6.428353309631348,
          -3.1755335330963135,
          -12.28728199005127,
          2.5421085357666016,
          -12.407926559448242,
          -9.613337516784668,
          6.734889984130859,
          9.928657531738281,
          5.862837314605713,
          -11.150187492370605,
          3.8637900352478027,
          0.4918995797634125,
          -4.00806188583374,
          -7.864181041717529,
          1.3213735818862915,
          13.740632057189941,
          -6.637375831604004,
          -2.5121076107025146,
          6.134674072265625,
          6.669641017913818,
          12.307941436767578,
          -12.379533767700195,
          13.737112998962402,
          -8.181286811828613,
          0.7690315246582031,
          -1.9956403970718384,
          -2.386962652206421,
          3.746138572692871,
          -2.102799654006958,
          -5.192129135131836,
          5.269578456878662,
          8.610527992248535,
          -13.125688552856445,
          1.9633142948150635,
          10.273883819580078,
          -4.415924072265625,
          -5.697265625,
          8.872403144836426,
          -0.1885616034269333,
          7.422038555145264,
          -13.208028793334961,
          -6.69933557510376,
          -6.094587326049805,
          -4.160748481750488,
          4.782368183135986,
          -11.08484935760498,
          0.7862336039543152,
          -0.07498642802238464,
          2.363276720046997,
          5.792134761810303,
          -9.598245620727539,
          13.285330772399902,
          -13.026971817016602,
          14.153164863586426,
          7.092028617858887,
          -0.7706684470176697,
          2.7660346031188965,
          0.3026227355003357,
          -9.535828590393066,
          -0.5607413649559021,
          8.941095352172852,
          -7.244120121002197,
          -3.2547237873077393,
          -2.1583383083343506,
          -11.649313926696777,
          -1.2138317823410034,
          -1.2820459604263306,
          -10.898323059082031,
          7.332399845123291,
          7.193824768066406,
          -1.910395860671997,
          -13.78511905670166,
          0.47715163230895996,
          -11.633151054382324,
          0.9413894414901733,
          -2.502859115600586,
          -12.848012924194336,
          -2.4282617568969727,
          1.0061430931091309,
          0.5528497695922852,
          -13.91879940032959,
          6.893927574157715,
          -10.879829406738281,
          8.289340019226074,
          -9.982048034667969,
          13.466147422790527,
          2.058626651763916,
          10.17725944519043,
          -0.7796964049339294,
          -0.23598511517047882,
          -15.631877899169922,
          -6.222422122955322,
          3.0344018936157227,
          4.399142265319824,
          10.162308692932129,
          1.6505576372146606,
          -10.401505470275879,
          3.4978034496307373,
          -0.010950491763651371,
          0.5001778602600098,
          -7.717195987701416,
          8.227676391601562,
          7.386419773101807,
          -12.236748695373535,
          10.832564353942871,
          6.6717119216918945,
          -7.645010471343994,
          9.394004821777344,
          6.942097187042236,
          8.085829734802246,
          5.76363468170166,
          -10.789843559265137,
          -8.714582443237305,
          5.713362216949463,
          2.0091731548309326,
          11.32431697845459,
          2.662475347518921,
          -1.1903892755508423,
          7.340749740600586,
          -1.8759547472000122,
          10.551182746887207,
          8.168149948120117,
          1.2078089714050293,
          6.373299598693848,
          -7.394826412200928,
          -0.021405361592769623,
          -6.40046501159668,
          10.722943305969238,
          -7.617097854614258,
          7.930993556976318,
          8.09705924987793,
          4.759456634521484,
          2.1632277965545654,
          5.718124866485596,
          -2.056875705718994,
          6.315580368041992,
          -5.778254985809326,
          5.872509479522705,
          -6.551879405975342,
          0.5424302220344543,
          -10.842730522155762,
          -8.114605903625488,
          1.3229397535324097,
          13.127429962158203,
          5.916676044464111,
          -6.152606010437012,
          -6.168038368225098,
          10.840004920959473,
          -1.7460644245147705,
          7.0660319328308105,
          8.762565612792969,
          1.458059549331665,
          -13.749330520629883,
          -10.353442192077637,
          10.919811248779297,
          -10.273449897766113,
          -13.273666381835938,
          1.5380988121032715,
          0.9672974348068237,
          3.8765642642974854,
          6.482442855834961,
          6.426932334899902,
          -0.49475255608558655,
          -4.015805244445801,
          4.705774784088135,
          7.886816024780273,
          9.535861015319824,
          10.5889892578125,
          9.133848190307617,
          8.688261985778809,
          -7.753439426422119,
          -13.197877883911133,
          7.641856670379639,
          -5.9635491371154785,
          -6.563331604003906,
          -12.34094524383545,
          1.5610829591751099,
          -3.0245888233184814,
          -1.6084177494049072,
          8.255826950073242,
          -1.9133365154266357,
          12.285319328308105,
          7.938312530517578,
          -0.816493809223175,
          -7.302772045135498,
          -1.265476107597351,
          8.070000648498535,
          2.761249542236328,
          -15.379781723022461,
          -8.236891746520996,
          9.455058097839355,
          10.125164985656738,
          9.180647850036621,
          -11.756449699401855,
          7.724452018737793,
          -1.78108549118042,
          5.388622283935547,
          -7.426238536834717,
          -3.455239772796631,
          10.472248077392578,
          -10.407374382019043,
          4.985743045806885,
          3.183253288269043,
          -13.361079216003418,
          -9.503026962280273,
          -10.725831985473633,
          -8.69262409210205,
          -14.960253715515137,
          -9.25635051727295,
          0.3646346628665924,
          2.2218785285949707,
          0.4322771728038788,
          10.066322326660156,
          -2.594142436981201,
          0.9188083410263062,
          -5.085277557373047,
          -14.45683765411377,
          7.578129291534424,
          -9.646385192871094,
          6.511995315551758,
          8.91601276397705,
          0.873552143573761,
          3.502300500869751,
          -0.05011983960866928,
          10.858956336975098,
          4.688119888305664,
          4.364706039428711,
          -9.314598083496094,
          2.591491937637329,
          -0.6120595932006836,
          8.485085487365723,
          1.0640052556991577,
          1.2990437746047974,
          -10.918792724609375,
          -10.619169235229492,
          5.299488544464111,
          -5.739121437072754,
          -0.23772017657756805,
          -4.495765209197998,
          0.1486929953098297,
          -2.4261226654052734,
          8.24668025970459,
          -4.1024580001831055,
          -5.971027374267578,
          -13.473422050476074,
          -8.698589324951172,
          8.473451614379883,
          -5.186227321624756,
          1.9675534963607788,
          -3.062577486038208,
          -3.411681890487671,
          -1.4880499839782715,
          -4.381918430328369,
          1.638892412185669,
          -3.460686683654785,
          -1.7157918214797974,
          6.654635906219482,
          10.914485931396484,
          8.113577842712402,
          -12.822410583496094,
          -12.980549812316895,
          -0.8325128555297852,
          -10.901795387268066,
          11.741415977478027,
          -10.663776397705078,
          -2.6303658485412598,
          -3.92163348197937,
          3.104461193084717,
          -4.303127765655518,
          -2.763170003890991,
          -1.9838306903839111,
          -13.097074508666992,
          1.5838013887405396,
          4.876712322235107,
          -5.9269256591796875,
          -10.170753479003906,
          -11.656103134155273,
          -2.3445029258728027,
          10.128392219543457,
          7.079133033752441,
          14.441629409790039,
          -14.906880378723145,
          -1.654332160949707,
          8.682982444763184,
          -8.603466033935547,
          -0.6573864817619324,
          -3.177183151245117,
          2.170372486114502,
          8.295541763305664,
          1.0831111669540405,
          -7.74421501159668,
          -6.813935279846191,
          7.965171813964844,
          14.734837532043457,
          -6.091042518615723,
          16.130096435546875,
          10.079692840576172,
          -0.1189516931772232,
          -12.256461143493652,
          2.795525550842285,
          10.830879211425781,
          13.000170707702637,
          1.738938808441162,
          7.577977657318115,
          -10.637090682983398,
          5.96716833114624,
          9.822389602661133,
          -10.30750560760498,
          3.5964629650115967,
          -0.6996246576309204,
          -1.9153685569763184,
          10.33985424041748,
          -5.473048210144043,
          10.57736587524414,
          8.884282112121582,
          -0.0659644827246666,
          -8.872357368469238,
          -12.058409690856934,
          -8.808427810668945,
          -7.292041301727295,
          4.812016010284424,
          1.9301151037216187,
          -9.410971641540527,
          7.232944011688232,
          11.725876808166504,
          -3.6062450408935547,
          -8.333308219909668,
          1.135024905204773,
          14.136266708374023,
          -9.438544273376465,
          -10.520523071289062,
          -13.485655784606934,
          -12.746065139770508,
          1.2716068029403687,
          1.6248396635055542,
          -9.204767227172852,
          0.5865362882614136,
          8.305278778076172,
          -8.836636543273926,
          -3.681279420852661,
          9.996543884277344,
          -7.081902027130127,
          -2.912703275680542,
          -0.5132898092269897,
          2.0601189136505127,
          -4.7590436935424805,
          10.852851867675781,
          -8.065265655517578,
          7.327445983886719,
          -9.292258262634277,
          5.565476417541504,
          1.6715502738952637,
          -7.622252941131592,
          -4.7987775802612305,
          6.6773810386657715,
          1.4735406637191772,
          -7.915008544921875,
          -9.193321228027344,
          -6.226729869842529,
          -6.933930397033691,
          2.4506757259368896,
          10.659071922302246,
          -7.850790977478027,
          8.053560256958008,
          13.359482765197754,
          13.416918754577637,
          -5.867406845092773,
          7.307194709777832,
          4.173447132110596,
          -9.347686767578125,
          4.2791290283203125,
          -12.442880630493164,
          13.281070709228516,
          -3.297426700592041,
          4.652020454406738,
          14.38551139831543,
          7.482644557952881,
          -0.002741024596616626,
          0.9905813336372375,
          6.932013988494873,
          -8.271273612976074,
          -8.220759391784668,
          8.725443840026855,
          -13.43986988067627,
          -12.241941452026367,
          17.17027473449707,
          -5.741105079650879,
          -2.642404079437256,
          4.438760280609131,
          -10.46041202545166,
          5.77219820022583,
          -6.9844536781311035,
          1.7730295658111572,
          -6.837677955627441,
          -3.9759628772735596,
          6.557067394256592,
          9.447583198547363,
          4.404404640197754,
          -0.36613723635673523,
          0.4416971504688263,
          -3.7834372520446777,
          11.929844856262207,
          14.710718154907227,
          13.628567695617676,
          7.466931343078613,
          -8.297917366027832,
          -2.621718645095825,
          7.830570697784424,
          -13.282632827758789,
          0.07750489562749863,
          -2.3060145378112793,
          3.308587074279785,
          -2.8470399379730225,
          -6.065373420715332,
          -6.255896091461182,
          3.70300555229187,
          4.751364231109619,
          -3.0265026092529297,
          -0.511384129524231,
          -12.82066822052002,
          4.948635101318359,
          -7.969239711761475,
          1.6840412616729736,
          -10.192193984985352,
          -4.717655658721924,
          0.3455641269683838,
          -5.215331077575684,
          -4.561347484588623,
          2.308748722076416,
          -8.18892765045166,
          -4.593751430511475,
          -6.296124458312988,
          -11.772734642028809,
          -0.3475992977619171,
          11.753812789916992,
          -13.589638710021973,
          -6.459950923919678,
          -0.2933782935142517,
          6.415596961975098,
          -12.869524002075195,
          11.624340057373047,
          4.111617088317871,
          0.9713026881217957,
          -5.31873893737793,
          -3.9689781665802,
          -10.619466781616211,
          -0.2791755497455597,
          2.029331922531128,
          5.354701995849609,
          -1.558128833770752,
          -6.614545822143555,
          -6.237466335296631,
          5.549585342407227,
          -12.818934440612793,
          -0.1287432760000229,
          10.309006690979004,
          7.754640102386475,
          -0.6662202477455139,
          2.721116304397583,
          -4.4897847175598145,
          -5.125299453735352,
          -2.273515224456787,
          10.110191345214844,
          -3.500391960144043,
          -5.78660249710083,
          -2.057267427444458,
          -15.64985179901123,
          -0.9656209945678711,
          13.536502838134766,
          -2.099945545196533,
          -9.856178283691406,
          -5.4616241455078125,
          -3.346095561981201,
          9.541146278381348,
          -7.364285469055176,
          11.013338088989258,
          10.857426643371582,
          8.027677536010742,
          -1.9669430255889893,
          11.833612442016602,
          -7.886473178863525,
          9.78639030456543,
          0.6309353113174438,
          -9.937826156616211,
          8.440985679626465,
          -9.36402702331543,
          10.398612022399902,
          8.532905578613281,
          4.419271469116211,
          10.621345520019531,
          -1.9823739528656006,
          -13.403731346130371,
          9.327274322509766,
          16.437992095947266,
          8.763955116271973,
          10.111075401306152,
          -0.38704463839530945,
          -3.626307725906372,
          -9.10927963256836,
          10.308533668518066,
          -3.008758544921875,
          4.1317644119262695,
          8.853194236755371,
          -2.4770166873931885,
          3.107471227645874,
          8.84785270690918,
          5.723781108856201,
          -6.0618181228637695,
          -1.1618177890777588,
          -6.2502288818359375,
          -9.009661674499512,
          -14.854660987854004,
          14.495256423950195,
          -6.908247947692871,
          -3.262333631515503,
          -1.7875367403030396,
          4.851125240325928,
          -3.139683723449707,
          -11.519854545593262,
          8.52270221710205,
          -1.887831687927246,
          -10.604121208190918,
          12.238297462463379,
          -0.822182834148407,
          -8.838193893432617,
          -6.740581512451172,
          7.9843220710754395,
          3.87152099609375,
          4.173957347869873,
          7.180307388305664,
          -6.521711349487305,
          -6.692057132720947,
          3.808591842651367,
          -6.159062385559082,
          -3.826523780822754,
          -5.448044300079346,
          0.2791743576526642,
          10.433991432189941,
          5.579498291015625,
          1.6085788011550903,
          -2.8721773624420166,
          7.354246616363525,
          0.9908187985420227,
          -10.791525840759277,
          10.308759689331055,
          -0.39741000533103943,
          0.8670027256011963,
          -9.192361831665039,
          10.722076416015625,
          -11.30716609954834,
          -13.123387336730957,
          -1.160457730293274,
          0.8077923655509949,
          0.5176615118980408,
          0.2302275449037552,
          -7.984905242919922,
          -10.278449058532715,
          -13.502836227416992,
          -12.72732162475586,
          5.233299732208252,
          9.684207916259766,
          -11.258277893066406,
          -7.57838773727417,
          -6.5361857414245605,
          -5.124419689178467,
          -4.853643894195557,
          -1.1183886528015137,
          0.4532167613506317,
          8.421530723571777,
          0.23073455691337585,
          -1.6547611951828003,
          -12.510734558105469,
          -0.4378848075866699,
          8.212212562561035,
          -5.395466327667236,
          -0.14714762568473816,
          17.128786087036133,
          13.34850025177002,
          -10.532482147216797,
          5.737637042999268,
          -1.1949065923690796,
          -14.021812438964844,
          14.858858108520508,
          2.0016536712646484,
          9.523040771484375,
          -12.134937286376953,
          -5.810762882232666,
          -10.65148639678955,
          -1.667064905166626,
          8.455389022827148,
          8.735603332519531,
          -10.38979721069336,
          -1.357000708580017,
          9.49560832977295,
          1.7695170640945435,
          8.86124038696289,
          -3.4062440395355225,
          -7.4303107261657715,
          8.904245376586914,
          -0.18591320514678955,
          -3.6959476470947266,
          -6.456518650054932,
          -2.1100475788116455,
          -4.076882839202881,
          4.76564359664917,
          10.088818550109863,
          6.890186786651611,
          5.971775531768799,
          2.5258026123046875,
          10.88425350189209,
          -4.594786167144775,
          3.4360849857330322,
          -8.677928924560547,
          -2.5624876022338867,
          0.6451941132545471,
          10.007180213928223,
          7.567883014678955,
          4.4246087074279785,
          7.399470806121826,
          -9.095826148986816,
          2.911468982696533,
          7.614593505859375,
          -10.041482925415039,
          -8.162484169006348,
          -3.798490047454834,
          3.6134235858917236,
          -14.250868797302246,
          6.634255886077881,
          -9.761645317077637,
          -4.791162967681885,
          -12.485701560974121,
          12.9943265914917,
          -5.637270927429199,
          -2.566401958465576,
          -9.189787864685059,
          -0.6327834129333496,
          8.525313377380371,
          2.103470802307129,
          -12.209794998168945,
          -3.8858957290649414,
          0.7362655401229858,
          -2.7700095176696777,
          0.8937496542930603,
          -8.626882553100586,
          -7.012345790863037,
          4.228550434112549,
          -14.228198051452637,
          6.42535924911499,
          -2.1118204593658447,
          6.38787841796875,
          -6.978819847106934,
          -11.149346351623535,
          0.8291957378387451,
          -1.5501031875610352,
          -2.615194082260132,
          4.39950704574585,
          -13.346263885498047,
          -6.290886402130127,
          -0.06794242560863495,
          -6.420279502868652,
          2.1946628093719482,
          3.595276117324829,
          12.247264862060547,
          6.700654983520508,
          -7.571123123168945,
          7.992934703826904,
          -2.31734037399292,
          3.660125494003296,
          8.8603515625,
          -9.488127708435059,
          -4.07658576965332,
          5.43956995010376,
          -13.775232315063477,
          -3.937452793121338,
          1.5626271963119507,
          0.6293443441390991,
          -8.895641326904297,
          -1.8523715734481812,
          0.5629177093505859,
          -2.867265462875366,
          -1.1996816396713257,
          10.085351943969727,
          0.29255789518356323,
          -4.943473815917969,
          10.396785736083984,
          1.4477094411849976,
          3.3297009468078613,
          -9.469071388244629,
          -1.5924025774002075,
          3.090306520462036,
          -0.718313455581665,
          -0.5534246563911438,
          -0.7376047968864441,
          9.207016944885254,
          13.738524436950684,
          5.31723690032959,
          -7.941446781158447,
          3.487600564956665,
          13.408771514892578,
          10.146834373474121,
          -8.936033248901367,
          11.728967666625977,
          -1.661657691001892,
          3.4508111476898193,
          4.3033623695373535,
          -4.365184307098389,
          -5.420196533203125,
          4.215810775756836,
          8.622201919555664,
          9.204230308532715,
          4.966390609741211,
          5.369245529174805,
          13.681255340576172,
          -2.08781361579895,
          6.561704158782959,
          -2.049659490585327,
          -9.405864715576172,
          1.8624656200408936,
          2.3644027709960938,
          -6.249507427215576,
          8.192479133605957,
          4.140422821044922,
          -2.6829495429992676,
          0.2152010053396225,
          -7.771368980407715,
          6.361458778381348,
          1.5990898609161377,
          -3.9702506065368652,
          -5.163934707641602,
          -2.291524648666382,
          -1.7783769369125366,
          -4.742341995239258,
          -6.63118839263916,
          0.8002110719680786,
          0.011023788712918758,
          1.5769215822219849,
          -0.6380707621574402,
          -7.069551944732666,
          11.939568519592285,
          -2.551783561706543,
          1.956660509109497,
          12.86983585357666,
          3.995636463165283,
          9.510287284851074,
          8.088288307189941,
          -5.84948205947876,
          8.6587553024292,
          2.4010417461395264,
          9.77983570098877,
          7.460484504699707,
          10.009397506713867,
          -9.482868194580078,
          -4.216486930847168,
          -11.468438148498535,
          1.0767749547958374,
          -10.27340316772461,
          -10.289928436279297,
          -2.9698851108551025,
          10.734762191772461,
          5.088840961456299,
          8.215182304382324,
          -11.619745254516602,
          0.44406428933143616,
          10.947195053100586,
          -6.009078025817871,
          -1.5014008283615112,
          -1.1563128232955933,
          -8.526603698730469,
          -5.369871139526367,
          4.474673271179199,
          4.334273338317871,
          -6.479554653167725,
          8.001147270202637,
          1.9664188623428345,
          -9.332524299621582,
          -8.702956199645996,
          -12.82660961151123,
          9.886563301086426,
          13.982017517089844,
          1.9970009326934814,
          -2.9481632709503174,
          -11.135122299194336,
          12.034564971923828,
          -11.090540885925293,
          8.085163116455078,
          -8.312505722045898,
          8.48638916015625,
          -10.199545860290527,
          1.8091830015182495,
          -5.459112167358398,
          -13.382671356201172,
          6.871853351593018,
          3.051737070083618,
          -2.349310874938965,
          -1.8616894483566284,
          14.183323860168457,
          -15.346531867980957,
          -6.341956615447998,
          -1.3861840963363647,
          -6.257697105407715,
          7.934722423553467,
          -14.26490592956543,
          8.499410629272461,
          -5.592794895172119,
          -3.8281495571136475,
          0.9051268100738525,
          -6.501338481903076,
          -10.104372024536133,
          -2.279744863510132,
          10.229605674743652,
          0.6602568626403809,
          6.462862968444824,
          -10.644947052001953,
          8.66581916809082,
          7.252771854400635,
          -2.193145275115967,
          -11.267644882202148,
          0.9307436943054199,
          -3.051262855529785,
          8.479734420776367,
          0.5136241912841797,
          -3.1809029579162598,
          7.023381233215332,
          -11.274003028869629,
          -10.796906471252441,
          -13.520729064941406,
          0.5637981295585632,
          -12.064029693603516,
          3.3970439434051514,
          -0.656673789024353,
          -10.024141311645508,
          -11.797160148620605,
          -8.971687316894531,
          -11.6342134475708,
          0.841783344745636,
          0.2814423441886902,
          16.15863037109375,
          -9.494904518127441,
          -8.233906745910645,
          2.4212851524353027,
          -3.650489568710327,
          0.08227711915969849,
          -13.966259002685547,
          -3.657686948776245,
          -0.9661235213279724,
          -2.3176398277282715,
          0.7775576114654541,
          10.663511276245117,
          -1.5486282110214233,
          -3.6552462577819824,
          -4.56840181350708,
          -0.45907920598983765,
          2.5766561031341553,
          -2.0992772579193115,
          9.174898147583008,
          2.189716100692749,
          8.963325500488281,
          0.5013688206672668,
          -10.002211570739746,
          -3.2924110889434814,
          -8.000213623046875,
          -0.8804007768630981,
          -2.588902235031128,
          -1.1767578125,
          8.994051933288574,
          11.844841003417969,
          -8.876198768615723,
          -2.2967305183410645,
          -0.30632340908050537,
          -6.80465841293335,
          -10.270273208618164,
          -0.9531605243682861,
          3.0856525897979736,
          -14.178847312927246,
          -1.9566057920455933,
          -0.979568362236023,
          -13.69615650177002,
          -10.469441413879395,
          9.57636833190918,
          -2.9717578887939453,
          -1.7445822954177856,
          17.287321090698242,
          0.4916561245918274,
          -7.9383463859558105,
          7.563085556030273,
          -15.405158996582031,
          -0.7512208223342896,
          -10.485837936401367,
          -2.423408031463623,
          8.108078956604004,
          -12.031397819519043,
          3.5985124111175537,
          -12.762042999267578,
          0.801151692867279,
          -12.087387084960938,
          -5.373387813568115,
          -2.9067561626434326,
          3.5968267917633057,
          -2.961642026901245,
          -7.0221781730651855,
          8.02497673034668,
          -8.293952941894531,
          6.360918998718262,
          0.3862418234348297,
          3.514965534210205,
          12.147899627685547,
          6.750010967254639,
          2.857499361038208,
          -4.272500514984131,
          11.415122985839844,
          -6.541802406311035,
          2.2214231491088867,
          4.2537102699279785,
          -3.8042590618133545,
          5.920783996582031,
          10.221640586853027,
          -8.425910949707031,
          -10.296575546264648,
          1.6180976629257202,
          6.324073791503906,
          -0.7650009393692017,
          1.4800537824630737,
          -8.370738983154297,
          2.1939404010772705,
          7.585551738739014,
          -9.86622428894043,
          -6.35740852355957,
          4.910969257354736,
          1.8177570104599,
          9.787714958190918,
          1.372626543045044,
          14.574225425720215,
          -14.89382553100586,
          -10.627950668334961,
          7.594010353088379,
          -5.3046088218688965,
          9.522605895996094,
          -8.400965690612793,
          8.600842475891113,
          -10.297624588012695,
          -0.5280802845954895,
          -7.850001335144043,
          -11.466363906860352,
          0.5864508152008057,
          -5.2172112464904785,
          8.131543159484863,
          0.09341222047805786,
          -3.135052442550659,
          -10.280803680419922,
          10.528068542480469,
          8.996127128601074,
          -8.338018417358398,
          -0.07657884806394577,
          0.06064179912209511,
          3.1711204051971436,
          1.8273905515670776,
          -7.850732326507568,
          8.167019844055176,
          -4.129179954528809,
          7.298223495483398,
          -0.4732367694377899,
          -1.8759124279022217,
          -0.4197506904602051,
          8.448623657226562,
          7.897302627563477,
          8.815801620483398,
          0.5575198531150818,
          6.170297145843506,
          -11.394780158996582,
          -3.5328524112701416,
          1.328189492225647,
          -8.260637283325195,
          1.24323308467865,
          -1.971680760383606,
          7.795828819274902,
          7.730120658874512,
          -5.3981781005859375,
          0.5771056413650513,
          1.026148796081543,
          6.0951972007751465,
          -3.5772485733032227,
          1.0152028799057007,
          8.806779861450195,
          10.272778511047363,
          -8.020791053771973,
          10.534975051879883,
          4.7630391120910645,
          9.195956230163574,
          -2.967909574508667,
          -4.1796674728393555,
          14.782033920288086,
          9.899088859558105,
          -6.612799644470215,
          13.338987350463867,
          5.311444282531738,
          -12.943700790405273,
          -15.652913093566895,
          -1.9998209476470947,
          0.8688353896141052,
          8.711465835571289,
          11.062482833862305,
          0.265150785446167,
          7.2804436683654785,
          9.265143394470215,
          6.75939416885376,
          4.763813018798828,
          4.966397762298584,
          10.976907730102539,
          1.5425429344177246,
          -4.0340070724487305,
          3.1872029304504395,
          8.597914695739746
         ],
         "z": [
          8.883316040039062,
          -11.398136138916016,
          -3.8553366661071777,
          6.569323539733887,
          -6.464205741882324,
          5.902174472808838,
          1.054874062538147,
          0.7282360196113586,
          -5.462431907653809,
          12.909889221191406,
          2.4100873470306396,
          7.277092933654785,
          4.255005836486816,
          -9.750226974487305,
          14.846247673034668,
          -5.319937229156494,
          4.435587406158447,
          -8.483803749084473,
          1.729143500328064,
          7.047837257385254,
          10.226545333862305,
          8.481809616088867,
          -6.740124225616455,
          0.6121191382408142,
          -8.370085716247559,
          -1.4233077764511108,
          -9.476316452026367,
          14.25130844116211,
          2.4174869060516357,
          -3.1317298412323,
          8.28794002532959,
          11.41675090789795,
          11.093544006347656,
          -13.214146614074707,
          -8.387255668640137,
          5.885519504547119,
          -3.1015138626098633,
          1.7773387432098389,
          5.559432506561279,
          -6.311600208282471,
          7.4265055656433105,
          -12.153322219848633,
          12.845467567443848,
          -6.126424789428711,
          1.13666832447052,
          8.749127388000488,
          -2.056819438934326,
          13.153824806213379,
          -6.79905366897583,
          -12.27027702331543,
          -11.148045539855957,
          -6.102692604064941,
          10.05238151550293,
          -15.867475509643555,
          3.071765184402466,
          7.222232341766357,
          11.98775577545166,
          14.684773445129395,
          -6.7986979484558105,
          -2.5143208503723145,
          -5.599483489990234,
          -7.001044273376465,
          7.8559184074401855,
          -11.011165618896484,
          5.69310188293457,
          -5.647633075714111,
          -4.463156223297119,
          -10.78350830078125,
          -9.985074043273926,
          -12.167229652404785,
          -3.2046475410461426,
          0.8326705098152161,
          -3.579939126968384,
          11.127013206481934,
          7.499382495880127,
          7.774783134460449,
          -6.04873514175415,
          -5.663544654846191,
          -2.900820016860962,
          -5.29302453994751,
          -11.469988822937012,
          -8.705662727355957,
          9.24039077758789,
          9.790553092956543,
          -1.6950732469558716,
          2.4173080921173096,
          -12.32176685333252,
          -2.2834463119506836,
          -5.072531223297119,
          7.7247209548950195,
          5.250782489776611,
          10.773605346679688,
          -9.714502334594727,
          -5.9545464515686035,
          1.0436158180236816,
          2.146150827407837,
          8.346705436706543,
          -10.08718490600586,
          0.9277760982513428,
          -7.0965657234191895,
          -2.9530317783355713,
          -6.891021251678467,
          -3.0523200035095215,
          1.6564563512802124,
          2.988698720932007,
          4.947999000549316,
          -6.53068733215332,
          13.001705169677734,
          -3.705933094024658,
          6.541298866271973,
          4.654163837432861,
          -0.5184407830238342,
          12.959738731384277,
          -0.8029209971427917,
          7.421240329742432,
          -1.141443133354187,
          -15.83900260925293,
          4.6555891036987305,
          -16.577926635742188,
          -12.015772819519043,
          7.01336669921875,
          -16.12042999267578,
          -8.121573448181152,
          -12.039949417114258,
          -7.921243190765381,
          1.4552708864212036,
          3.0859735012054443,
          -8.200583457946777,
          1.800761342048645,
          -5.524320125579834,
          -11.604747772216797,
          1.686578392982483,
          -12.596043586730957,
          11.608240127563477,
          -0.5387095808982849,
          -0.3025369942188263,
          -12.325096130371094,
          2.8724870681762695,
          7.969376564025879,
          10.994392395019531,
          -8.73733901977539,
          -16.63528823852539,
          12.057856559753418,
          -10.541120529174805,
          -4.753888130187988,
          10.874744415283203,
          12.937809944152832,
          1.8539103269577026,
          13.482963562011719,
          9.528931617736816,
          7.218765735626221,
          -12.878113746643066,
          12.762349128723145,
          -1.7992597818374634,
          -1.0800505876541138,
          9.541703224182129,
          6.112854957580566,
          -13.175990104675293,
          2.707473039627075,
          9.432373046875,
          11.918808937072754,
          -1.535224199295044,
          -7.943779468536377,
          9.607892990112305,
          9.868807792663574,
          -6.323554515838623,
          2.0700912475585938,
          0.6779813170433044,
          -10.727229118347168,
          7.625541687011719,
          4.8296942710876465,
          -7.2153215408325195,
          -2.1967012882232666,
          -8.471961975097656,
          -9.554065704345703,
          -8.793992042541504,
          -5.882552146911621,
          9.63422679901123,
          -10.65383243560791,
          -14.601655006408691,
          9.064659118652344,
          -12.949118614196777,
          9.36435604095459,
          0.6312728524208069,
          6.750809669494629,
          4.571635723114014,
          -12.060564994812012,
          7.379536151885986,
          -10.801356315612793,
          4.410685062408447,
          -12.385359764099121,
          -13.198573112487793,
          10.558890342712402,
          -15.998313903808594,
          -5.45121431350708,
          -13.2500638961792,
          2.925217390060425,
          2.438131332397461,
          6.627656936645508,
          2.129291534423828,
          -8.29503059387207,
          1.858704686164856,
          4.857938289642334,
          11.202406883239746,
          -6.235655307769775,
          -4.124966144561768,
          -7.499326705932617,
          -2.4297823905944824,
          2.4337081909179688,
          10.446510314941406,
          -11.164566040039062,
          7.81835412979126,
          14.905253410339355,
          -1.2281049489974976,
          0.3612842261791229,
          -13.646449089050293,
          1.220569133758545,
          0.923439621925354,
          0.3147779107093811,
          -3.0080807209014893,
          5.8489298820495605,
          4.151412010192871,
          5.841285228729248,
          4.908796310424805,
          5.619007587432861,
          -0.5287997722625732,
          -6.577792167663574,
          9.413450241088867,
          6.378799915313721,
          -4.51337194442749,
          3.3298959732055664,
          9.093424797058105,
          -6.971343994140625,
          9.803126335144043,
          -14.65541934967041,
          12.557050704956055,
          -3.2463693618774414,
          6.531362533569336,
          7.965394496917725,
          1.0313091278076172,
          10.78011417388916,
          -6.481077194213867,
          -8.412922859191895,
          -0.4448119103908539,
          -14.323661804199219,
          -6.759492874145508,
          16.419570922851562,
          -0.14842663705348969,
          0.5704662203788757,
          -10.878768920898438,
          7.2276740074157715,
          -0.16517020761966705,
          9.435047149658203,
          -0.696036159992218,
          -10.90746784210205,
          -6.325995922088623,
          14.681036949157715,
          15.448911666870117,
          0.4517563581466675,
          9.5114164352417,
          10.984399795532227,
          8.666508674621582,
          10.825983047485352,
          9.543536186218262,
          -8.694720268249512,
          -0.8009762763977051,
          -6.906031131744385,
          16.70525360107422,
          9.067861557006836,
          -14.185595512390137,
          -11.791555404663086,
          -12.870609283447266,
          8.525479316711426,
          0.0750691369175911,
          -0.137306809425354,
          -8.023713111877441,
          7.794966697692871,
          -5.287505626678467,
          7.360733985900879,
          -10.155699729919434,
          6.242946624755859,
          -7.131356716156006,
          -12.374052047729492,
          -10.579294204711914,
          13.296039581298828,
          -0.37293168902397156,
          0.50222247838974,
          3.233304977416992,
          7.430479526519775,
          3.508089780807495,
          -8.970499038696289,
          5.918919563293457,
          -11.07165241241455,
          -7.819525241851807,
          -10.54986572265625,
          4.234248638153076,
          -11.614507675170898,
          -2.831925392150879,
          10.331073760986328,
          10.82992172241211,
          -6.2958221435546875,
          -3.319462537765503,
          10.38502311706543,
          -1.250669002532959,
          8.552331924438477,
          13.862499237060547,
          -6.704090595245361,
          -5.533514499664307,
          15.853100776672363,
          -10.056543350219727,
          -7.665923118591309,
          15.902100563049316,
          1.8446903228759766,
          6.827500343322754,
          -1.4046555757522583,
          -8.383200645446777,
          2.185314416885376,
          -8.156431198120117,
          -2.9128639698028564,
          -8.555768013000488,
          8.74073314666748,
          3.3053693771362305,
          11.83049488067627,
          -0.5418838858604431,
          -10.528807640075684,
          -16.63128662109375,
          9.162941932678223,
          -5.0979743003845215,
          -1.2070727348327637,
          13.15800952911377,
          1.572420597076416,
          5.6172943115234375,
          2.879225969314575,
          10.753267288208008,
          -6.1204118728637695,
          -6.588545322418213,
          -3.754232168197632,
          2.0070834159851074,
          -8.985140800476074,
          -10.326282501220703,
          9.10264778137207,
          5.172719478607178,
          -5.996193885803223,
          -0.7522737979888916,
          1.3412846326828003,
          1.290757179260254,
          4.735513687133789,
          4.206322193145752,
          -0.9260378479957581,
          -6.5668439865112305,
          -1.4678261280059814,
          -14.122411727905273,
          -3.9280526638031006,
          -8.552740097045898,
          -11.388751029968262,
          11.89079475402832,
          6.721336364746094,
          -8.824677467346191,
          0.2851369082927704,
          5.229318141937256,
          6.045810699462891,
          11.06509017944336,
          -7.3718743324279785,
          -7.118021011352539,
          -11.524016380310059,
          -6.025199890136719,
          7.5038628578186035,
          9.23536491394043,
          -15.424599647521973,
          6.821816444396973,
          14.037520408630371,
          3.2949583530426025,
          4.853053092956543,
          10.693904876708984,
          -11.53852653503418,
          -7.048178672790527,
          7.378111839294434,
          -14.63779354095459,
          -5.5449724197387695,
          -10.594807624816895,
          -10.703974723815918,
          -9.766729354858398,
          -0.18985143303871155,
          -3.959752082824707,
          -5.706108093261719,
          4.092484951019287,
          -7.361555099487305,
          -6.5735039710998535,
          -11.149321556091309,
          -10.646378517150879,
          2.8528947830200195,
          2.6228647232055664,
          -8.822263717651367,
          -6.93843936920166,
          8.142147064208984,
          10.949657440185547,
          -9.56114387512207,
          0.5389721393585205,
          4.450166702270508,
          -9.90290355682373,
          6.935568809509277,
          6.829331874847412,
          -12.291751861572266,
          7.147647857666016,
          -8.241718292236328,
          11.323244094848633,
          3.501966953277588,
          11.511474609375,
          7.446609973907471,
          2.949049234390259,
          -5.98347282409668,
          -10.185763359069824,
          0.44669583439826965,
          1.1842142343521118,
          6.164584159851074,
          -8.781865119934082,
          -7.481339931488037,
          -7.8311848640441895,
          -8.937216758728027,
          6.406304359436035,
          -10.708747863769531,
          -15.388497352600098,
          -5.316183567047119,
          11.303637504577637,
          8.79024887084961,
          7.565569877624512,
          -6.0590105056762695,
          7.391608238220215,
          4.866397857666016,
          -7.9210429191589355,
          10.453218460083008,
          -5.248778820037842,
          5.487022399902344,
          0.881202220916748,
          -6.480203628540039,
          8.262102127075195,
          4.896473407745361,
          0.6367234587669373,
          -11.42362117767334,
          6.128032684326172,
          -11.75181770324707,
          13.76237678527832,
          3.426023006439209,
          11.501785278320312,
          10.012462615966797,
          15.804521560668945,
          1.7441344261169434,
          12.300605773925781,
          -8.987587928771973,
          1.8958404064178467,
          -11.623316764831543,
          0.9921411871910095,
          2.307788610458374,
          2.949610948562622,
          -9.829643249511719,
          -5.855881690979004,
          11.494750022888184,
          13.795334815979004,
          3.7753307819366455,
          5.861786365509033,
          2.5323543548583984,
          10.793492317199707,
          2.1253232955932617,
          -14.365486145019531,
          14.74892807006836,
          -8.972488403320312,
          -13.245439529418945,
          5.445582866668701,
          0.38663461804389954,
          8.599995613098145,
          -12.574894905090332,
          7.333452224731445,
          7.912439346313477,
          -12.066691398620605,
          7.932840347290039,
          9.42575740814209,
          -11.454728126525879,
          6.209073066711426,
          -4.4986772537231445,
          13.457722663879395,
          2.966146230697632,
          2.683103322982788,
          -7.901642799377441,
          5.820008277893066,
          0.37424230575561523,
          -11.137656211853027,
          6.189023017883301,
          -3.6076908111572266,
          8.055054664611816,
          -4.408480167388916,
          -10.786035537719727,
          -1.823012351989746,
          11.396712303161621,
          -9.823081016540527,
          8.633487701416016,
          -4.188629150390625,
          -2.0499308109283447,
          8.124155044555664,
          -6.2709527015686035,
          6.868955612182617,
          7.895660400390625,
          -5.0509467124938965,
          -10.305254936218262,
          -7.183160781860352,
          9.71092414855957,
          6.508081436157227,
          -7.534843444824219,
          -9.897083282470703,
          -14.794636726379395,
          0.23364129662513733,
          6.887348651885986,
          -6.311253547668457,
          7.020538806915283,
          -0.7127342224121094,
          -13.218393325805664,
          11.62447452545166,
          8.779765129089355,
          12.744643211364746,
          -6.7517805099487305,
          -6.755671501159668,
          -7.019239902496338,
          -9.523512840270996,
          6.307223796844482,
          -8.935856819152832,
          -4.120009422302246,
          -5.8444929122924805,
          -7.922196865081787,
          13.873075485229492,
          4.220826148986816,
          9.689424514770508,
          -6.327576637268066,
          -8.212960243225098,
          -9.236604690551758,
          -5.154853820800781,
          -5.775748252868652,
          -1.074266791343689,
          -8.703560829162598,
          8.461462020874023,
          9.61181354522705,
          10.293238639831543,
          10.775446891784668,
          -13.670215606689453,
          1.5371935367584229,
          -13.079630851745605,
          -3.588858127593994,
          13.52625846862793,
          -12.000123023986816,
          8.130285263061523,
          -6.00966739654541,
          -12.158224105834961,
          5.734748363494873,
          -0.6881977915763855,
          -8.159038543701172,
          16.68635368347168,
          -3.737370252609253,
          -1.0157849788665771,
          11.182790756225586,
          0.21014654636383057,
          7.865945816040039,
          1.3068534135818481,
          -8.75713062286377,
          6.8970866203308105,
          7.464608192443848,
          -0.12225255370140076,
          -2.057898998260498,
          2.0395119190216064,
          -0.49677538871765137,
          6.372256755828857,
          5.367379665374756,
          7.109652996063232,
          -0.9669605493545532,
          -5.035412788391113,
          5.163371562957764,
          10.27761459350586,
          -11.141976356506348,
          -0.764880359172821,
          7.205925464630127,
          11.726607322692871,
          8.96030330657959,
          -11.707303047180176,
          1.9272493124008179,
          -7.600060939788818,
          -4.494336128234863,
          5.381737232208252,
          -11.55041790008545,
          4.9756317138671875,
          9.168595314025879,
          -1.2924463748931885,
          8.413580894470215,
          2.582134246826172,
          -9.709031105041504,
          -7.321157455444336,
          0.6788528561592102,
          -12.3169527053833,
          7.603640079498291,
          1.3227999210357666,
          -5.3046135902404785,
          -0.4865269064903259,
          -7.3673505783081055,
          5.733849048614502,
          7.328480243682861,
          5.991666316986084,
          -5.961128234863281,
          -16.6956787109375,
          -1.965395450592041,
          3.296924114227295,
          -0.31286361813545227,
          9.639327049255371,
          -11.36180305480957,
          -14.880463600158691,
          14.889290809631348,
          7.998000144958496,
          -9.728671073913574,
          13.007071495056152,
          -9.834543228149414,
          6.942913055419922,
          -5.185387134552002,
          -12.363140106201172,
          -13.131680488586426,
          -8.101151466369629,
          -7.046597480773926,
          2.3485686779022217,
          -3.205678701400757,
          5.754305839538574,
          13.767783164978027,
          -9.539649963378906,
          9.440900802612305,
          10.866772651672363,
          10.11046314239502,
          6.72122049331665,
          -10.04451847076416,
          1.5598397254943848,
          9.539376258850098,
          -7.036035060882568,
          -1.57120680809021,
          9.317206382751465,
          4.589663982391357,
          14.393424034118652,
          -7.340238571166992,
          13.592452049255371,
          3.516693353652954,
          -15.44448184967041,
          -0.4681243598461151,
          -5.760577201843262,
          4.043910026550293,
          -8.348444938659668,
          7.148221015930176,
          -9.707340240478516,
          9.848712921142578,
          -5.4056267738342285,
          -0.5127127170562744,
          7.16184139251709,
          5.719956874847412,
          6.546953201293945,
          4.445544719696045,
          8.813228607177734,
          11.35293197631836,
          6.498662948608398,
          10.564116477966309,
          13.409307479858398,
          2.009608507156372,
          1.7413098812103271,
          10.388861656188965,
          -8.770215034484863,
          9.590083122253418,
          -1.385257601737976,
          -11.674447059631348,
          10.520573616027832,
          8.050382614135742,
          1.5769680738449097,
          6.4245734214782715,
          13.778707504272461,
          15.929025650024414,
          -8.721091270446777,
          -12.399353981018066,
          11.90303897857666,
          -8.331117630004883,
          -8.740823745727539,
          8.66539478302002,
          -2.0632171630859375,
          -6.808785438537598,
          -0.27929791808128357,
          -9.791291236877441,
          2.616259813308716,
          14.699901580810547,
          -11.568780899047852,
          1.6298104524612427,
          7.466928005218506,
          6.679470062255859,
          -2.0335612297058105,
          7.072005271911621,
          9.302408218383789,
          9.913444519042969,
          9.331324577331543,
          -11.379313468933105,
          0.2721741497516632,
          -6.488854885101318,
          -11.435319900512695,
          7.14169979095459,
          -7.0233330726623535,
          -11.480962753295898,
          -7.623345375061035,
          -14.26322078704834,
          7.759860992431641,
          2.1617610454559326,
          1.7259607315063477,
          -12.19144058227539,
          -5.6765522956848145,
          -3.139418363571167,
          -11.607769012451172,
          15.678378105163574,
          13.201977729797363,
          -10.617924690246582,
          -9.304939270019531,
          6.927217960357666,
          -9.656503677368164,
          9.199714660644531,
          -9.385000228881836,
          12.636404037475586,
          -11.7415771484375,
          -6.267674922943115,
          -12.112203598022461,
          -5.377457141876221,
          -5.829500198364258,
          -6.673685073852539,
          -10.910161972045898,
          -5.242842674255371,
          -1.5066243410110474,
          -9.208354949951172,
          6.622222423553467,
          7.053053855895996,
          -5.881237983703613,
          -6.617546081542969,
          14.562776565551758,
          -9.558671951293945,
          11.272915840148926,
          3.9921929836273193,
          -7.3904128074646,
          15.879339218139648,
          -8.671228408813477,
          -4.5138840675354,
          6.24354362487793,
          -3.8453116416931152,
          -3.501845121383667,
          -11.55542278289795,
          -11.162744522094727,
          -4.7876787185668945,
          -0.3654342591762543,
          -8.65485954284668,
          -4.573789596557617,
          -5.6816301345825195,
          6.519624710083008,
          -8.266326904296875,
          11.463702201843262,
          0.9775301814079285,
          -8.053929328918457,
          -11.73835563659668,
          -6.909875392913818,
          -10.004436492919922,
          -4.869584560394287,
          -5.911005973815918,
          1.4940990209579468,
          7.892628192901611,
          -9.792728424072266,
          -6.638870716094971,
          -0.7129725217819214,
          9.997099876403809,
          -0.8433659076690674,
          1.1849279403686523,
          7.509959697723389,
          7.720436096191406,
          3.616086721420288,
          6.096292495727539,
          12.772418022155762,
          -10.381999015808105,
          -2.3918612003326416,
          -5.623697280883789,
          -16.6919002532959,
          8.248160362243652,
          -3.2759532928466797,
          -5.495553016662598,
          7.641909599304199,
          13.807104110717773,
          11.058724403381348,
          -5.243518352508545,
          10.839676856994629,
          -6.672327518463135,
          7.255676746368408,
          5.520619869232178,
          10.097548484802246,
          3.2274086475372314,
          -4.153295993804932,
          -6.248430252075195,
          -0.09018813818693161,
          -9.93289566040039,
          -8.249247550964355,
          -13.23978042602539,
          0.09516066312789917,
          -10.157645225524902,
          5.757300853729248,
          0.7900186777114868,
          1.726515769958496,
          0.31452834606170654,
          -11.418766975402832,
          6.4747185707092285,
          -6.472968101501465,
          -12.452898979187012,
          8.695822715759277,
          9.663308143615723,
          -5.97674560546875,
          4.862102031707764,
          6.966911792755127,
          1.1538549661636353,
          7.774237155914307,
          -0.3752465546131134,
          3.766056537628174,
          -10.084110260009766,
          8.376981735229492,
          -11.650365829467773,
          11.665539741516113,
          -4.011163234710693,
          -7.828170299530029,
          9.9187650680542,
          -0.1697656810283661,
          -6.801385879516602,
          -15.80868911743164,
          -8.41466999053955,
          -14.066253662109375,
          -12.686566352844238,
          -5.199217796325684,
          -2.0829241275787354,
          12.687538146972656,
          -12.853537559509277,
          -16.72591209411621,
          -6.530033588409424,
          -9.594889640808105,
          -8.646308898925781,
          -0.2492881715297699,
          8.301468849182129,
          -4.934177875518799,
          1.515740156173706,
          -5.615053653717041,
          1.373915433883667,
          7.469500541687012,
          3.052900791168213,
          -1.7408742904663086,
          5.734420299530029,
          -2.6145458221435547,
          -0.39903780817985535,
          2.0118179321289062,
          -9.927290916442871,
          1.5732792615890503,
          11.204914093017578,
          3.3669967651367188,
          14.801314353942871,
          11.296063423156738,
          1.3012045621871948,
          -6.58447265625,
          2.9000256061553955,
          8.027955055236816,
          -4.654698371887207,
          -8.046100616455078,
          -7.411552429199219,
          -6.835416316986084,
          13.816473007202148,
          -6.038863658905029,
          -8.454536437988281,
          -11.381896018981934,
          7.734832763671875,
          7.7351179122924805,
          -8.873344421386719,
          -1.545961856842041,
          -7.603403091430664,
          4.1742472648620605,
          16.027273178100586,
          -12.106390953063965,
          6.91147518157959,
          -3.190847396850586,
          -9.17813777923584,
          -4.872245788574219,
          6.087884902954102,
          12.79201889038086,
          12.33362865447998,
          11.846542358398438,
          0.5424981713294983,
          0.6000052690505981,
          -12.263904571533203,
          -0.07792086154222488,
          -10.746759414672852,
          -1.5234706401824951,
          0.7478063106536865,
          5.7257981300354,
          -13.8412446975708,
          10.890413284301758,
          8.4501314163208,
          -9.850159645080566,
          -7.00218391418457,
          11.930005073547363,
          -9.887430191040039,
          4.5796589851379395,
          -8.180134773254395,
          1.9768174886703491,
          -6.149362564086914,
          -4.702681064605713,
          5.604841232299805,
          -3.2537033557891846,
          4.796211242675781,
          -6.567939281463623,
          1.8053666353225708,
          13.562472343444824,
          -3.7495105266571045,
          -3.276282548904419,
          9.634062767028809,
          7.844204425811768,
          -5.132957935333252,
          1.7414779663085938,
          -9.401352882385254,
          6.015256404876709,
          0.5516947507858276,
          -8.241080284118652,
          -12.664726257324219,
          12.513126373291016,
          -12.493990898132324,
          -11.372406005859375,
          8.8522310256958,
          1.1921786069869995,
          -0.14115221798419952,
          -3.751282215118408,
          -7.013550758361816,
          -3.9769058227539062,
          5.401645183563232,
          3.3857526779174805,
          -2.8359274864196777,
          -9.75059700012207,
          0.23313353955745697,
          3.6889145374298096,
          8.753560066223145,
          7.784111976623535,
          -9.593978881835938,
          6.584932804107666,
          -11.235557556152344,
          3.214634656906128,
          -0.4691008925437927,
          -16.64871597290039,
          16.5039005279541,
          -7.571475028991699,
          -5.865910530090332,
          -1.050703525543213,
          -1.5533236265182495,
          -4.453079700469971,
          -15.87774658203125,
          9.150798797607422,
          -1.721070647239685,
          0.6416627168655396,
          1.0460245609283447,
          8.40597152709961,
          -9.046470642089844,
          -0.8848751187324524,
          -12.348869323730469,
          -2.7744057178497314,
          -5.956403732299805,
          9.45986557006836,
          1.8763798475265503,
          -7.991994380950928,
          -2.498255968093872,
          7.673468112945557,
          15.918543815612793,
          -8.775445938110352,
          13.575900077819824,
          13.069823265075684,
          11.65785026550293,
          1.1345758438110352,
          -8.812800407409668,
          -16.492464065551758,
          6.57062292098999,
          5.332371711730957,
          1.516641616821289,
          -9.632747650146484,
          -6.16921329498291,
          -0.8334952592849731,
          10.89259147644043,
          -11.65157699584961,
          -0.5530943870544434,
          3.673961877822876,
          16.454648971557617,
          5.81795072555542,
          -9.878005027770996,
          11.776876449584961,
          10.974006652832031,
          -10.467101097106934,
          13.482540130615234,
          9.891097068786621,
          -5.216610431671143,
          -11.8609037399292,
          -8.691693305969238,
          -7.510110855102539,
          10.415773391723633,
          -3.583139181137085,
          6.596813678741455,
          -9.04450798034668,
          11.413934707641602,
          -6.1467485427856445,
          10.79004955291748,
          -12.213850975036621,
          -5.425451755523682,
          -15.118464469909668,
          13.040943145751953,
          -8.255807876586914,
          12.220723152160645,
          -4.680328369140625,
          2.9572994709014893,
          -1.48788321018219,
          -12.123703002929688,
          -1.6926512718200684,
          -12.953255653381348,
          5.708804607391357,
          -7.115673065185547,
          -2.009674310684204,
          -9.327953338623047,
          -6.51755952835083,
          -13.003283500671387,
          -4.081905364990234,
          3.765444278717041,
          -7.954968452453613,
          0.18349860608577728,
          -16.361196517944336
         ]
        }
       ],
       "layout": {
        "coloraxis": {
         "colorbar": {
          "title": {
           "text": "Label"
          }
         },
         "colorscale": [
          [
           0,
           "#0d0887"
          ],
          [
           0.1111111111111111,
           "#46039f"
          ],
          [
           0.2222222222222222,
           "#7201a8"
          ],
          [
           0.3333333333333333,
           "#9c179e"
          ],
          [
           0.4444444444444444,
           "#bd3786"
          ],
          [
           0.5555555555555556,
           "#d8576b"
          ],
          [
           0.6666666666666666,
           "#ed7953"
          ],
          [
           0.7777777777777778,
           "#fb9f3a"
          ],
          [
           0.8888888888888888,
           "#fdca26"
          ],
          [
           1,
           "#f0f921"
          ]
         ]
        },
        "height": 800,
        "legend": {
         "tracegroupgap": 0
        },
        "scene": {
         "domain": {
          "x": [
           0,
           1
          ],
          "y": [
           0,
           1
          ]
         },
         "xaxis": {
          "title": {
           "text": "0"
          }
         },
         "yaxis": {
          "title": {
           "text": "1"
          }
         },
         "zaxis": {
          "title": {
           "text": "2"
          }
         }
        },
        "template": {
         "data": {
          "bar": [
           {
            "error_x": {
             "color": "#2a3f5f"
            },
            "error_y": {
             "color": "#2a3f5f"
            },
            "marker": {
             "line": {
              "color": "#E5ECF6",
              "width": 0.5
             }
            },
            "type": "bar"
           }
          ],
          "barpolar": [
           {
            "marker": {
             "line": {
              "color": "#E5ECF6",
              "width": 0.5
             }
            },
            "type": "barpolar"
           }
          ],
          "carpet": [
           {
            "aaxis": {
             "endlinecolor": "#2a3f5f",
             "gridcolor": "white",
             "linecolor": "white",
             "minorgridcolor": "white",
             "startlinecolor": "#2a3f5f"
            },
            "baxis": {
             "endlinecolor": "#2a3f5f",
             "gridcolor": "white",
             "linecolor": "white",
             "minorgridcolor": "white",
             "startlinecolor": "#2a3f5f"
            },
            "type": "carpet"
           }
          ],
          "choropleth": [
           {
            "colorbar": {
             "outlinewidth": 0,
             "ticks": ""
            },
            "type": "choropleth"
           }
          ],
          "contour": [
           {
            "colorbar": {
             "outlinewidth": 0,
             "ticks": ""
            },
            "colorscale": [
             [
              0,
              "#0d0887"
             ],
             [
              0.1111111111111111,
              "#46039f"
             ],
             [
              0.2222222222222222,
              "#7201a8"
             ],
             [
              0.3333333333333333,
              "#9c179e"
             ],
             [
              0.4444444444444444,
              "#bd3786"
             ],
             [
              0.5555555555555556,
              "#d8576b"
             ],
             [
              0.6666666666666666,
              "#ed7953"
             ],
             [
              0.7777777777777778,
              "#fb9f3a"
             ],
             [
              0.8888888888888888,
              "#fdca26"
             ],
             [
              1,
              "#f0f921"
             ]
            ],
            "type": "contour"
           }
          ],
          "contourcarpet": [
           {
            "colorbar": {
             "outlinewidth": 0,
             "ticks": ""
            },
            "type": "contourcarpet"
           }
          ],
          "heatmap": [
           {
            "colorbar": {
             "outlinewidth": 0,
             "ticks": ""
            },
            "colorscale": [
             [
              0,
              "#0d0887"
             ],
             [
              0.1111111111111111,
              "#46039f"
             ],
             [
              0.2222222222222222,
              "#7201a8"
             ],
             [
              0.3333333333333333,
              "#9c179e"
             ],
             [
              0.4444444444444444,
              "#bd3786"
             ],
             [
              0.5555555555555556,
              "#d8576b"
             ],
             [
              0.6666666666666666,
              "#ed7953"
             ],
             [
              0.7777777777777778,
              "#fb9f3a"
             ],
             [
              0.8888888888888888,
              "#fdca26"
             ],
             [
              1,
              "#f0f921"
             ]
            ],
            "type": "heatmap"
           }
          ],
          "heatmapgl": [
           {
            "colorbar": {
             "outlinewidth": 0,
             "ticks": ""
            },
            "colorscale": [
             [
              0,
              "#0d0887"
             ],
             [
              0.1111111111111111,
              "#46039f"
             ],
             [
              0.2222222222222222,
              "#7201a8"
             ],
             [
              0.3333333333333333,
              "#9c179e"
             ],
             [
              0.4444444444444444,
              "#bd3786"
             ],
             [
              0.5555555555555556,
              "#d8576b"
             ],
             [
              0.6666666666666666,
              "#ed7953"
             ],
             [
              0.7777777777777778,
              "#fb9f3a"
             ],
             [
              0.8888888888888888,
              "#fdca26"
             ],
             [
              1,
              "#f0f921"
             ]
            ],
            "type": "heatmapgl"
           }
          ],
          "histogram": [
           {
            "marker": {
             "colorbar": {
              "outlinewidth": 0,
              "ticks": ""
             }
            },
            "type": "histogram"
           }
          ],
          "histogram2d": [
           {
            "colorbar": {
             "outlinewidth": 0,
             "ticks": ""
            },
            "colorscale": [
             [
              0,
              "#0d0887"
             ],
             [
              0.1111111111111111,
              "#46039f"
             ],
             [
              0.2222222222222222,
              "#7201a8"
             ],
             [
              0.3333333333333333,
              "#9c179e"
             ],
             [
              0.4444444444444444,
              "#bd3786"
             ],
             [
              0.5555555555555556,
              "#d8576b"
             ],
             [
              0.6666666666666666,
              "#ed7953"
             ],
             [
              0.7777777777777778,
              "#fb9f3a"
             ],
             [
              0.8888888888888888,
              "#fdca26"
             ],
             [
              1,
              "#f0f921"
             ]
            ],
            "type": "histogram2d"
           }
          ],
          "histogram2dcontour": [
           {
            "colorbar": {
             "outlinewidth": 0,
             "ticks": ""
            },
            "colorscale": [
             [
              0,
              "#0d0887"
             ],
             [
              0.1111111111111111,
              "#46039f"
             ],
             [
              0.2222222222222222,
              "#7201a8"
             ],
             [
              0.3333333333333333,
              "#9c179e"
             ],
             [
              0.4444444444444444,
              "#bd3786"
             ],
             [
              0.5555555555555556,
              "#d8576b"
             ],
             [
              0.6666666666666666,
              "#ed7953"
             ],
             [
              0.7777777777777778,
              "#fb9f3a"
             ],
             [
              0.8888888888888888,
              "#fdca26"
             ],
             [
              1,
              "#f0f921"
             ]
            ],
            "type": "histogram2dcontour"
           }
          ],
          "mesh3d": [
           {
            "colorbar": {
             "outlinewidth": 0,
             "ticks": ""
            },
            "type": "mesh3d"
           }
          ],
          "parcoords": [
           {
            "line": {
             "colorbar": {
              "outlinewidth": 0,
              "ticks": ""
             }
            },
            "type": "parcoords"
           }
          ],
          "pie": [
           {
            "automargin": true,
            "type": "pie"
           }
          ],
          "scatter": [
           {
            "marker": {
             "colorbar": {
              "outlinewidth": 0,
              "ticks": ""
             }
            },
            "type": "scatter"
           }
          ],
          "scatter3d": [
           {
            "line": {
             "colorbar": {
              "outlinewidth": 0,
              "ticks": ""
             }
            },
            "marker": {
             "colorbar": {
              "outlinewidth": 0,
              "ticks": ""
             }
            },
            "type": "scatter3d"
           }
          ],
          "scattercarpet": [
           {
            "marker": {
             "colorbar": {
              "outlinewidth": 0,
              "ticks": ""
             }
            },
            "type": "scattercarpet"
           }
          ],
          "scattergeo": [
           {
            "marker": {
             "colorbar": {
              "outlinewidth": 0,
              "ticks": ""
             }
            },
            "type": "scattergeo"
           }
          ],
          "scattergl": [
           {
            "marker": {
             "colorbar": {
              "outlinewidth": 0,
              "ticks": ""
             }
            },
            "type": "scattergl"
           }
          ],
          "scattermapbox": [
           {
            "marker": {
             "colorbar": {
              "outlinewidth": 0,
              "ticks": ""
             }
            },
            "type": "scattermapbox"
           }
          ],
          "scatterpolar": [
           {
            "marker": {
             "colorbar": {
              "outlinewidth": 0,
              "ticks": ""
             }
            },
            "type": "scatterpolar"
           }
          ],
          "scatterpolargl": [
           {
            "marker": {
             "colorbar": {
              "outlinewidth": 0,
              "ticks": ""
             }
            },
            "type": "scatterpolargl"
           }
          ],
          "scatterternary": [
           {
            "marker": {
             "colorbar": {
              "outlinewidth": 0,
              "ticks": ""
             }
            },
            "type": "scatterternary"
           }
          ],
          "surface": [
           {
            "colorbar": {
             "outlinewidth": 0,
             "ticks": ""
            },
            "colorscale": [
             [
              0,
              "#0d0887"
             ],
             [
              0.1111111111111111,
              "#46039f"
             ],
             [
              0.2222222222222222,
              "#7201a8"
             ],
             [
              0.3333333333333333,
              "#9c179e"
             ],
             [
              0.4444444444444444,
              "#bd3786"
             ],
             [
              0.5555555555555556,
              "#d8576b"
             ],
             [
              0.6666666666666666,
              "#ed7953"
             ],
             [
              0.7777777777777778,
              "#fb9f3a"
             ],
             [
              0.8888888888888888,
              "#fdca26"
             ],
             [
              1,
              "#f0f921"
             ]
            ],
            "type": "surface"
           }
          ],
          "table": [
           {
            "cells": {
             "fill": {
              "color": "#EBF0F8"
             },
             "line": {
              "color": "white"
             }
            },
            "header": {
             "fill": {
              "color": "#C8D4E3"
             },
             "line": {
              "color": "white"
             }
            },
            "type": "table"
           }
          ]
         },
         "layout": {
          "annotationdefaults": {
           "arrowcolor": "#2a3f5f",
           "arrowhead": 0,
           "arrowwidth": 1
          },
          "coloraxis": {
           "colorbar": {
            "outlinewidth": 0,
            "ticks": ""
           }
          },
          "colorscale": {
           "diverging": [
            [
             0,
             "#8e0152"
            ],
            [
             0.1,
             "#c51b7d"
            ],
            [
             0.2,
             "#de77ae"
            ],
            [
             0.3,
             "#f1b6da"
            ],
            [
             0.4,
             "#fde0ef"
            ],
            [
             0.5,
             "#f7f7f7"
            ],
            [
             0.6,
             "#e6f5d0"
            ],
            [
             0.7,
             "#b8e186"
            ],
            [
             0.8,
             "#7fbc41"
            ],
            [
             0.9,
             "#4d9221"
            ],
            [
             1,
             "#276419"
            ]
           ],
           "sequential": [
            [
             0,
             "#0d0887"
            ],
            [
             0.1111111111111111,
             "#46039f"
            ],
            [
             0.2222222222222222,
             "#7201a8"
            ],
            [
             0.3333333333333333,
             "#9c179e"
            ],
            [
             0.4444444444444444,
             "#bd3786"
            ],
            [
             0.5555555555555556,
             "#d8576b"
            ],
            [
             0.6666666666666666,
             "#ed7953"
            ],
            [
             0.7777777777777778,
             "#fb9f3a"
            ],
            [
             0.8888888888888888,
             "#fdca26"
            ],
            [
             1,
             "#f0f921"
            ]
           ],
           "sequentialminus": [
            [
             0,
             "#0d0887"
            ],
            [
             0.1111111111111111,
             "#46039f"
            ],
            [
             0.2222222222222222,
             "#7201a8"
            ],
            [
             0.3333333333333333,
             "#9c179e"
            ],
            [
             0.4444444444444444,
             "#bd3786"
            ],
            [
             0.5555555555555556,
             "#d8576b"
            ],
            [
             0.6666666666666666,
             "#ed7953"
            ],
            [
             0.7777777777777778,
             "#fb9f3a"
            ],
            [
             0.8888888888888888,
             "#fdca26"
            ],
            [
             1,
             "#f0f921"
            ]
           ]
          },
          "colorway": [
           "#636efa",
           "#EF553B",
           "#00cc96",
           "#ab63fa",
           "#FFA15A",
           "#19d3f3",
           "#FF6692",
           "#B6E880",
           "#FF97FF",
           "#FECB52"
          ],
          "font": {
           "color": "#2a3f5f"
          },
          "geo": {
           "bgcolor": "white",
           "lakecolor": "white",
           "landcolor": "#E5ECF6",
           "showlakes": true,
           "showland": true,
           "subunitcolor": "white"
          },
          "hoverlabel": {
           "align": "left"
          },
          "hovermode": "closest",
          "mapbox": {
           "style": "light"
          },
          "paper_bgcolor": "white",
          "plot_bgcolor": "#E5ECF6",
          "polar": {
           "angularaxis": {
            "gridcolor": "white",
            "linecolor": "white",
            "ticks": ""
           },
           "bgcolor": "#E5ECF6",
           "radialaxis": {
            "gridcolor": "white",
            "linecolor": "white",
            "ticks": ""
           }
          },
          "scene": {
           "xaxis": {
            "backgroundcolor": "#E5ECF6",
            "gridcolor": "white",
            "gridwidth": 2,
            "linecolor": "white",
            "showbackground": true,
            "ticks": "",
            "zerolinecolor": "white"
           },
           "yaxis": {
            "backgroundcolor": "#E5ECF6",
            "gridcolor": "white",
            "gridwidth": 2,
            "linecolor": "white",
            "showbackground": true,
            "ticks": "",
            "zerolinecolor": "white"
           },
           "zaxis": {
            "backgroundcolor": "#E5ECF6",
            "gridcolor": "white",
            "gridwidth": 2,
            "linecolor": "white",
            "showbackground": true,
            "ticks": "",
            "zerolinecolor": "white"
           }
          },
          "shapedefaults": {
           "line": {
            "color": "#2a3f5f"
           }
          },
          "ternary": {
           "aaxis": {
            "gridcolor": "white",
            "linecolor": "white",
            "ticks": ""
           },
           "baxis": {
            "gridcolor": "white",
            "linecolor": "white",
            "ticks": ""
           },
           "bgcolor": "#E5ECF6",
           "caxis": {
            "gridcolor": "white",
            "linecolor": "white",
            "ticks": ""
           }
          },
          "title": {
           "x": 0.05
          },
          "xaxis": {
           "automargin": true,
           "gridcolor": "white",
           "linecolor": "white",
           "ticks": "",
           "title": {
            "standoff": 15
           },
           "zerolinecolor": "white",
           "zerolinewidth": 2
          },
          "yaxis": {
           "automargin": true,
           "gridcolor": "white",
           "linecolor": "white",
           "ticks": "",
           "title": {
            "standoff": 15
           },
           "zerolinecolor": "white",
           "zerolinewidth": 2
          }
         }
        },
        "title": {
         "text": "3d TSNE Plot for Outliers"
        },
        "width": 900
       }
      },
      "text/html": [
       "<div>                            <div id=\"28ff2158-47e5-483c-9f06-eaf6f82f5d1e\" class=\"plotly-graph-div\" style=\"height:800px; width:900px;\"></div>            <script type=\"text/javascript\">                require([\"plotly\"], function(Plotly) {                    window.PLOTLYENV=window.PLOTLYENV || {};                                    if (document.getElementById(\"28ff2158-47e5-483c-9f06-eaf6f82f5d1e\")) {                    Plotly.newPlot(                        \"28ff2158-47e5-483c-9f06-eaf6f82f5d1e\",                        [{\"customdata\": [[\"50810F_4\"], [\"3516_9\"], [\"3411_12\"], [\"3416_4\"], [\"J1291_2\"], [\"3429_2\"], [\"3491_2\"], [\"3491_4\"], [\"J3295_7\"], [\"50810C_9\"], [\"3525_14\"], [\"3414_12\"], [\"3504_5\"], [\"294_9\"], [\"3484_6\"], [\"3422_14\"], [\"3479_4\"], [\"3488_1\"], [\"50810B_13\"], [\"3498_9\"], [\"321_12\"], [\"322_11\"], [\"3481_6\"], [\"3497_14\"], [\"3490_4\"], [\"3426_13\"], [\"3606_13\"], [\"3484_12\"], [\"3517_10\"], [\"3501_11\"], [\"3505_12\"], [\"361_5\"], [\"321_7\"], [\"364_8\"], [\"3412_10\"], [\"3429_3\"], [\"3501_12\"], [\"3415_12\"], [\"3477_10\"], [\"J3295_12\"], [\"3497_15\"], [\"293_2\"], [\"361_3\"], [\"3421_10\"], [\"3491_3\"], [\"3507_5\"], [\"3415_14\"], [\"320_2\"], [\"3530_8\"], [\"3516_4\"], [\"3413_13\"], [\"3481_14\"], [\"3497_7\"], [\"3419_5\"], [\"3429_7\"], [\"18899_5\"], [\"50810E_4\"], [\"3522_1\"], [\"3423_4\"], [\"3483_13\"], [\"3422_6\"], [\"J1291_13\"], [\"363_3\"], [\"365_5\"], [\"18899_15\"], [\"3605_10\"], [\"3483_7\"], [\"3424_13\"], [\"3490_7\"], [\"3606_1\"], [\"J2292_6\"], [\"3513_10\"], [\"3416_12\"], [\"3497_3\"], [\"3507_9\"], [\"3414_9\"], [\"J3295_10\"], [\"3421_5\"], [\"3483_12\"], [\"3421_1\"], [\"362_2\"], [\"3417_12\"], [\"3507_3\"], [\"321_15\"], [\"3418_12\"], [\"3480_7\"], [\"293_14\"], [\"50810A_15\"], [\"J3295_5\"], [\"311_9\"], [\"50810B_5\"], [\"3521_7\"], [\"3488_7\"], [\"3422_5\"], [\"3480_11\"], [\"3525_5\"], [\"3498_3\"], [\"3423_15\"], [\"3499_12\"], [\"3412_14\"], [\"J2292_7\"], [\"3530_9\"], [\"3425_1\"], [\"3491_10\"], [\"3479_7\"], [\"3414_15\"], [\"3490_3\"], [\"321_5\"], [\"3605_2\"], [\"363_6\"], [\"3504_4\"], [\"3426_6\"], [\"3415_2\"], [\"3426_11\"], [\"309_11\"], [\"3411_1\"], [\"3419_4\"], [\"3479_5\"], [\"3419_14\"], [\"365_6\"], [\"18899_8\"], [\"3420_9\"], [\"3503_8\"], [\"3489_14\"], [\"3424_3\"], [\"3499_7\"], [\"3415_9\"], [\"3423_9\"], [\"3517_4\"], [\"3605_7\"], [\"293_9\"], [\"3491_14\"], [\"365_8\"], [\"3521_5\"], [\"3501_9\"], [\"3502_10\"], [\"293_11\"], [\"3525_12\"], [\"50810F_13\"], [\"3415_4\"], [\"3490_14\"], [\"3419_15\"], [\"50810C_10\"], [\"3423_13\"], [\"3534_2\"], [\"320_10\"], [\"320_1\"], [\"3525_7\"], [\"3521_2\"], [\"321_10\"], [\"18899_2\"], [\"364_4\"], [\"50810C_8\"], [\"J2292_14\"], [\"50810A_9\"], [\"309_4\"], [\"3477_8\"], [\"365_14\"], [\"3525_15\"], [\"3505_11\"], [\"50810E_5\"], [\"3501_7\"], [\"3488_13\"], [\"321_14\"], [\"322_4\"], [\"3422_1\"], [\"3480_8\"], [\"3499_11\"], [\"3412_4\"], [\"3416_3\"], [\"3479_3\"], [\"J1291_5\"], [\"J2292_12\"], [\"3490_5\"], [\"3503_4\"], [\"3503_5\"], [\"3422_8\"], [\"50810F_1\"], [\"3489_4\"], [\"3420_1\"], [\"322_7\"], [\"365_10\"], [\"322_8\"], [\"3502_13\"], [\"309_13\"], [\"3479_2\"], [\"3489_13\"], [\"50810F_11\"], [\"3516_15\"], [\"50810B_9\"], [\"293_12\"], [\"3413_5\"], [\"3478_5\"], [\"3420_6\"], [\"3422_11\"], [\"365_15\"], [\"3525_3\"], [\"3517_14\"], [\"18899_9\"], [\"3476_15\"], [\"3500_7\"], [\"3517_1\"], [\"3480_2\"], [\"309_3\"], [\"3481_15\"], [\"3411_13\"], [\"3534_7\"], [\"3483_10\"], [\"3525_2\"], [\"3478_4\"], [\"3489_7\"], [\"18899_4\"], [\"50810C_2\"], [\"3501_4\"], [\"50810D_5\"], [\"364_6\"], [\"3513_5\"], [\"3429_14\"], [\"3504_15\"], [\"3483_15\"], [\"3416_7\"], [\"3479_13\"], [\"18899_14\"], [\"3477_13\"], [\"3477_9\"], [\"3418_2\"], [\"3500_13\"], [\"3478_9\"], [\"3477_7\"], [\"3425_9\"], [\"3480_6\"], [\"3507_2\"], [\"3417_6\"], [\"321_11\"], [\"3420_4\"], [\"3520_1\"], [\"J2292_3\"], [\"311_11\"], [\"322_13\"], [\"3491_1\"], [\"320_15\"], [\"3417_3\"], [\"3488_3\"], [\"3418_6\"], [\"364_11\"], [\"J1291_4\"], [\"50810A_1\"], [\"50810D_9\"], [\"50810D_7\"], [\"365_2\"], [\"3478_14\"], [\"3418_5\"], [\"50810F_5\"], [\"3418_3\"], [\"362_6\"], [\"3481_11\"], [\"3522_2\"], [\"3484_2\"], [\"3480_15\"], [\"50810E_11\"], [\"322_1\"], [\"50810F_9\"], [\"3499_3\"], [\"361_8\"], [\"362_11\"], [\"3418_11\"], [\"3421_15\"], [\"50810A_5\"], [\"3478_7\"], [\"3413_3\"], [\"3489_10\"], [\"365_12\"], [\"3507_6\"], [\"50810B_12\"], [\"50810B_11\"], [\"3488_12\"], [\"3498_1\"], [\"3605_8\"], [\"3416_1\"], [\"362_7\"], [\"361_14\"], [\"3490_1\"], [\"3516_2\"], [\"3606_8\"], [\"3521_3\"], [\"50810B_10\"], [\"3513_9\"], [\"3476_1\"], [\"3478_13\"], [\"3504_7\"], [\"3417_15\"], [\"311_15\"], [\"3412_1\"], [\"3503_9\"], [\"3424_14\"], [\"3479_15\"], [\"3606_4\"], [\"3411_9\"], [\"3414_3\"], [\"3497_6\"], [\"3421_9\"], [\"J2292_4\"], [\"322_6\"], [\"3426_8\"], [\"50810E_14\"], [\"3484_8\"], [\"3503_15\"], [\"3501_13\"], [\"3484_3\"], [\"3420_12\"], [\"3500_11\"], [\"50810D_1\"], [\"50810B_14\"], [\"3477_6\"], [\"3501_8\"], [\"3530_11\"], [\"3517_7\"], [\"3503_10\"], [\"3483_14\"], [\"3423_8\"], [\"322_12\"], [\"3499_5\"], [\"320_4\"], [\"3418_7\"], [\"362_5\"], [\"3419_10\"], [\"50810F_8\"], [\"3605_4\"], [\"3502_7\"], [\"3415_3\"], [\"3415_10\"], [\"3429_1\"], [\"3415_8\"], [\"50810E_9\"], [\"3481_3\"], [\"J1291_1\"], [\"3416_10\"], [\"3525_1\"], [\"3534_15\"], [\"3606_10\"], [\"309_6\"], [\"3477_11\"], [\"3605_14\"], [\"3499_15\"], [\"3499_8\"], [\"3480_10\"], [\"3429_6\"], [\"3477_15\"], [\"3426_9\"], [\"3417_2\"], [\"3426_14\"], [\"364_12\"], [\"3416_15\"], [\"362_12\"], [\"3490_12\"], [\"50810C_11\"], [\"3522_6\"], [\"3488_10\"], [\"3491_7\"], [\"3416_13\"], [\"3507_14\"], [\"50810C_14\"], [\"3503_11\"], [\"3417_5\"], [\"365_1\"], [\"3422_2\"], [\"309_10\"], [\"50810F_6\"], [\"3419_2\"], [\"363_5\"], [\"3484_11\"], [\"3415_7\"], [\"3414_14\"], [\"50810E_8\"], [\"293_7\"], [\"3500_15\"], [\"18899_7\"], [\"3420_2\"], [\"3605_11\"], [\"3424_11\"], [\"3516_12\"], [\"3500_3\"], [\"3426_2\"], [\"3416_11\"], [\"3423_2\"], [\"50810B_8\"], [\"3412_13\"], [\"J3295_14\"], [\"3489_5\"], [\"3424_15\"], [\"3525_6\"], [\"3476_10\"], [\"3488_5\"], [\"3481_7\"], [\"309_8\"], [\"50810C_13\"], [\"294_6\"], [\"3480_13\"], [\"3429_4\"], [\"3420_14\"], [\"3478_15\"], [\"3522_5\"], [\"3489_9\"], [\"3498_4\"], [\"3424_1\"], [\"3505_6\"], [\"3476_7\"], [\"3505_5\"], [\"361_10\"], [\"3525_9\"], [\"3530_6\"], [\"3490_9\"], [\"3513_11\"], [\"3517_9\"], [\"3522_9\"], [\"3534_14\"], [\"3530_14\"], [\"294_14\"], [\"3500_4\"], [\"3416_9\"], [\"3606_9\"], [\"3420_3\"], [\"3483_5\"], [\"3415_5\"], [\"3521_14\"], [\"3477_3\"], [\"3422_13\"], [\"50810F_10\"], [\"3414_13\"], [\"3490_6\"], [\"320_14\"], [\"3422_15\"], [\"3520_14\"], [\"3429_15\"], [\"3481_2\"], [\"3414_6\"], [\"3477_12\"], [\"50810D_4\"], [\"3516_6\"], [\"363_8\"], [\"3516_10\"], [\"50810E_1\"], [\"3476_5\"], [\"309_1\"], [\"50810F_3\"], [\"3484_1\"], [\"3497_8\"], [\"3478_2\"], [\"3534_13\"], [\"3429_12\"], [\"3516_13\"], [\"3513_13\"], [\"3525_8\"], [\"3429_8\"], [\"3412_8\"], [\"3423_1\"], [\"3520_6\"], [\"50810C_4\"], [\"3522_14\"], [\"3504_2\"], [\"3517_13\"], [\"3499_1\"], [\"3525_13\"], [\"3413_2\"], [\"3484_4\"], [\"3490_10\"], [\"364_5\"], [\"50810B_4\"], [\"3513_12\"], [\"322_10\"], [\"365_7\"], [\"3520_12\"], [\"3477_1\"], [\"3516_3\"], [\"3478_12\"], [\"3521_10\"], [\"3490_15\"], [\"3522_8\"], [\"3425_11\"], [\"3521_1\"], [\"3479_9\"], [\"3476_13\"], [\"294_15\"], [\"311_14\"], [\"3504_14\"], [\"3413_14\"], [\"3522_7\"], [\"3411_11\"], [\"50810F_14\"], [\"3605_5\"], [\"3412_5\"], [\"3411_3\"], [\"3521_6\"], [\"3412_9\"], [\"309_7\"], [\"3411_15\"], [\"J2292_13\"], [\"3498_5\"], [\"3481_12\"], [\"3416_5\"], [\"322_14\"], [\"3530_2\"], [\"3490_8\"], [\"3500_14\"], [\"3521_11\"], [\"50810B_3\"], [\"3500_10\"], [\"3420_11\"], [\"3420_5\"], [\"3501_6\"], [\"3520_13\"], [\"J3295_13\"], [\"3416_6\"], [\"3501_1\"], [\"3413_6\"], [\"320_12\"], [\"3507_4\"], [\"361_1\"], [\"3490_2\"], [\"3534_4\"], [\"3481_4\"], [\"3424_4\"], [\"311_10\"], [\"3490_11\"], [\"3416_14\"], [\"3483_3\"], [\"3530_13\"], [\"3484_7\"], [\"3522_11\"], [\"3497_9\"], [\"3423_5\"], [\"362_10\"], [\"3417_14\"], [\"3530_1\"], [\"3422_10\"], [\"50810A_6\"], [\"3412_12\"], [\"311_4\"], [\"3414_1\"], [\"3505_8\"], [\"322_2\"], [\"364_3\"], [\"3513_1\"], [\"364_9\"], [\"3425_13\"], [\"3484_9\"], [\"293_3\"], [\"3505_13\"], [\"3421_8\"], [\"3516_8\"], [\"363_11\"], [\"3501_5\"], [\"3423_7\"], [\"50810A_4\"], [\"3425_5\"], [\"3502_3\"], [\"3497_1\"], [\"50810D_8\"], [\"322_15\"], [\"3491_12\"], [\"3488_6\"], [\"18899_12\"], [\"3507_10\"], [\"50810D_13\"], [\"3415_15\"], [\"3517_15\"], [\"3426_12\"], [\"363_7\"], [\"363_14\"], [\"309_12\"], [\"50810A_7\"], [\"3483_6\"], [\"50810B_6\"], [\"320_13\"], [\"3412_3\"], [\"50810D_12\"], [\"3414_7\"], [\"50810E_6\"], [\"50810F_7\"], [\"3516_5\"], [\"3491_13\"], [\"J1291_11\"], [\"3530_3\"], [\"363_15\"], [\"362_3\"], [\"3479_6\"], [\"311_1\"], [\"3411_2\"], [\"3478_10\"], [\"3476_11\"], [\"3420_13\"], [\"3412_15\"], [\"3499_10\"], [\"3489_12\"], [\"311_8\"], [\"3480_12\"], [\"3501_15\"], [\"3426_7\"], [\"3534_9\"], [\"3479_11\"], [\"50810F_12\"], [\"3504_1\"], [\"3421_6\"], [\"3419_9\"], [\"3411_4\"], [\"3499_4\"], [\"3418_9\"], [\"322_9\"], [\"293_10\"], [\"364_15\"], [\"50810C_1\"], [\"50810F_15\"], [\"294_4\"], [\"3415_1\"], [\"3606_12\"], [\"3414_11\"], [\"3422_12\"], [\"3413_9\"], [\"364_2\"], [\"3500_12\"], [\"3481_8\"], [\"3525_11\"], [\"J2292_5\"], [\"3507_13\"], [\"50810E_2\"], [\"3489_3\"], [\"50810E_10\"], [\"361_4\"], [\"3520_7\"], [\"3507_12\"], [\"3424_9\"], [\"3513_3\"], [\"321_13\"], [\"3417_4\"], [\"3426_5\"], [\"3507_1\"], [\"3504_6\"], [\"3484_10\"], [\"362_14\"], [\"321_2\"], [\"3480_5\"], [\"3419_1\"], [\"3499_13\"], [\"3421_7\"], [\"50810B_7\"], [\"3530_10\"], [\"18899_3\"], [\"362_9\"], [\"50810E_12\"], [\"3422_9\"], [\"3502_9\"], [\"3477_5\"], [\"3479_12\"], [\"361_15\"], [\"3477_14\"], [\"3521_15\"], [\"3520_5\"], [\"3498_12\"], [\"50810E_7\"], [\"321_6\"], [\"3480_9\"], [\"3525_4\"], [\"3521_8\"], [\"3424_6\"], [\"3505_9\"], [\"50810A_10\"], [\"293_13\"], [\"3478_6\"], [\"311_5\"], [\"3513_2\"], [\"50810B_1\"], [\"50810C_6\"], [\"50810D_3\"], [\"3490_13\"], [\"293_8\"], [\"320_9\"], [\"3412_11\"], [\"3503_6\"], [\"50810E_15\"], [\"3502_1\"], [\"J3295_15\"], [\"3426_4\"], [\"294_5\"], [\"3504_9\"], [\"3522_3\"], [\"365_3\"], [\"3429_11\"], [\"361_11\"], [\"363_4\"], [\"J2292_15\"], [\"18899_10\"], [\"311_3\"], [\"3520_8\"], [\"3478_8\"], [\"362_1\"], [\"3501_3\"], [\"J1291_14\"], [\"3413_11\"], [\"3507_11\"], [\"J1291_9\"], [\"293_4\"], [\"3417_7\"], [\"3413_1\"], [\"3477_2\"], [\"3476_12\"], [\"3517_12\"], [\"3606_3\"], [\"3530_4\"], [\"3501_10\"], [\"3489_8\"], [\"3484_13\"], [\"321_1\"], [\"3424_12\"], [\"294_8\"], [\"18899_11\"], [\"3412_7\"], [\"311_2\"], [\"3489_2\"], [\"321_4\"], [\"3413_12\"], [\"3421_14\"], [\"3489_6\"], [\"3534_6\"], [\"3530_5\"], [\"3481_1\"], [\"364_14\"], [\"3605_12\"], [\"3418_15\"], [\"3500_1\"], [\"311_12\"], [\"3498_8\"], [\"3422_3\"], [\"J1291_3\"], [\"3484_5\"], [\"3500_5\"], [\"320_8\"], [\"3522_10\"], [\"J1291_15\"], [\"3484_15\"], [\"3424_5\"], [\"J3295_1\"], [\"361_13\"], [\"3425_10\"], [\"3425_4\"], [\"3606_6\"], [\"3413_15\"], [\"3425_15\"], [\"3426_10\"], [\"3488_9\"], [\"J3295_2\"], [\"3421_3\"], [\"3414_10\"], [\"294_11\"], [\"361_6\"], [\"3513_8\"], [\"294_13\"], [\"293_1\"], [\"3534_8\"], [\"294_3\"], [\"3425_12\"], [\"3534_5\"], [\"3517_3\"], [\"3507_7\"], [\"3500_2\"], [\"3530_7\"], [\"3499_14\"], [\"50810F_2\"], [\"50810D_15\"], [\"3517_5\"], [\"3416_2\"], [\"3498_6\"], [\"3522_13\"], [\"3507_15\"], [\"321_9\"], [\"294_2\"], [\"50810A_14\"], [\"J3295_8\"], [\"3419_13\"], [\"3505_14\"], [\"3425_3\"], [\"3421_2\"], [\"309_9\"], [\"50810C_5\"], [\"320_7\"], [\"3423_3\"], [\"3505_7\"], [\"3503_14\"], [\"3477_4\"], [\"18899_13\"], [\"3414_2\"], [\"3429_9\"], [\"3605_1\"], [\"3605_13\"], [\"3491_8\"], [\"362_8\"], [\"3417_11\"], [\"365_13\"], [\"50810D_10\"], [\"294_1\"], [\"3498_14\"], [\"3502_14\"], [\"3504_11\"], [\"3513_6\"], [\"3516_11\"], [\"50810B_2\"], [\"3481_9\"], [\"293_6\"], [\"3521_13\"], [\"3521_12\"], [\"3605_15\"], [\"3480_1\"], [\"18899_6\"], [\"3491_15\"], [\"3505_15\"], [\"3502_6\"], [\"3480_4\"], [\"3423_14\"], [\"3478_11\"], [\"3413_7\"], [\"3520_4\"], [\"3425_14\"], [\"3417_9\"], [\"3521_9\"], [\"3501_2\"], [\"J1291_10\"], [\"3419_3\"], [\"3417_10\"], [\"364_10\"], [\"365_9\"], [\"3421_4\"], [\"50810A_11\"], [\"3520_3\"], [\"3413_4\"], [\"3419_8\"], [\"3422_4\"], [\"3606_11\"], [\"3503_7\"], [\"50810D_11\"], [\"3498_2\"], [\"3483_4\"], [\"3517_8\"], [\"3483_8\"], [\"3513_4\"], [\"3520_10\"], [\"3504_8\"], [\"50810A_13\"], [\"3498_10\"], [\"3483_11\"], [\"3418_1\"], [\"3517_11\"], [\"3420_10\"], [\"3504_12\"], [\"309_2\"], [\"3476_4\"], [\"50810C_3\"], [\"3415_6\"], [\"3429_10\"], [\"3421_12\"], [\"3476_14\"], [\"3497_12\"], [\"J3295_4\"], [\"3534_12\"], [\"3488_15\"], [\"362_13\"], [\"50810E_3\"], [\"3422_7\"], [\"3488_2\"], [\"3606_5\"], [\"3507_8\"], [\"363_2\"], [\"3500_8\"], [\"3426_15\"], [\"3417_8\"], [\"3522_12\"], [\"3484_14\"], [\"3606_2\"], [\"3522_4\"], [\"3425_2\"], [\"3500_9\"], [\"3605_9\"], [\"3498_11\"], [\"361_2\"], [\"3478_3\"], [\"3505_4\"], [\"50810D_6\"], [\"3513_15\"], [\"293_5\"], [\"3480_14\"], [\"362_4\"], [\"3418_10\"], [\"3429_13\"], [\"3504_3\"], [\"364_13\"], [\"3497_2\"], [\"3497_10\"], [\"3420_15\"], [\"J1291_7\"], [\"50810C_12\"], [\"3424_8\"], [\"3480_3\"], [\"3488_11\"], [\"3504_10\"], [\"J3295_11\"], [\"3534_3\"], [\"3479_10\"], [\"J2292_1\"], [\"3429_5\"], [\"J1291_8\"], [\"50810B_15\"], [\"3505_1\"], [\"3425_6\"], [\"J2292_2\"], [\"361_7\"], [\"3414_8\"], [\"3534_1\"], [\"3415_11\"], [\"3503_3\"], [\"363_9\"], [\"3491_5\"], [\"294_10\"], [\"3489_15\"], [\"320_6\"], [\"3516_1\"], [\"3412_6\"], [\"3505_10\"], [\"3513_7\"], [\"3426_3\"], [\"3425_7\"], [\"3481_5\"], [\"3411_14\"], [\"3498_15\"], [\"3499_6\"], [\"J2292_9\"], [\"3503_1\"], [\"3418_8\"], [\"3476_9\"], [\"3414_5\"], [\"363_1\"], [\"3423_11\"], [\"3498_7\"], [\"3516_14\"], [\"3476_3\"], [\"3491_9\"], [\"3419_12\"], [\"50810A_3\"], [\"3530_15\"], [\"3483_1\"], [\"50810A_8\"], [\"3502_2\"], [\"3425_8\"], [\"3420_8\"], [\"309_5\"], [\"3502_4\"], [\"3504_13\"], [\"3513_14\"], [\"50810E_13\"], [\"3417_13\"], [\"3418_4\"], [\"3516_7\"], [\"3411_6\"], [\"J3295_9\"], [\"361_9\"], [\"3499_9\"], [\"3534_10\"], [\"3411_8\"], [\"3414_4\"], [\"50810D_2\"], [\"3488_8\"], [\"321_3\"], [\"320_3\"], [\"50810C_15\"], [\"3502_15\"], [\"3606_15\"], [\"3419_6\"], [\"3520_15\"], [\"311_13\"], [\"3491_11\"], [\"3500_6\"], [\"3481_10\"], [\"3502_8\"], [\"3497_4\"], [\"365_4\"], [\"50810D_14\"], [\"3522_15\"], [\"50810A_2\"], [\"3416_8\"], [\"3488_4\"], [\"3521_4\"], [\"322_3\"], [\"3424_7\"], [\"3505_3\"], [\"3520_9\"], [\"J3295_6\"], [\"3489_11\"], [\"3606_14\"], [\"J1291_12\"], [\"322_5\"], [\"3605_3\"], [\"309_15\"], [\"294_7\"], [\"320_11\"], [\"3481_13\"], [\"3497_5\"], [\"3413_8\"], [\"3501_14\"], [\"3420_7\"], [\"50810C_7\"], [\"3530_12\"], [\"321_8\"], [\"3483_9\"], [\"3479_8\"], [\"3418_14\"], [\"293_15\"], [\"3411_5\"], [\"365_11\"], [\"363_12\"], [\"3503_12\"], [\"3411_7\"], [\"3423_12\"], [\"3423_6\"], [\"364_1\"], [\"3605_6\"], [\"3476_8\"], [\"362_15\"], [\"3491_6\"], [\"3419_7\"]], \"hovertemplate\": \"0=%{x}<br>1=%{y}<br>2=%{z}<br>Feature=%{customdata[0]}<br>Label=%{marker.color}<extra></extra>\", \"legendgroup\": \"\", \"marker\": {\"color\": [0, 1, 0, 0, 0, 0, 0, 0, 0, 0, 0, 0, 0, 0, 0, 0, 0, 0, 0, 0, 0, 0, 0, 1, 0, 0, 0, 0, 1, 0, 0, 0, 0, 0, 0, 0, 0, 0, 0, 0, 0, 0, 0, 0, 0, 0, 1, 1, 0, 0, 1, 0, 0, 0, 0, 0, 0, 0, 0, 0, 0, 0, 0, 0, 0, 0, 0, 0, 0, 0, 0, 0, 0, 0, 0, 0, 0, 0, 0, 0, 0, 0, 0, 0, 0, 0, 0, 0, 0, 0, 0, 0, 0, 0, 0, 0, 0, 0, 0, 0, 0, 0, 0, 0, 0, 0, 0, 0, 0, 0, 0, 0, 0, 0, 0, 0, 0, 0, 0, 0, 0, 0, 0, 0, 0, 0, 0, 0, 0, 0, 0, 0, 0, 0, 0, 0, 0, 0, 0, 0, 0, 0, 0, 0, 0, 0, 0, 0, 0, 0, 0, 0, 0, 0, 0, 0, 0, 0, 0, 0, 0, 0, 0, 0, 0, 0, 0, 0, 0, 0, 0, 0, 0, 0, 0, 0, 0, 0, 0, 0, 0, 0, 0, 0, 0, 0, 0, 0, 1, 0, 0, 0, 0, 0, 0, 0, 0, 0, 0, 0, 0, 1, 0, 0, 0, 0, 0, 0, 0, 0, 0, 0, 0, 0, 0, 0, 0, 0, 1, 0, 0, 0, 0, 0, 0, 0, 0, 0, 0, 0, 0, 0, 0, 0, 0, 0, 0, 1, 0, 0, 0, 0, 0, 0, 0, 0, 1, 0, 0, 0, 0, 0, 0, 0, 0, 0, 0, 1, 0, 0, 0, 0, 0, 0, 0, 0, 0, 0, 0, 0, 0, 0, 0, 0, 1, 0, 0, 0, 0, 0, 0, 0, 0, 0, 0, 1, 0, 0, 0, 0, 0, 0, 0, 0, 0, 0, 0, 0, 0, 0, 0, 0, 0, 0, 0, 0, 0, 0, 1, 0, 0, 0, 0, 0, 0, 0, 1, 0, 1, 0, 0, 0, 0, 0, 0, 0, 0, 0, 0, 0, 0, 0, 0, 0, 0, 0, 0, 0, 0, 0, 0, 0, 0, 0, 0, 0, 0, 0, 0, 0, 0, 0, 0, 0, 0, 0, 0, 0, 0, 0, 0, 0, 0, 0, 0, 0, 0, 0, 0, 0, 0, 0, 0, 0, 0, 0, 0, 0, 0, 0, 1, 0, 0, 0, 0, 0, 0, 1, 0, 0, 0, 0, 0, 0, 0, 0, 0, 0, 0, 1, 0, 0, 0, 0, 0, 0, 0, 0, 0, 0, 0, 0, 0, 0, 0, 0, 0, 0, 0, 0, 0, 0, 0, 0, 0, 0, 0, 1, 0, 0, 0, 0, 0, 0, 0, 0, 0, 0, 0, 0, 0, 0, 0, 0, 0, 1, 0, 0, 0, 0, 1, 0, 0, 0, 0, 0, 0, 0, 0, 0, 0, 0, 0, 0, 0, 0, 0, 0, 0, 0, 0, 0, 0, 0, 0, 0, 0, 0, 0, 0, 0, 0, 0, 0, 0, 0, 0, 0, 0, 0, 0, 0, 0, 0, 0, 0, 0, 0, 0, 0, 0, 0, 0, 0, 0, 0, 0, 0, 0, 0, 0, 1, 0, 0, 0, 0, 0, 0, 0, 0, 0, 1, 0, 0, 0, 0, 0, 0, 0, 0, 0, 0, 0, 0, 0, 0, 0, 0, 0, 0, 0, 0, 0, 0, 0, 0, 0, 0, 0, 0, 0, 0, 0, 0, 0, 0, 1, 0, 0, 0, 0, 0, 0, 0, 1, 0, 0, 0, 0, 0, 0, 0, 0, 0, 0, 0, 0, 0, 0, 0, 0, 0, 0, 0, 0, 0, 0, 0, 0, 0, 1, 0, 0, 0, 0, 0, 1, 0, 0, 0, 1, 0, 0, 0, 0, 0, 0, 0, 0, 0, 0, 0, 0, 0, 0, 0, 0, 0, 0, 0, 0, 0, 0, 0, 0, 0, 0, 0, 0, 0, 0, 0, 0, 0, 0, 0, 0, 0, 0, 1, 0, 0, 1, 0, 0, 0, 0, 0, 0, 0, 0, 0, 0, 0, 0, 0, 0, 0, 0, 0, 0, 0, 0, 0, 0, 0, 0, 0, 0, 0, 0, 0, 0, 0, 0, 0, 0, 0, 0, 0, 0, 0, 0, 0, 0, 0, 0, 0, 0, 0, 0, 0, 0, 0, 0, 0, 0, 0, 0, 0, 0, 1, 0, 0, 0, 0, 0, 0, 0, 0, 1, 0, 0, 0, 0, 0, 0, 0, 0, 0, 1, 0, 0, 0, 0, 0, 0, 0, 0, 0, 0, 0, 0, 0, 0, 0, 0, 0, 1, 0, 0, 0, 0, 0, 0, 0, 1, 0, 0, 0, 0, 0, 0, 0, 0, 0, 0, 0, 0, 0, 0, 0, 0, 0, 0, 1, 0, 0, 0, 0, 0, 0, 0, 0, 0, 0, 0, 0, 0, 0, 0, 0, 0, 0, 0, 0, 1, 0, 0, 0, 0, 0, 0, 0, 0, 0, 0, 0, 0, 0, 0, 0, 0, 1, 0, 0, 0, 0, 0, 1, 0, 0, 0, 0, 0, 0, 0, 0, 0, 0, 0, 0, 0, 0, 0, 0, 0, 0, 0, 0, 0, 0, 0, 0, 0, 0, 0, 0, 0, 0, 0, 0, 0, 0, 0, 0, 0, 0, 0, 0, 0, 0, 0, 0, 0, 0, 0, 0, 0, 0, 0, 0, 0, 0, 0, 0, 0, 0, 0, 0, 0, 0, 0, 0, 1, 0, 0, 0, 0, 0, 0, 0, 0, 0, 0, 0, 0, 1, 0, 0, 1, 0, 0, 0, 0, 1, 0, 0, 0, 0, 0, 0, 0, 0, 0, 0, 0, 0, 0, 1, 0, 0, 0, 0, 0, 0, 0, 0, 0, 0, 0, 0, 0, 0, 0, 0, 0, 0, 0, 0, 0, 0, 0, 0, 0, 0, 0, 0, 0, 0, 1, 0, 0, 0, 1, 0, 0, 0, 0, 0, 0, 0, 0, 0, 0, 0, 0, 0, 0, 0, 0, 0, 0, 0, 0, 0, 0, 0, 0, 1, 0, 1, 0, 0, 0, 0, 0, 0, 0, 0, 1, 0, 0, 0, 1, 0, 0, 0, 0, 0, 0, 0, 0, 0, 0, 0, 0, 0, 0, 0, 0, 0, 0, 0, 0, 0, 0, 0, 0, 0, 0, 0, 0, 0, 0, 0, 0, 0, 0, 0, 0, 0, 0, 0, 0, 0], \"coloraxis\": \"coloraxis\", \"opacity\": 0.7, \"symbol\": \"circle\"}, \"mode\": \"markers\", \"name\": \"\", \"scene\": \"scene\", \"showlegend\": false, \"type\": \"scatter3d\", \"x\": [-11.217789649963379, 8.788143157958984, -1.393836259841919, 7.461807727813721, 10.147123336791992, 12.622431755065918, 1.612443447113037, 1.2572866678237915, 9.602753639221191, 0.2329920381307602, -11.458097457885742, 8.571572303771973, 10.071961402893066, -4.88435173034668, 10.852779388427734, -4.670327663421631, 2.935537815093994, -4.306290149688721, 14.232466697692871, 13.224079132080078, -4.951728343963623, -3.2099921703338623, -5.554233551025391, 15.616781234741211, -7.54939079284668, 3.445237636566162, -4.349935531616211, 10.905149459838867, -7.34678316116333, -10.983110427856445, 6.63667106628418, 1.962717056274414, -3.714418888092041, -7.737583637237549, -0.7069904208183289, 12.921518325805664, -10.989636421203613, 4.43687105178833, -11.507878303527832, 11.016109466552734, -8.09786319732666, 8.858087539672852, 1.5176674127578735, 9.311849594116211, 1.6579208374023438, 0.13829225301742554, 14.0345458984375, -3.9335711002349854, -9.370941162109375, 8.91124153137207, 1.6502610445022583, -2.6790244579315186, -7.8558197021484375, -4.2693281173706055, 12.312541007995605, -8.005922317504883, -2.449878692626953, 4.088662624359131, -10.040911674499512, 10.325946807861328, -5.428318977355957, 12.517645835876465, 4.000770568847656, -3.446324348449707, -8.207740783691406, -6.523316860198975, 9.073126792907715, -8.997827529907227, -14.2920503616333, -7.282719135284424, -1.011195421218872, -2.820369243621826, 6.063178062438965, -7.766973495483398, -0.49149250984191895, 8.945270538330078, 10.795950889587402, 7.826355934143066, 9.971261978149414, 7.50927734375, -3.6519689559936523, 3.4095847606658936, 0.2199699431657791, -5.8911638259887695, -9.383389472961426, 4.905308723449707, 10.184019088745117, 1.9510127305984497, 8.835205078125, -6.548427104949951, 15.945759773254395, 6.219006061553955, -0.9229451417922974, -5.056888580322266, 4.809311866760254, -9.088533401489258, 12.91006088256836, -10.31921100616455, 6.187633514404297, -0.7966837882995605, -1.4200570583343506, -8.950164794921875, 6.383998870849609, 0.7171670198440552, 1.456878900527954, 9.363849639892578, -8.741312980651855, -3.5582010746002197, -7.094248294830322, 4.377037048339844, 9.829885482788086, 4.270588397979736, 1.6399989128112793, 4.783181190490723, 2.675553798675537, -4.758224010467529, -3.929755687713623, 2.8143470287323, -4.454545497894287, -5.550930500030518, -7.706699371337891, -1.598263144493103, 3.365410327911377, -10.478821754455566, -7.749713897705078, 6.164772033691406, 3.4419102668762207, -10.00862979888916, -6.471922874450684, -6.795638561248779, 10.191818237304688, 0.901413083076477, -6.4760212898254395, 4.989256858825684, -10.419445037841797, -13.238210678100586, 9.744378089904785, -10.639946937561035, -12.018451690673828, 2.133913993835449, 5.197564601898193, -4.426416873931885, -0.745960533618927, -10.205886840820312, -11.464707374572754, -4.8981475830078125, -3.524942398071289, -9.480847358703613, 4.358399868011475, -4.811166286468506, -8.187085151672363, -7.216850280761719, -0.2470182627439499, -3.5665810108184814, -0.7226977944374084, 3.8528387546539307, -11.51857852935791, -7.464256286621094, -11.51291561126709, 6.267248630523682, -2.4470837116241455, -10.131760597229004, -1.541761040687561, -5.8365559577941895, -1.9083529710769653, -5.249035835266113, 4.600231647491455, 6.5128045082092285, -1.022971272468567, 7.556522846221924, 3.343470335006714, 10.439225196838379, -3.261268377304077, -7.773867130279541, 3.5641236305236816, 2.662670850753784, -4.76127290725708, -10.648241996765137, -10.107518196105957, -1.8361780643463135, -2.5081725120544434, -6.3867034912109375, -3.0946686267852783, -13.964353561401367, 1.8578253984451294, 3.416463613510132, -10.500560760498047, -12.998344421386719, 10.345928192138672, 15.389853477478027, 10.37979793548584, 1.5440800189971924, -1.3834214210510254, -1.4459068775177002, -4.951852321624756, -7.144146919250488, -8.60901165008545, -6.315884113311768, -8.013810157775879, 7.004141330718994, 0.9032152891159058, -6.519711494445801, 4.765874862670898, 4.299641132354736, -3.4141340255737305, -0.8800134658813477, -11.934608459472656, 10.540461540222168, -8.474614143371582, -1.23111093044281, -9.995079040527344, -7.549325466156006, 0.22841845452785492, -9.194450378417969, 0.3585948944091797, -7.791404724121094, -1.8950860500335693, 11.708297729492188, 10.263535499572754, 9.819245338439941, 7.118541240692139, 0.7939413785934448, -7.6488800048828125, -11.888996124267578, -10.830938339233398, -7.989844799041748, 1.4918341636657715, -1.6000207662582397, -11.853100776672363, 7.57658576965332, 4.388136863708496, 0.3966042697429657, 2.544708251953125, -4.9690937995910645, -2.1170597076416016, 4.500679016113281, -0.47832322120666504, -6.943967819213867, -3.9249563217163086, 1.547202467918396, -6.406941890716553, 2.201148271560669, -4.374456405639648, -7.074974060058594, -9.581589698791504, 10.283859252929688, -0.8312046527862549, 1.6530187129974365, 1.3716224431991577, -2.609377384185791, -1.0500073432922363, -7.730149745941162, -11.543351173400879, -7.29912805557251, -2.788806915283203, -3.613337278366089, 4.043498516082764, 9.962468147277832, 6.3245930671691895, -2.0636520385742188, -1.4292562007904053, -11.251574516296387, 2.049619436264038, 2.147000551223755, -2.712686061859131, -9.564184188842773, 9.292156219482422, 1.018893837928772, -1.2387467622756958, 1.3369524478912354, -10.212506294250488, -6.790042400360107, -0.02793767862021923, 14.730498313903809, 14.68237590789795, -1.9228429794311523, 13.720305442810059, -6.998153209686279, 7.753657341003418, -1.9640157222747803, 1.1627289056777954, -8.29013729095459, 7.652940273284912, -5.0294108390808105, 4.3434953689575195, 14.66382122039795, -1.4295614957809448, 3.948591470718384, -1.0316094160079956, 9.927251815795898, 3.846928596496582, -7.091456890106201, -1.3103175163269043, 3.082334280014038, -9.090965270996094, 0.7508596181869507, -5.8394999504089355, -2.462998867034912, 8.77787971496582, -7.784958839416504, 8.078754425048828, -0.29890313744544983, -2.4531257152557373, 4.896002769470215, -2.8162624835968018, 11.132076263427734, 4.7353386878967285, -10.290034294128418, 10.167791366577148, -6.868316650390625, 1.6855974197387695, 1.6621485948562622, 14.06806755065918, -10.493335723876953, -10.240987777709961, -8.835906982421875, -7.13562536239624, 4.721138954162598, 9.857290267944336, -9.751694679260254, -3.7379136085510254, 4.915822505950928, -3.395303249359131, -8.428123474121094, -2.9050493240356445, -5.004100322723389, -11.37740707397461, -6.829276084899902, -12.38259220123291, 1.504245638847351, 5.058604717254639, 12.773063659667969, 3.7015795707702637, -1.956274151802063, -6.53897762298584, 9.870600700378418, 6.360142707824707, -8.450356483459473, -11.451959609985352, -4.7478108406066895, 4.21354866027832, -11.240720748901367, -6.291383743286133, 8.035073280334473, 5.789252281188965, 5.3811492919921875, 12.740405082702637, -11.12401294708252, 4.559875011444092, 2.529676914215088, 3.558509588241577, -9.32384967803955, 5.923529624938965, -2.189718008041382, -7.590806484222412, -0.5734637975692749, 4.614467144012451, -1.4948769807815552, 1.4662400484085083, 0.8350261449813843, -1.409071683883667, -0.4877009391784668, 3.96044921875, 3.106812000274658, -5.335017681121826, -5.520730018615723, 2.29266619682312, -10.717883110046387, -4.7275919914245605, 3.89420485496521, 10.915010452270508, 3.8810601234436035, 9.410551071166992, -2.3640012741088867, 9.306930541992188, 1.4884529113769531, -7.475561618804932, -1.8012034893035889, -6.231205940246582, -9.041722297668457, 10.057650566101074, -0.5130894184112549, 3.972295045852661, 6.511953830718994, -10.274747848510742, 15.230490684509277, -1.1309103965759277, 11.356194496154785, -9.81496524810791, -9.0479736328125, -9.226912498474121, 6.4771599769592285, -2.978097915649414, -4.431894302368164, 3.7798686027526855, -0.5365896224975586, -4.75030517578125, 6.089814186096191, 12.662407875061035, -7.05710506439209, -1.2732980251312256, 4.336326599121094, -10.977542877197266, 14.164177894592285, -7.477032661437988, 6.890084743499756, 5.673319339752197, 6.621871471405029, 1.5451351404190063, -9.706466674804688, -8.895273208618164, -8.428475379943848, -2.0288045406341553, -5.31172513961792, 4.817570209503174, -11.42132568359375, -9.790319442749023, -4.595322132110596, 0.33147376775741577, 7.014277935028076, -5.336040019989014, -1.4526671171188354, 8.955665588378906, 2.031680107116699, 7.311047554016113, -10.170212745666504, -3.979248523712158, -12.95198917388916, 9.398117065429688, -8.338186264038086, -6.275181293487549, -4.880978107452393, 7.587103843688965, 11.484078407287598, -6.123734951019287, 9.131887435913086, -10.93621826171875, 0.10504578799009323, 8.835721969604492, 3.037247657775879, 10.490713119506836, -1.5844006538391113, 5.690949440002441, 4.258138179779053, -10.685127258300781, 9.623642921447754, 15.989941596984863, -1.7812100648880005, -11.4472017288208, 11.576236724853516, 10.17644214630127, -3.154888391494751, -9.797250747680664, 12.250266075134277, -1.253644347190857, -10.091730117797852, 5.046995639801025, -0.19247086346149445, 2.4223949909210205, 10.18783187866211, -6.932255744934082, 2.0457205772399902, -11.149205207824707, 1.3021571636199951, 10.074793815612793, 4.5954413414001465, -7.531773090362549, 15.683098793029785, -2.0482146739959717, -3.2260630130767822, -6.271393299102783, 6.828382968902588, -10.629096984863281, 7.667018413543701, -1.0259782075881958, 6.452218055725098, -7.605700492858887, 4.5530314445495605, 8.44736385345459, 4.383561134338379, 1.4600111246109009, 6.155427932739258, -4.567352771759033, -7.104075908660889, 10.2799072265625, 1.3406696319580078, 4.43243408203125, -1.6051394939422607, -12.04215145111084, -7.174015998840332, -1.120204210281372, -4.028357982635498, 5.05483865737915, -1.4578927755355835, 3.42120623588562, -1.0440489053726196, -3.3143246173858643, 13.618200302124023, -3.9873197078704834, 7.209474563598633, -4.45380163192749, -8.96753215789795, -8.413902282714844, 1.622186303138733, 6.308210849761963, 16.726266860961914, 1.3415261507034302, -6.4907660484313965, -2.1910240650177, -9.666078567504883, 7.341482162475586, 11.106073379516602, 7.098934173583984, -8.75097942352295, 1.5805631875991821, -5.8263444900512695, 0.15134885907173157, 1.8708524703979492, -8.60694694519043, -11.81984806060791, -5.199062824249268, 3.571687698364258, -6.727997779846191, 4.654798984527588, 6.426682949066162, 8.645086288452148, -9.592381477355957, 10.76103401184082, 3.102144956588745, -7.849522113800049, -10.190933227539062, -2.9059348106384277, 4.130920886993408, -9.114355087280273, -4.520256042480469, -1.631111979484558, -0.9014075994491577, -6.782272815704346, 9.110730171203613, 6.573858737945557, -1.6483867168426514, -7.719724178314209, -2.052177906036377, -7.605163097381592, 8.784157752990723, 11.361930847167969, 9.352640151977539, 6.828965187072754, 8.249235153198242, 8.79971981048584, 2.1526527404785156, -9.398924827575684, -9.881016731262207, 0.9202706813812256, 7.08068323135376, -11.19584846496582, -7.977467060089111, 1.5053157806396484, -4.5672173500061035, 1.2668565511703491, -2.945352792739868, -7.641480922698975, -0.6885005235671997, 4.128660678863525, 14.032381057739258, -5.44071102142334, 4.873581409454346, 2.7923848628997803, 1.105282187461853, 2.843024969100952, -0.7406899929046631, 8.946043968200684, 15.888504981994629, -5.427170753479004, -1.4901381731033325, 3.08054256439209, 9.32453727722168, -1.8404853343963623, -11.656259536743164, 8.586977005004883, 0.5357586145401001, 11.671764373779297, -8.905906677246094, 1.1480134725570679, -3.448805570602417, 2.7916789054870605, -6.737200736999512, -4.609838962554932, -0.8231824040412903, 6.520884990692139, -6.362825870513916, -1.1538431644439697, 6.655819416046143, -10.71680736541748, -6.754349708557129, 5.652313709259033, -10.390673637390137, 4.306307315826416, -11.974474906921387, 1.1718577146530151, -13.091201782226562, 9.961297988891602, 7.651920318603516, -3.222216844558716, -3.579725742340088, 5.046517372131348, -6.732283592224121, -2.9955177307128906, 9.883685111999512, -10.410849571228027, 0.04233243316411972, -11.993148803710938, -4.005505084991455, 1.6862385272979736, -5.187888145446777, 8.419373512268066, -5.278831958770752, 1.7484618425369263, -7.298041820526123, 1.918318510055542, -4.25712776184082, -10.386615753173828, -1.06524658203125, -1.7742434740066528, -1.308832049369812, -10.89818000793457, -1.9879544973373413, 2.162304401397705, 5.6657891273498535, -1.3580340147018433, -8.289620399475098, -1.854421854019165, -5.489701271057129, 3.5589303970336914, 4.388027667999268, 0.0812472552061081, 10.213499069213867, 10.490935325622559, -3.022289991378784, -2.964103937149048, 4.589531898498535, -4.70490026473999, 7.722853660583496, 8.399139404296875, 15.146302223205566, -8.89648723602295, -8.219884872436523, -2.727809429168701, -2.4587574005126953, -5.106812000274658, -12.430750846862793, -10.96042251586914, 1.1814016103744507, 0.7286308407783508, -11.625048637390137, 7.653905868530273, 5.026406288146973, 13.205973625183105, -2.5393259525299072, -4.015195846557617, 4.75778341293335, -8.71700382232666, 5.829596519470215, -8.167041778564453, 6.838576793670654, 0.7757188081741333, 10.245055198669434, -1.642948031425476, -6.368655204772949, -1.9416093826293945, 16.620195388793945, 0.36696958541870117, 1.6456630229949951, 5.221355438232422, 9.908126831054688, -5.249502182006836, -0.5319659113883972, 2.2493300437927246, -2.8793160915374756, -11.345364570617676, 11.58604907989502, 4.071503162384033, -4.2814788818359375, 10.117499351501465, 4.0183186531066895, -5.495405673980713, 11.64206600189209, 1.5317203998565674, 4.169555187225342, -3.345216751098633, -6.470731735229492, -6.64951229095459, 5.815882205963135, -1.4364019632339478, -3.4508137702941895, -8.965725898742676, 13.50082778930664, 1.6245919466018677, -0.8132304549217224, 11.469775199890137, 8.984619140625, 4.059606075286865, 1.3033182621002197, -10.349000930786133, 7.058603286743164, -5.487725257873535, -7.3448076248168945, -9.64809513092041, -10.981040000915527, -9.643083572387695, 9.797454833984375, -2.8378562927246094, -9.022614479064941, -4.666071891784668, -6.748291015625, -0.9940056800842285, -6.627760887145996, -10.885344505310059, -2.9962406158447266, 1.0646463632583618, 9.308406829833984, -10.957533836364746, -11.947847366333008, -9.135180473327637, -6.036841869354248, -2.696025848388672, -5.889512538909912, -9.179625511169434, -0.6017844080924988, -6.9301958084106445, 13.839459419250488, -5.694808006286621, 10.032354354858398, 10.427668571472168, 0.5164430141448975, -4.490673542022705, 2.961235523223877, 12.54834270477295, 10.025419235229492, -7.911972999572754, 8.020076751708984, 1.3262385129928589, 8.199906349182129, 6.868621349334717, -6.023993015289307, 0.7235685586929321, 9.04229736328125, 4.318181037902832, -2.362354040145874, 8.021193504333496, 7.072596073150635, 8.702256202697754, -4.759762763977051, 1.9166043996810913, -2.0913968086242676, -4.652679920196533, 8.2396821975708, -11.54327392578125, -3.625925064086914, 8.180231094360352, -11.631269454956055, -5.417902946472168, -0.31569305062294006, -0.32915136218070984, -9.791878700256348, 7.99903678894043, -10.842219352722168, 4.139669895172119, -5.30908203125, 7.62298059463501, 12.981215476989746, 2.3335776329040527, -1.5313173532485962, -4.640056610107422, -3.8640878200531006, 1.8340281248092651, 9.581405639648438, -5.085975170135498, 6.254126071929932, 6.629317283630371, 7.208041191101074, 3.950817346572876, 0.06458723545074463, -3.700087785720825, -10.721086502075195, 6.435934543609619, 4.803187370300293, -11.085929870605469, -7.495357036590576, 8.935848236083984, 12.39438533782959, -6.897326946258545, -6.268383502960205, 1.5896636247634888, -2.257920265197754, 3.6402671337127686, -7.0533528327941895, 2.979149103164673, -3.548229932785034, 13.652037620544434, -13.863996505737305, 10.130352973937988, -1.0308575630187988, 10.173624038696289, 16.68651008605957, -4.749566078186035, 9.621253967285156, 7.255602836608887, 7.13121223449707, -5.347370624542236, 4.806273937225342, -8.159892082214355, 1.4158196449279785, 6.114405632019043, -11.748772621154785, 4.617315769195557, -10.413795471191406, -0.8422939777374268, 1.7012461423873901, 4.874862194061279, 8.886832237243652, 3.183368444442749, 5.638286113739014, -8.821410179138184, 12.29654598236084, -4.138912200927734, 4.308627128601074, -9.29118537902832, -6.553380489349365, 8.17484188079834, 1.20792555809021, 4.420536041259766, 1.4523899555206299, -3.218559741973877, -4.700610637664795, -5.079349994659424, 4.06958532333374, 2.983643054962158, 13.54430866241455, 8.896098136901855, -5.866447448730469, 9.208531379699707, -2.168269634246826, 6.795374870300293, 10.020984649658203, 1.575014591217041, 14.298140525817871, 10.26194953918457, -8.512328147888184, -6.382959365844727, -6.378438472747803, 10.150097846984863, 4.268825531005859, 5.742951393127441, 0.34955093264579773, 2.030456304550171, 12.342896461486816, 8.50829029083252, 6.010039329528809, -8.09709358215332, 8.7160005569458, -11.26994800567627, -1.8769686222076416, -3.131744623184204, -1.0264701843261719, -4.667761325836182, -4.339112281799316, -5.627622127532959, -0.5406832695007324, 3.955582618713379, 1.212937593460083, 3.346130847930908, 3.5911386013031006, 2.9480345249176025, 10.6832857131958, -7.1420578956604, 4.259089469909668, 6.518407344818115, 0.9673111438751221, -6.806450843811035, 13.742695808410645, 1.7056641578674316, -1.8332457542419434, 6.502290725708008, 0.20322377979755402, -2.4877514839172363, 8.785379409790039, 4.066267013549805, -2.383018970489502, -9.785016059875488, 12.374693870544434, 10.299556732177734, -9.046109199523926, -7.024879455566406, -8.468549728393555, -7.098013877868652, 10.852313995361328, 0.008267266675829887, -8.27181625366211, 4.604483127593994, -1.5700682401657104, 9.988173484802246, 10.912238121032715, -11.898998260498047, 1.3968335390090942, -0.4520972967147827, 12.536887168884277, 11.257699012756348, 14.163779258728027, 5.528905391693115, 7.026118755340576, -0.5523662567138672, 2.2616994380950928, 9.24083423614502, -11.442340850830078, 4.545251369476318, 2.0090932846069336, 3.273037910461426, 1.3605151176452637, -4.780527114868164, -10.929085731506348, -4.60536527633667, 7.637976169586182, -0.9027677178382874, 6.254537582397461, -2.45712947845459, 3.917421817779541, 7.389441967010498, -5.153895854949951, -1.2977335453033447, 13.669429779052734, 4.8649749755859375, -2.3770322799682617, 3.2107739448547363, -8.193607330322266, 5.610445976257324, 9.636336326599121, 3.9462103843688965, -9.87712287902832, 14.110127449035645, 10.58415699005127, 3.9151997566223145, 1.6171371936798096, -3.8623743057250977, -0.3990253210067749, -9.702103614807129, 8.637003898620605, -0.5030912756919861, -11.249046325683594, 7.70690393447876, -1.782188892364502, 4.10609769821167, -11.740378379821777, 10.232370376586914, -2.857544183731079, -2.628541946411133, 4.528635025024414, -8.98828125, 9.241166114807129, -2.716122627258301, 9.407697677612305, 2.0833544731140137, 5.548064708709717, -11.143706321716309, -2.844634771347046, 9.483348846435547, 1.644683599472046, -1.9955711364746094, -3.6032888889312744, -4.253595352172852, 0.5120900273323059, -13.792413711547852, -4.647738933563232, -3.3313980102539062, 7.274395942687988, -6.7982988357543945, 1.0810831785202026, 0.39839455485343933, -3.502739191055298, -12.534123420715332, -7.951953411102295, -5.13569974899292, 4.211663722991943, 2.1962130069732666, -0.6634746789932251, 7.184027194976807, -0.7592655420303345, 5.05235481262207, -1.8344624042510986, -8.136197090148926, 5.554296016693115, 5.859033584594727, 8.456517219543457, -10.145509719848633, -4.835070610046387, 12.17644214630127, -2.3483150005340576, -6.988193988800049, 2.3231360912323, -4.6534810066223145, -5.410040378570557, -2.9764461517333984, -7.033993244171143, 1.5855780839920044, -10.333643913269043, -2.350273370742798, -0.45212480425834656, -9.008015632629395, -4.260496616363525, 9.074892044067383, 1.4663609266281128, -9.300943374633789, 10.685489654541016, -3.939493179321289, -6.852418899536133, 2.1930384635925293, 3.7237308025360107, -3.2707319259643555, -9.936366081237793, -10.381669998168945, -7.231267929077148, -6.962238311767578, 5.466954708099365, -2.597287654876709, 1.4363237619400024, -3.7643961906433105], \"y\": [-4.068388938903809, -5.711823463439941, 9.362724304199219, -9.534920692443848, 2.378084182739258, -12.527411460876465, 4.8962082862854, 3.612705945968628, -0.17441435158252716, -6.989110469818115, 5.6486053466796875, -6.255321502685547, -10.167076110839844, 9.684863090515137, -6.428353309631348, -3.1755335330963135, -12.28728199005127, 2.5421085357666016, -12.407926559448242, -9.613337516784668, 6.734889984130859, 9.928657531738281, 5.862837314605713, -11.150187492370605, 3.8637900352478027, 0.4918995797634125, -4.00806188583374, -7.864181041717529, 1.3213735818862915, 13.740632057189941, -6.637375831604004, -2.5121076107025146, 6.134674072265625, 6.669641017913818, 12.307941436767578, -12.379533767700195, 13.737112998962402, -8.181286811828613, 0.7690315246582031, -1.9956403970718384, -2.386962652206421, 3.746138572692871, -2.102799654006958, -5.192129135131836, 5.269578456878662, 8.610527992248535, -13.125688552856445, 1.9633142948150635, 10.273883819580078, -4.415924072265625, -5.697265625, 8.872403144836426, -0.1885616034269333, 7.422038555145264, -13.208028793334961, -6.69933557510376, -6.094587326049805, -4.160748481750488, 4.782368183135986, -11.08484935760498, 0.7862336039543152, -0.07498642802238464, 2.363276720046997, 5.792134761810303, -9.598245620727539, 13.285330772399902, -13.026971817016602, 14.153164863586426, 7.092028617858887, -0.7706684470176697, 2.7660346031188965, 0.3026227355003357, -9.535828590393066, -0.5607413649559021, 8.941095352172852, -7.244120121002197, -3.2547237873077393, -2.1583383083343506, -11.649313926696777, -1.2138317823410034, -1.2820459604263306, -10.898323059082031, 7.332399845123291, 7.193824768066406, -1.910395860671997, -13.78511905670166, 0.47715163230895996, -11.633151054382324, 0.9413894414901733, -2.502859115600586, -12.848012924194336, -2.4282617568969727, 1.0061430931091309, 0.5528497695922852, -13.91879940032959, 6.893927574157715, -10.879829406738281, 8.289340019226074, -9.982048034667969, 13.466147422790527, 2.058626651763916, 10.17725944519043, -0.7796964049339294, -0.23598511517047882, -15.631877899169922, -6.222422122955322, 3.0344018936157227, 4.399142265319824, 10.162308692932129, 1.6505576372146606, -10.401505470275879, 3.4978034496307373, -0.010950491763651371, 0.5001778602600098, -7.717195987701416, 8.227676391601562, 7.386419773101807, -12.236748695373535, 10.832564353942871, 6.6717119216918945, -7.645010471343994, 9.394004821777344, 6.942097187042236, 8.085829734802246, 5.76363468170166, -10.789843559265137, -8.714582443237305, 5.713362216949463, 2.0091731548309326, 11.32431697845459, 2.662475347518921, -1.1903892755508423, 7.340749740600586, -1.8759547472000122, 10.551182746887207, 8.168149948120117, 1.2078089714050293, 6.373299598693848, -7.394826412200928, -0.021405361592769623, -6.40046501159668, 10.722943305969238, -7.617097854614258, 7.930993556976318, 8.09705924987793, 4.759456634521484, 2.1632277965545654, 5.718124866485596, -2.056875705718994, 6.315580368041992, -5.778254985809326, 5.872509479522705, -6.551879405975342, 0.5424302220344543, -10.842730522155762, -8.114605903625488, 1.3229397535324097, 13.127429962158203, 5.916676044464111, -6.152606010437012, -6.168038368225098, 10.840004920959473, -1.7460644245147705, 7.0660319328308105, 8.762565612792969, 1.458059549331665, -13.749330520629883, -10.353442192077637, 10.919811248779297, -10.273449897766113, -13.273666381835938, 1.5380988121032715, 0.9672974348068237, 3.8765642642974854, 6.482442855834961, 6.426932334899902, -0.49475255608558655, -4.015805244445801, 4.705774784088135, 7.886816024780273, 9.535861015319824, 10.5889892578125, 9.133848190307617, 8.688261985778809, -7.753439426422119, -13.197877883911133, 7.641856670379639, -5.9635491371154785, -6.563331604003906, -12.34094524383545, 1.5610829591751099, -3.0245888233184814, -1.6084177494049072, 8.255826950073242, -1.9133365154266357, 12.285319328308105, 7.938312530517578, -0.816493809223175, -7.302772045135498, -1.265476107597351, 8.070000648498535, 2.761249542236328, -15.379781723022461, -8.236891746520996, 9.455058097839355, 10.125164985656738, 9.180647850036621, -11.756449699401855, 7.724452018737793, -1.78108549118042, 5.388622283935547, -7.426238536834717, -3.455239772796631, 10.472248077392578, -10.407374382019043, 4.985743045806885, 3.183253288269043, -13.361079216003418, -9.503026962280273, -10.725831985473633, -8.69262409210205, -14.960253715515137, -9.25635051727295, 0.3646346628665924, 2.2218785285949707, 0.4322771728038788, 10.066322326660156, -2.594142436981201, 0.9188083410263062, -5.085277557373047, -14.45683765411377, 7.578129291534424, -9.646385192871094, 6.511995315551758, 8.91601276397705, 0.873552143573761, 3.502300500869751, -0.05011983960866928, 10.858956336975098, 4.688119888305664, 4.364706039428711, -9.314598083496094, 2.591491937637329, -0.6120595932006836, 8.485085487365723, 1.0640052556991577, 1.2990437746047974, -10.918792724609375, -10.619169235229492, 5.299488544464111, -5.739121437072754, -0.23772017657756805, -4.495765209197998, 0.1486929953098297, -2.4261226654052734, 8.24668025970459, -4.1024580001831055, -5.971027374267578, -13.473422050476074, -8.698589324951172, 8.473451614379883, -5.186227321624756, 1.9675534963607788, -3.062577486038208, -3.411681890487671, -1.4880499839782715, -4.381918430328369, 1.638892412185669, -3.460686683654785, -1.7157918214797974, 6.654635906219482, 10.914485931396484, 8.113577842712402, -12.822410583496094, -12.980549812316895, -0.8325128555297852, -10.901795387268066, 11.741415977478027, -10.663776397705078, -2.6303658485412598, -3.92163348197937, 3.104461193084717, -4.303127765655518, -2.763170003890991, -1.9838306903839111, -13.097074508666992, 1.5838013887405396, 4.876712322235107, -5.9269256591796875, -10.170753479003906, -11.656103134155273, -2.3445029258728027, 10.128392219543457, 7.079133033752441, 14.441629409790039, -14.906880378723145, -1.654332160949707, 8.682982444763184, -8.603466033935547, -0.6573864817619324, -3.177183151245117, 2.170372486114502, 8.295541763305664, 1.0831111669540405, -7.74421501159668, -6.813935279846191, 7.965171813964844, 14.734837532043457, -6.091042518615723, 16.130096435546875, 10.079692840576172, -0.1189516931772232, -12.256461143493652, 2.795525550842285, 10.830879211425781, 13.000170707702637, 1.738938808441162, 7.577977657318115, -10.637090682983398, 5.96716833114624, 9.822389602661133, -10.30750560760498, 3.5964629650115967, -0.6996246576309204, -1.9153685569763184, 10.33985424041748, -5.473048210144043, 10.57736587524414, 8.884282112121582, -0.0659644827246666, -8.872357368469238, -12.058409690856934, -8.808427810668945, -7.292041301727295, 4.812016010284424, 1.9301151037216187, -9.410971641540527, 7.232944011688232, 11.725876808166504, -3.6062450408935547, -8.333308219909668, 1.135024905204773, 14.136266708374023, -9.438544273376465, -10.520523071289062, -13.485655784606934, -12.746065139770508, 1.2716068029403687, 1.6248396635055542, -9.204767227172852, 0.5865362882614136, 8.305278778076172, -8.836636543273926, -3.681279420852661, 9.996543884277344, -7.081902027130127, -2.912703275680542, -0.5132898092269897, 2.0601189136505127, -4.7590436935424805, 10.852851867675781, -8.065265655517578, 7.327445983886719, -9.292258262634277, 5.565476417541504, 1.6715502738952637, -7.622252941131592, -4.7987775802612305, 6.6773810386657715, 1.4735406637191772, -7.915008544921875, -9.193321228027344, -6.226729869842529, -6.933930397033691, 2.4506757259368896, 10.659071922302246, -7.850790977478027, 8.053560256958008, 13.359482765197754, 13.416918754577637, -5.867406845092773, 7.307194709777832, 4.173447132110596, -9.347686767578125, 4.2791290283203125, -12.442880630493164, 13.281070709228516, -3.297426700592041, 4.652020454406738, 14.38551139831543, 7.482644557952881, -0.002741024596616626, 0.9905813336372375, 6.932013988494873, -8.271273612976074, -8.220759391784668, 8.725443840026855, -13.43986988067627, -12.241941452026367, 17.17027473449707, -5.741105079650879, -2.642404079437256, 4.438760280609131, -10.46041202545166, 5.77219820022583, -6.9844536781311035, 1.7730295658111572, -6.837677955627441, -3.9759628772735596, 6.557067394256592, 9.447583198547363, 4.404404640197754, -0.36613723635673523, 0.4416971504688263, -3.7834372520446777, 11.929844856262207, 14.710718154907227, 13.628567695617676, 7.466931343078613, -8.297917366027832, -2.621718645095825, 7.830570697784424, -13.282632827758789, 0.07750489562749863, -2.3060145378112793, 3.308587074279785, -2.8470399379730225, -6.065373420715332, -6.255896091461182, 3.70300555229187, 4.751364231109619, -3.0265026092529297, -0.511384129524231, -12.82066822052002, 4.948635101318359, -7.969239711761475, 1.6840412616729736, -10.192193984985352, -4.717655658721924, 0.3455641269683838, -5.215331077575684, -4.561347484588623, 2.308748722076416, -8.18892765045166, -4.593751430511475, -6.296124458312988, -11.772734642028809, -0.3475992977619171, 11.753812789916992, -13.589638710021973, -6.459950923919678, -0.2933782935142517, 6.415596961975098, -12.869524002075195, 11.624340057373047, 4.111617088317871, 0.9713026881217957, -5.31873893737793, -3.9689781665802, -10.619466781616211, -0.2791755497455597, 2.029331922531128, 5.354701995849609, -1.558128833770752, -6.614545822143555, -6.237466335296631, 5.549585342407227, -12.818934440612793, -0.1287432760000229, 10.309006690979004, 7.754640102386475, -0.6662202477455139, 2.721116304397583, -4.4897847175598145, -5.125299453735352, -2.273515224456787, 10.110191345214844, -3.500391960144043, -5.78660249710083, -2.057267427444458, -15.64985179901123, -0.9656209945678711, 13.536502838134766, -2.099945545196533, -9.856178283691406, -5.4616241455078125, -3.346095561981201, 9.541146278381348, -7.364285469055176, 11.013338088989258, 10.857426643371582, 8.027677536010742, -1.9669430255889893, 11.833612442016602, -7.886473178863525, 9.78639030456543, 0.6309353113174438, -9.937826156616211, 8.440985679626465, -9.36402702331543, 10.398612022399902, 8.532905578613281, 4.419271469116211, 10.621345520019531, -1.9823739528656006, -13.403731346130371, 9.327274322509766, 16.437992095947266, 8.763955116271973, 10.111075401306152, -0.38704463839530945, -3.626307725906372, -9.10927963256836, 10.308533668518066, -3.008758544921875, 4.1317644119262695, 8.853194236755371, -2.4770166873931885, 3.107471227645874, 8.84785270690918, 5.723781108856201, -6.0618181228637695, -1.1618177890777588, -6.2502288818359375, -9.009661674499512, -14.854660987854004, 14.495256423950195, -6.908247947692871, -3.262333631515503, -1.7875367403030396, 4.851125240325928, -3.139683723449707, -11.519854545593262, 8.52270221710205, -1.887831687927246, -10.604121208190918, 12.238297462463379, -0.822182834148407, -8.838193893432617, -6.740581512451172, 7.9843220710754395, 3.87152099609375, 4.173957347869873, 7.180307388305664, -6.521711349487305, -6.692057132720947, 3.808591842651367, -6.159062385559082, -3.826523780822754, -5.448044300079346, 0.2791743576526642, 10.433991432189941, 5.579498291015625, 1.6085788011550903, -2.8721773624420166, 7.354246616363525, 0.9908187985420227, -10.791525840759277, 10.308759689331055, -0.39741000533103943, 0.8670027256011963, -9.192361831665039, 10.722076416015625, -11.30716609954834, -13.123387336730957, -1.160457730293274, 0.8077923655509949, 0.5176615118980408, 0.2302275449037552, -7.984905242919922, -10.278449058532715, -13.502836227416992, -12.72732162475586, 5.233299732208252, 9.684207916259766, -11.258277893066406, -7.57838773727417, -6.5361857414245605, -5.124419689178467, -4.853643894195557, -1.1183886528015137, 0.4532167613506317, 8.421530723571777, 0.23073455691337585, -1.6547611951828003, -12.510734558105469, -0.4378848075866699, 8.212212562561035, -5.395466327667236, -0.14714762568473816, 17.128786087036133, 13.34850025177002, -10.532482147216797, 5.737637042999268, -1.1949065923690796, -14.021812438964844, 14.858858108520508, 2.0016536712646484, 9.523040771484375, -12.134937286376953, -5.810762882232666, -10.65148639678955, -1.667064905166626, 8.455389022827148, 8.735603332519531, -10.38979721069336, -1.357000708580017, 9.49560832977295, 1.7695170640945435, 8.86124038696289, -3.4062440395355225, -7.4303107261657715, 8.904245376586914, -0.18591320514678955, -3.6959476470947266, -6.456518650054932, -2.1100475788116455, -4.076882839202881, 4.76564359664917, 10.088818550109863, 6.890186786651611, 5.971775531768799, 2.5258026123046875, 10.88425350189209, -4.594786167144775, 3.4360849857330322, -8.677928924560547, -2.5624876022338867, 0.6451941132545471, 10.007180213928223, 7.567883014678955, 4.4246087074279785, 7.399470806121826, -9.095826148986816, 2.911468982696533, 7.614593505859375, -10.041482925415039, -8.162484169006348, -3.798490047454834, 3.6134235858917236, -14.250868797302246, 6.634255886077881, -9.761645317077637, -4.791162967681885, -12.485701560974121, 12.9943265914917, -5.637270927429199, -2.566401958465576, -9.189787864685059, -0.6327834129333496, 8.525313377380371, 2.103470802307129, -12.209794998168945, -3.8858957290649414, 0.7362655401229858, -2.7700095176696777, 0.8937496542930603, -8.626882553100586, -7.012345790863037, 4.228550434112549, -14.228198051452637, 6.42535924911499, -2.1118204593658447, 6.38787841796875, -6.978819847106934, -11.149346351623535, 0.8291957378387451, -1.5501031875610352, -2.615194082260132, 4.39950704574585, -13.346263885498047, -6.290886402130127, -0.06794242560863495, -6.420279502868652, 2.1946628093719482, 3.595276117324829, 12.247264862060547, 6.700654983520508, -7.571123123168945, 7.992934703826904, -2.31734037399292, 3.660125494003296, 8.8603515625, -9.488127708435059, -4.07658576965332, 5.43956995010376, -13.775232315063477, -3.937452793121338, 1.5626271963119507, 0.6293443441390991, -8.895641326904297, -1.8523715734481812, 0.5629177093505859, -2.867265462875366, -1.1996816396713257, 10.085351943969727, 0.29255789518356323, -4.943473815917969, 10.396785736083984, 1.4477094411849976, 3.3297009468078613, -9.469071388244629, -1.5924025774002075, 3.090306520462036, -0.718313455581665, -0.5534246563911438, -0.7376047968864441, 9.207016944885254, 13.738524436950684, 5.31723690032959, -7.941446781158447, 3.487600564956665, 13.408771514892578, 10.146834373474121, -8.936033248901367, 11.728967666625977, -1.661657691001892, 3.4508111476898193, 4.3033623695373535, -4.365184307098389, -5.420196533203125, 4.215810775756836, 8.622201919555664, 9.204230308532715, 4.966390609741211, 5.369245529174805, 13.681255340576172, -2.08781361579895, 6.561704158782959, -2.049659490585327, -9.405864715576172, 1.8624656200408936, 2.3644027709960938, -6.249507427215576, 8.192479133605957, 4.140422821044922, -2.6829495429992676, 0.2152010053396225, -7.771368980407715, 6.361458778381348, 1.5990898609161377, -3.9702506065368652, -5.163934707641602, -2.291524648666382, -1.7783769369125366, -4.742341995239258, -6.63118839263916, 0.8002110719680786, 0.011023788712918758, 1.5769215822219849, -0.6380707621574402, -7.069551944732666, 11.939568519592285, -2.551783561706543, 1.956660509109497, 12.86983585357666, 3.995636463165283, 9.510287284851074, 8.088288307189941, -5.84948205947876, 8.6587553024292, 2.4010417461395264, 9.77983570098877, 7.460484504699707, 10.009397506713867, -9.482868194580078, -4.216486930847168, -11.468438148498535, 1.0767749547958374, -10.27340316772461, -10.289928436279297, -2.9698851108551025, 10.734762191772461, 5.088840961456299, 8.215182304382324, -11.619745254516602, 0.44406428933143616, 10.947195053100586, -6.009078025817871, -1.5014008283615112, -1.1563128232955933, -8.526603698730469, -5.369871139526367, 4.474673271179199, 4.334273338317871, -6.479554653167725, 8.001147270202637, 1.9664188623428345, -9.332524299621582, -8.702956199645996, -12.82660961151123, 9.886563301086426, 13.982017517089844, 1.9970009326934814, -2.9481632709503174, -11.135122299194336, 12.034564971923828, -11.090540885925293, 8.085163116455078, -8.312505722045898, 8.48638916015625, -10.199545860290527, 1.8091830015182495, -5.459112167358398, -13.382671356201172, 6.871853351593018, 3.051737070083618, -2.349310874938965, -1.8616894483566284, 14.183323860168457, -15.346531867980957, -6.341956615447998, -1.3861840963363647, -6.257697105407715, 7.934722423553467, -14.26490592956543, 8.499410629272461, -5.592794895172119, -3.8281495571136475, 0.9051268100738525, -6.501338481903076, -10.104372024536133, -2.279744863510132, 10.229605674743652, 0.6602568626403809, 6.462862968444824, -10.644947052001953, 8.66581916809082, 7.252771854400635, -2.193145275115967, -11.267644882202148, 0.9307436943054199, -3.051262855529785, 8.479734420776367, 0.5136241912841797, -3.1809029579162598, 7.023381233215332, -11.274003028869629, -10.796906471252441, -13.520729064941406, 0.5637981295585632, -12.064029693603516, 3.3970439434051514, -0.656673789024353, -10.024141311645508, -11.797160148620605, -8.971687316894531, -11.6342134475708, 0.841783344745636, 0.2814423441886902, 16.15863037109375, -9.494904518127441, -8.233906745910645, 2.4212851524353027, -3.650489568710327, 0.08227711915969849, -13.966259002685547, -3.657686948776245, -0.9661235213279724, -2.3176398277282715, 0.7775576114654541, 10.663511276245117, -1.5486282110214233, -3.6552462577819824, -4.56840181350708, -0.45907920598983765, 2.5766561031341553, -2.0992772579193115, 9.174898147583008, 2.189716100692749, 8.963325500488281, 0.5013688206672668, -10.002211570739746, -3.2924110889434814, -8.000213623046875, -0.8804007768630981, -2.588902235031128, -1.1767578125, 8.994051933288574, 11.844841003417969, -8.876198768615723, -2.2967305183410645, -0.30632340908050537, -6.80465841293335, -10.270273208618164, -0.9531605243682861, 3.0856525897979736, -14.178847312927246, -1.9566057920455933, -0.979568362236023, -13.69615650177002, -10.469441413879395, 9.57636833190918, -2.9717578887939453, -1.7445822954177856, 17.287321090698242, 0.4916561245918274, -7.9383463859558105, 7.563085556030273, -15.405158996582031, -0.7512208223342896, -10.485837936401367, -2.423408031463623, 8.108078956604004, -12.031397819519043, 3.5985124111175537, -12.762042999267578, 0.801151692867279, -12.087387084960938, -5.373387813568115, -2.9067561626434326, 3.5968267917633057, -2.961642026901245, -7.0221781730651855, 8.02497673034668, -8.293952941894531, 6.360918998718262, 0.3862418234348297, 3.514965534210205, 12.147899627685547, 6.750010967254639, 2.857499361038208, -4.272500514984131, 11.415122985839844, -6.541802406311035, 2.2214231491088867, 4.2537102699279785, -3.8042590618133545, 5.920783996582031, 10.221640586853027, -8.425910949707031, -10.296575546264648, 1.6180976629257202, 6.324073791503906, -0.7650009393692017, 1.4800537824630737, -8.370738983154297, 2.1939404010772705, 7.585551738739014, -9.86622428894043, -6.35740852355957, 4.910969257354736, 1.8177570104599, 9.787714958190918, 1.372626543045044, 14.574225425720215, -14.89382553100586, -10.627950668334961, 7.594010353088379, -5.3046088218688965, 9.522605895996094, -8.400965690612793, 8.600842475891113, -10.297624588012695, -0.5280802845954895, -7.850001335144043, -11.466363906860352, 0.5864508152008057, -5.2172112464904785, 8.131543159484863, 0.09341222047805786, -3.135052442550659, -10.280803680419922, 10.528068542480469, 8.996127128601074, -8.338018417358398, -0.07657884806394577, 0.06064179912209511, 3.1711204051971436, 1.8273905515670776, -7.850732326507568, 8.167019844055176, -4.129179954528809, 7.298223495483398, -0.4732367694377899, -1.8759124279022217, -0.4197506904602051, 8.448623657226562, 7.897302627563477, 8.815801620483398, 0.5575198531150818, 6.170297145843506, -11.394780158996582, -3.5328524112701416, 1.328189492225647, -8.260637283325195, 1.24323308467865, -1.971680760383606, 7.795828819274902, 7.730120658874512, -5.3981781005859375, 0.5771056413650513, 1.026148796081543, 6.0951972007751465, -3.5772485733032227, 1.0152028799057007, 8.806779861450195, 10.272778511047363, -8.020791053771973, 10.534975051879883, 4.7630391120910645, 9.195956230163574, -2.967909574508667, -4.1796674728393555, 14.782033920288086, 9.899088859558105, -6.612799644470215, 13.338987350463867, 5.311444282531738, -12.943700790405273, -15.652913093566895, -1.9998209476470947, 0.8688353896141052, 8.711465835571289, 11.062482833862305, 0.265150785446167, 7.2804436683654785, 9.265143394470215, 6.75939416885376, 4.763813018798828, 4.966397762298584, 10.976907730102539, 1.5425429344177246, -4.0340070724487305, 3.1872029304504395, 8.597914695739746], \"z\": [8.883316040039062, -11.398136138916016, -3.8553366661071777, 6.569323539733887, -6.464205741882324, 5.902174472808838, 1.054874062538147, 0.7282360196113586, -5.462431907653809, 12.909889221191406, 2.4100873470306396, 7.277092933654785, 4.255005836486816, -9.750226974487305, 14.846247673034668, -5.319937229156494, 4.435587406158447, -8.483803749084473, 1.729143500328064, 7.047837257385254, 10.226545333862305, 8.481809616088867, -6.740124225616455, 0.6121191382408142, -8.370085716247559, -1.4233077764511108, -9.476316452026367, 14.25130844116211, 2.4174869060516357, -3.1317298412323, 8.28794002532959, 11.41675090789795, 11.093544006347656, -13.214146614074707, -8.387255668640137, 5.885519504547119, -3.1015138626098633, 1.7773387432098389, 5.559432506561279, -6.311600208282471, 7.4265055656433105, -12.153322219848633, 12.845467567443848, -6.126424789428711, 1.13666832447052, 8.749127388000488, -2.056819438934326, 13.153824806213379, -6.79905366897583, -12.27027702331543, -11.148045539855957, -6.102692604064941, 10.05238151550293, -15.867475509643555, 3.071765184402466, 7.222232341766357, 11.98775577545166, 14.684773445129395, -6.7986979484558105, -2.5143208503723145, -5.599483489990234, -7.001044273376465, 7.8559184074401855, -11.011165618896484, 5.69310188293457, -5.647633075714111, -4.463156223297119, -10.78350830078125, -9.985074043273926, -12.167229652404785, -3.2046475410461426, 0.8326705098152161, -3.579939126968384, 11.127013206481934, 7.499382495880127, 7.774783134460449, -6.04873514175415, -5.663544654846191, -2.900820016860962, -5.29302453994751, -11.469988822937012, -8.705662727355957, 9.24039077758789, 9.790553092956543, -1.6950732469558716, 2.4173080921173096, -12.32176685333252, -2.2834463119506836, -5.072531223297119, 7.7247209548950195, 5.250782489776611, 10.773605346679688, -9.714502334594727, -5.9545464515686035, 1.0436158180236816, 2.146150827407837, 8.346705436706543, -10.08718490600586, 0.9277760982513428, -7.0965657234191895, -2.9530317783355713, -6.891021251678467, -3.0523200035095215, 1.6564563512802124, 2.988698720932007, 4.947999000549316, -6.53068733215332, 13.001705169677734, -3.705933094024658, 6.541298866271973, 4.654163837432861, -0.5184407830238342, 12.959738731384277, -0.8029209971427917, 7.421240329742432, -1.141443133354187, -15.83900260925293, 4.6555891036987305, -16.577926635742188, -12.015772819519043, 7.01336669921875, -16.12042999267578, -8.121573448181152, -12.039949417114258, -7.921243190765381, 1.4552708864212036, 3.0859735012054443, -8.200583457946777, 1.800761342048645, -5.524320125579834, -11.604747772216797, 1.686578392982483, -12.596043586730957, 11.608240127563477, -0.5387095808982849, -0.3025369942188263, -12.325096130371094, 2.8724870681762695, 7.969376564025879, 10.994392395019531, -8.73733901977539, -16.63528823852539, 12.057856559753418, -10.541120529174805, -4.753888130187988, 10.874744415283203, 12.937809944152832, 1.8539103269577026, 13.482963562011719, 9.528931617736816, 7.218765735626221, -12.878113746643066, 12.762349128723145, -1.7992597818374634, -1.0800505876541138, 9.541703224182129, 6.112854957580566, -13.175990104675293, 2.707473039627075, 9.432373046875, 11.918808937072754, -1.535224199295044, -7.943779468536377, 9.607892990112305, 9.868807792663574, -6.323554515838623, 2.0700912475585938, 0.6779813170433044, -10.727229118347168, 7.625541687011719, 4.8296942710876465, -7.2153215408325195, -2.1967012882232666, -8.471961975097656, -9.554065704345703, -8.793992042541504, -5.882552146911621, 9.63422679901123, -10.65383243560791, -14.601655006408691, 9.064659118652344, -12.949118614196777, 9.36435604095459, 0.6312728524208069, 6.750809669494629, 4.571635723114014, -12.060564994812012, 7.379536151885986, -10.801356315612793, 4.410685062408447, -12.385359764099121, -13.198573112487793, 10.558890342712402, -15.998313903808594, -5.45121431350708, -13.2500638961792, 2.925217390060425, 2.438131332397461, 6.627656936645508, 2.129291534423828, -8.29503059387207, 1.858704686164856, 4.857938289642334, 11.202406883239746, -6.235655307769775, -4.124966144561768, -7.499326705932617, -2.4297823905944824, 2.4337081909179688, 10.446510314941406, -11.164566040039062, 7.81835412979126, 14.905253410339355, -1.2281049489974976, 0.3612842261791229, -13.646449089050293, 1.220569133758545, 0.923439621925354, 0.3147779107093811, -3.0080807209014893, 5.8489298820495605, 4.151412010192871, 5.841285228729248, 4.908796310424805, 5.619007587432861, -0.5287997722625732, -6.577792167663574, 9.413450241088867, 6.378799915313721, -4.51337194442749, 3.3298959732055664, 9.093424797058105, -6.971343994140625, 9.803126335144043, -14.65541934967041, 12.557050704956055, -3.2463693618774414, 6.531362533569336, 7.965394496917725, 1.0313091278076172, 10.78011417388916, -6.481077194213867, -8.412922859191895, -0.4448119103908539, -14.323661804199219, -6.759492874145508, 16.419570922851562, -0.14842663705348969, 0.5704662203788757, -10.878768920898438, 7.2276740074157715, -0.16517020761966705, 9.435047149658203, -0.696036159992218, -10.90746784210205, -6.325995922088623, 14.681036949157715, 15.448911666870117, 0.4517563581466675, 9.5114164352417, 10.984399795532227, 8.666508674621582, 10.825983047485352, 9.543536186218262, -8.694720268249512, -0.8009762763977051, -6.906031131744385, 16.70525360107422, 9.067861557006836, -14.185595512390137, -11.791555404663086, -12.870609283447266, 8.525479316711426, 0.0750691369175911, -0.137306809425354, -8.023713111877441, 7.794966697692871, -5.287505626678467, 7.360733985900879, -10.155699729919434, 6.242946624755859, -7.131356716156006, -12.374052047729492, -10.579294204711914, 13.296039581298828, -0.37293168902397156, 0.50222247838974, 3.233304977416992, 7.430479526519775, 3.508089780807495, -8.970499038696289, 5.918919563293457, -11.07165241241455, -7.819525241851807, -10.54986572265625, 4.234248638153076, -11.614507675170898, -2.831925392150879, 10.331073760986328, 10.82992172241211, -6.2958221435546875, -3.319462537765503, 10.38502311706543, -1.250669002532959, 8.552331924438477, 13.862499237060547, -6.704090595245361, -5.533514499664307, 15.853100776672363, -10.056543350219727, -7.665923118591309, 15.902100563049316, 1.8446903228759766, 6.827500343322754, -1.4046555757522583, -8.383200645446777, 2.185314416885376, -8.156431198120117, -2.9128639698028564, -8.555768013000488, 8.74073314666748, 3.3053693771362305, 11.83049488067627, -0.5418838858604431, -10.528807640075684, -16.63128662109375, 9.162941932678223, -5.0979743003845215, -1.2070727348327637, 13.15800952911377, 1.572420597076416, 5.6172943115234375, 2.879225969314575, 10.753267288208008, -6.1204118728637695, -6.588545322418213, -3.754232168197632, 2.0070834159851074, -8.985140800476074, -10.326282501220703, 9.10264778137207, 5.172719478607178, -5.996193885803223, -0.7522737979888916, 1.3412846326828003, 1.290757179260254, 4.735513687133789, 4.206322193145752, -0.9260378479957581, -6.5668439865112305, -1.4678261280059814, -14.122411727905273, -3.9280526638031006, -8.552740097045898, -11.388751029968262, 11.89079475402832, 6.721336364746094, -8.824677467346191, 0.2851369082927704, 5.229318141937256, 6.045810699462891, 11.06509017944336, -7.3718743324279785, -7.118021011352539, -11.524016380310059, -6.025199890136719, 7.5038628578186035, 9.23536491394043, -15.424599647521973, 6.821816444396973, 14.037520408630371, 3.2949583530426025, 4.853053092956543, 10.693904876708984, -11.53852653503418, -7.048178672790527, 7.378111839294434, -14.63779354095459, -5.5449724197387695, -10.594807624816895, -10.703974723815918, -9.766729354858398, -0.18985143303871155, -3.959752082824707, -5.706108093261719, 4.092484951019287, -7.361555099487305, -6.5735039710998535, -11.149321556091309, -10.646378517150879, 2.8528947830200195, 2.6228647232055664, -8.822263717651367, -6.93843936920166, 8.142147064208984, 10.949657440185547, -9.56114387512207, 0.5389721393585205, 4.450166702270508, -9.90290355682373, 6.935568809509277, 6.829331874847412, -12.291751861572266, 7.147647857666016, -8.241718292236328, 11.323244094848633, 3.501966953277588, 11.511474609375, 7.446609973907471, 2.949049234390259, -5.98347282409668, -10.185763359069824, 0.44669583439826965, 1.1842142343521118, 6.164584159851074, -8.781865119934082, -7.481339931488037, -7.8311848640441895, -8.937216758728027, 6.406304359436035, -10.708747863769531, -15.388497352600098, -5.316183567047119, 11.303637504577637, 8.79024887084961, 7.565569877624512, -6.0590105056762695, 7.391608238220215, 4.866397857666016, -7.9210429191589355, 10.453218460083008, -5.248778820037842, 5.487022399902344, 0.881202220916748, -6.480203628540039, 8.262102127075195, 4.896473407745361, 0.6367234587669373, -11.42362117767334, 6.128032684326172, -11.75181770324707, 13.76237678527832, 3.426023006439209, 11.501785278320312, 10.012462615966797, 15.804521560668945, 1.7441344261169434, 12.300605773925781, -8.987587928771973, 1.8958404064178467, -11.623316764831543, 0.9921411871910095, 2.307788610458374, 2.949610948562622, -9.829643249511719, -5.855881690979004, 11.494750022888184, 13.795334815979004, 3.7753307819366455, 5.861786365509033, 2.5323543548583984, 10.793492317199707, 2.1253232955932617, -14.365486145019531, 14.74892807006836, -8.972488403320312, -13.245439529418945, 5.445582866668701, 0.38663461804389954, 8.599995613098145, -12.574894905090332, 7.333452224731445, 7.912439346313477, -12.066691398620605, 7.932840347290039, 9.42575740814209, -11.454728126525879, 6.209073066711426, -4.4986772537231445, 13.457722663879395, 2.966146230697632, 2.683103322982788, -7.901642799377441, 5.820008277893066, 0.37424230575561523, -11.137656211853027, 6.189023017883301, -3.6076908111572266, 8.055054664611816, -4.408480167388916, -10.786035537719727, -1.823012351989746, 11.396712303161621, -9.823081016540527, 8.633487701416016, -4.188629150390625, -2.0499308109283447, 8.124155044555664, -6.2709527015686035, 6.868955612182617, 7.895660400390625, -5.0509467124938965, -10.305254936218262, -7.183160781860352, 9.71092414855957, 6.508081436157227, -7.534843444824219, -9.897083282470703, -14.794636726379395, 0.23364129662513733, 6.887348651885986, -6.311253547668457, 7.020538806915283, -0.7127342224121094, -13.218393325805664, 11.62447452545166, 8.779765129089355, 12.744643211364746, -6.7517805099487305, -6.755671501159668, -7.019239902496338, -9.523512840270996, 6.307223796844482, -8.935856819152832, -4.120009422302246, -5.8444929122924805, -7.922196865081787, 13.873075485229492, 4.220826148986816, 9.689424514770508, -6.327576637268066, -8.212960243225098, -9.236604690551758, -5.154853820800781, -5.775748252868652, -1.074266791343689, -8.703560829162598, 8.461462020874023, 9.61181354522705, 10.293238639831543, 10.775446891784668, -13.670215606689453, 1.5371935367584229, -13.079630851745605, -3.588858127593994, 13.52625846862793, -12.000123023986816, 8.130285263061523, -6.00966739654541, -12.158224105834961, 5.734748363494873, -0.6881977915763855, -8.159038543701172, 16.68635368347168, -3.737370252609253, -1.0157849788665771, 11.182790756225586, 0.21014654636383057, 7.865945816040039, 1.3068534135818481, -8.75713062286377, 6.8970866203308105, 7.464608192443848, -0.12225255370140076, -2.057898998260498, 2.0395119190216064, -0.49677538871765137, 6.372256755828857, 5.367379665374756, 7.109652996063232, -0.9669605493545532, -5.035412788391113, 5.163371562957764, 10.27761459350586, -11.141976356506348, -0.764880359172821, 7.205925464630127, 11.726607322692871, 8.96030330657959, -11.707303047180176, 1.9272493124008179, -7.600060939788818, -4.494336128234863, 5.381737232208252, -11.55041790008545, 4.9756317138671875, 9.168595314025879, -1.2924463748931885, 8.413580894470215, 2.582134246826172, -9.709031105041504, -7.321157455444336, 0.6788528561592102, -12.3169527053833, 7.603640079498291, 1.3227999210357666, -5.3046135902404785, -0.4865269064903259, -7.3673505783081055, 5.733849048614502, 7.328480243682861, 5.991666316986084, -5.961128234863281, -16.6956787109375, -1.965395450592041, 3.296924114227295, -0.31286361813545227, 9.639327049255371, -11.36180305480957, -14.880463600158691, 14.889290809631348, 7.998000144958496, -9.728671073913574, 13.007071495056152, -9.834543228149414, 6.942913055419922, -5.185387134552002, -12.363140106201172, -13.131680488586426, -8.101151466369629, -7.046597480773926, 2.3485686779022217, -3.205678701400757, 5.754305839538574, 13.767783164978027, -9.539649963378906, 9.440900802612305, 10.866772651672363, 10.11046314239502, 6.72122049331665, -10.04451847076416, 1.5598397254943848, 9.539376258850098, -7.036035060882568, -1.57120680809021, 9.317206382751465, 4.589663982391357, 14.393424034118652, -7.340238571166992, 13.592452049255371, 3.516693353652954, -15.44448184967041, -0.4681243598461151, -5.760577201843262, 4.043910026550293, -8.348444938659668, 7.148221015930176, -9.707340240478516, 9.848712921142578, -5.4056267738342285, -0.5127127170562744, 7.16184139251709, 5.719956874847412, 6.546953201293945, 4.445544719696045, 8.813228607177734, 11.35293197631836, 6.498662948608398, 10.564116477966309, 13.409307479858398, 2.009608507156372, 1.7413098812103271, 10.388861656188965, -8.770215034484863, 9.590083122253418, -1.385257601737976, -11.674447059631348, 10.520573616027832, 8.050382614135742, 1.5769680738449097, 6.4245734214782715, 13.778707504272461, 15.929025650024414, -8.721091270446777, -12.399353981018066, 11.90303897857666, -8.331117630004883, -8.740823745727539, 8.66539478302002, -2.0632171630859375, -6.808785438537598, -0.27929791808128357, -9.791291236877441, 2.616259813308716, 14.699901580810547, -11.568780899047852, 1.6298104524612427, 7.466928005218506, 6.679470062255859, -2.0335612297058105, 7.072005271911621, 9.302408218383789, 9.913444519042969, 9.331324577331543, -11.379313468933105, 0.2721741497516632, -6.488854885101318, -11.435319900512695, 7.14169979095459, -7.0233330726623535, -11.480962753295898, -7.623345375061035, -14.26322078704834, 7.759860992431641, 2.1617610454559326, 1.7259607315063477, -12.19144058227539, -5.6765522956848145, -3.139418363571167, -11.607769012451172, 15.678378105163574, 13.201977729797363, -10.617924690246582, -9.304939270019531, 6.927217960357666, -9.656503677368164, 9.199714660644531, -9.385000228881836, 12.636404037475586, -11.7415771484375, -6.267674922943115, -12.112203598022461, -5.377457141876221, -5.829500198364258, -6.673685073852539, -10.910161972045898, -5.242842674255371, -1.5066243410110474, -9.208354949951172, 6.622222423553467, 7.053053855895996, -5.881237983703613, -6.617546081542969, 14.562776565551758, -9.558671951293945, 11.272915840148926, 3.9921929836273193, -7.3904128074646, 15.879339218139648, -8.671228408813477, -4.5138840675354, 6.24354362487793, -3.8453116416931152, -3.501845121383667, -11.55542278289795, -11.162744522094727, -4.7876787185668945, -0.3654342591762543, -8.65485954284668, -4.573789596557617, -5.6816301345825195, 6.519624710083008, -8.266326904296875, 11.463702201843262, 0.9775301814079285, -8.053929328918457, -11.73835563659668, -6.909875392913818, -10.004436492919922, -4.869584560394287, -5.911005973815918, 1.4940990209579468, 7.892628192901611, -9.792728424072266, -6.638870716094971, -0.7129725217819214, 9.997099876403809, -0.8433659076690674, 1.1849279403686523, 7.509959697723389, 7.720436096191406, 3.616086721420288, 6.096292495727539, 12.772418022155762, -10.381999015808105, -2.3918612003326416, -5.623697280883789, -16.6919002532959, 8.248160362243652, -3.2759532928466797, -5.495553016662598, 7.641909599304199, 13.807104110717773, 11.058724403381348, -5.243518352508545, 10.839676856994629, -6.672327518463135, 7.255676746368408, 5.520619869232178, 10.097548484802246, 3.2274086475372314, -4.153295993804932, -6.248430252075195, -0.09018813818693161, -9.93289566040039, -8.249247550964355, -13.23978042602539, 0.09516066312789917, -10.157645225524902, 5.757300853729248, 0.7900186777114868, 1.726515769958496, 0.31452834606170654, -11.418766975402832, 6.4747185707092285, -6.472968101501465, -12.452898979187012, 8.695822715759277, 9.663308143615723, -5.97674560546875, 4.862102031707764, 6.966911792755127, 1.1538549661636353, 7.774237155914307, -0.3752465546131134, 3.766056537628174, -10.084110260009766, 8.376981735229492, -11.650365829467773, 11.665539741516113, -4.011163234710693, -7.828170299530029, 9.9187650680542, -0.1697656810283661, -6.801385879516602, -15.80868911743164, -8.41466999053955, -14.066253662109375, -12.686566352844238, -5.199217796325684, -2.0829241275787354, 12.687538146972656, -12.853537559509277, -16.72591209411621, -6.530033588409424, -9.594889640808105, -8.646308898925781, -0.2492881715297699, 8.301468849182129, -4.934177875518799, 1.515740156173706, -5.615053653717041, 1.373915433883667, 7.469500541687012, 3.052900791168213, -1.7408742904663086, 5.734420299530029, -2.6145458221435547, -0.39903780817985535, 2.0118179321289062, -9.927290916442871, 1.5732792615890503, 11.204914093017578, 3.3669967651367188, 14.801314353942871, 11.296063423156738, 1.3012045621871948, -6.58447265625, 2.9000256061553955, 8.027955055236816, -4.654698371887207, -8.046100616455078, -7.411552429199219, -6.835416316986084, 13.816473007202148, -6.038863658905029, -8.454536437988281, -11.381896018981934, 7.734832763671875, 7.7351179122924805, -8.873344421386719, -1.545961856842041, -7.603403091430664, 4.1742472648620605, 16.027273178100586, -12.106390953063965, 6.91147518157959, -3.190847396850586, -9.17813777923584, -4.872245788574219, 6.087884902954102, 12.79201889038086, 12.33362865447998, 11.846542358398438, 0.5424981713294983, 0.6000052690505981, -12.263904571533203, -0.07792086154222488, -10.746759414672852, -1.5234706401824951, 0.7478063106536865, 5.7257981300354, -13.8412446975708, 10.890413284301758, 8.4501314163208, -9.850159645080566, -7.00218391418457, 11.930005073547363, -9.887430191040039, 4.5796589851379395, -8.180134773254395, 1.9768174886703491, -6.149362564086914, -4.702681064605713, 5.604841232299805, -3.2537033557891846, 4.796211242675781, -6.567939281463623, 1.8053666353225708, 13.562472343444824, -3.7495105266571045, -3.276282548904419, 9.634062767028809, 7.844204425811768, -5.132957935333252, 1.7414779663085938, -9.401352882385254, 6.015256404876709, 0.5516947507858276, -8.241080284118652, -12.664726257324219, 12.513126373291016, -12.493990898132324, -11.372406005859375, 8.8522310256958, 1.1921786069869995, -0.14115221798419952, -3.751282215118408, -7.013550758361816, -3.9769058227539062, 5.401645183563232, 3.3857526779174805, -2.8359274864196777, -9.75059700012207, 0.23313353955745697, 3.6889145374298096, 8.753560066223145, 7.784111976623535, -9.593978881835938, 6.584932804107666, -11.235557556152344, 3.214634656906128, -0.4691008925437927, -16.64871597290039, 16.5039005279541, -7.571475028991699, -5.865910530090332, -1.050703525543213, -1.5533236265182495, -4.453079700469971, -15.87774658203125, 9.150798797607422, -1.721070647239685, 0.6416627168655396, 1.0460245609283447, 8.40597152709961, -9.046470642089844, -0.8848751187324524, -12.348869323730469, -2.7744057178497314, -5.956403732299805, 9.45986557006836, 1.8763798475265503, -7.991994380950928, -2.498255968093872, 7.673468112945557, 15.918543815612793, -8.775445938110352, 13.575900077819824, 13.069823265075684, 11.65785026550293, 1.1345758438110352, -8.812800407409668, -16.492464065551758, 6.57062292098999, 5.332371711730957, 1.516641616821289, -9.632747650146484, -6.16921329498291, -0.8334952592849731, 10.89259147644043, -11.65157699584961, -0.5530943870544434, 3.673961877822876, 16.454648971557617, 5.81795072555542, -9.878005027770996, 11.776876449584961, 10.974006652832031, -10.467101097106934, 13.482540130615234, 9.891097068786621, -5.216610431671143, -11.8609037399292, -8.691693305969238, -7.510110855102539, 10.415773391723633, -3.583139181137085, 6.596813678741455, -9.04450798034668, 11.413934707641602, -6.1467485427856445, 10.79004955291748, -12.213850975036621, -5.425451755523682, -15.118464469909668, 13.040943145751953, -8.255807876586914, 12.220723152160645, -4.680328369140625, 2.9572994709014893, -1.48788321018219, -12.123703002929688, -1.6926512718200684, -12.953255653381348, 5.708804607391357, -7.115673065185547, -2.009674310684204, -9.327953338623047, -6.51755952835083, -13.003283500671387, -4.081905364990234, 3.765444278717041, -7.954968452453613, 0.18349860608577728, -16.361196517944336]}],                        {\"coloraxis\": {\"colorbar\": {\"title\": {\"text\": \"Label\"}}, \"colorscale\": [[0.0, \"#0d0887\"], [0.1111111111111111, \"#46039f\"], [0.2222222222222222, \"#7201a8\"], [0.3333333333333333, \"#9c179e\"], [0.4444444444444444, \"#bd3786\"], [0.5555555555555556, \"#d8576b\"], [0.6666666666666666, \"#ed7953\"], [0.7777777777777778, \"#fb9f3a\"], [0.8888888888888888, \"#fdca26\"], [1.0, \"#f0f921\"]]}, \"height\": 800, \"legend\": {\"tracegroupgap\": 0}, \"scene\": {\"domain\": {\"x\": [0.0, 1.0], \"y\": [0.0, 1.0]}, \"xaxis\": {\"title\": {\"text\": \"0\"}}, \"yaxis\": {\"title\": {\"text\": \"1\"}}, \"zaxis\": {\"title\": {\"text\": \"2\"}}}, \"template\": {\"data\": {\"bar\": [{\"error_x\": {\"color\": \"#2a3f5f\"}, \"error_y\": {\"color\": \"#2a3f5f\"}, \"marker\": {\"line\": {\"color\": \"#E5ECF6\", \"width\": 0.5}}, \"type\": \"bar\"}], \"barpolar\": [{\"marker\": {\"line\": {\"color\": \"#E5ECF6\", \"width\": 0.5}}, \"type\": \"barpolar\"}], \"carpet\": [{\"aaxis\": {\"endlinecolor\": \"#2a3f5f\", \"gridcolor\": \"white\", \"linecolor\": \"white\", \"minorgridcolor\": \"white\", \"startlinecolor\": \"#2a3f5f\"}, \"baxis\": {\"endlinecolor\": \"#2a3f5f\", \"gridcolor\": \"white\", \"linecolor\": \"white\", \"minorgridcolor\": \"white\", \"startlinecolor\": \"#2a3f5f\"}, \"type\": \"carpet\"}], \"choropleth\": [{\"colorbar\": {\"outlinewidth\": 0, \"ticks\": \"\"}, \"type\": \"choropleth\"}], \"contour\": [{\"colorbar\": {\"outlinewidth\": 0, \"ticks\": \"\"}, \"colorscale\": [[0.0, \"#0d0887\"], [0.1111111111111111, \"#46039f\"], [0.2222222222222222, \"#7201a8\"], [0.3333333333333333, \"#9c179e\"], [0.4444444444444444, \"#bd3786\"], [0.5555555555555556, \"#d8576b\"], [0.6666666666666666, \"#ed7953\"], [0.7777777777777778, \"#fb9f3a\"], [0.8888888888888888, \"#fdca26\"], [1.0, \"#f0f921\"]], \"type\": \"contour\"}], \"contourcarpet\": [{\"colorbar\": {\"outlinewidth\": 0, \"ticks\": \"\"}, \"type\": \"contourcarpet\"}], \"heatmap\": [{\"colorbar\": {\"outlinewidth\": 0, \"ticks\": \"\"}, \"colorscale\": [[0.0, \"#0d0887\"], [0.1111111111111111, \"#46039f\"], [0.2222222222222222, \"#7201a8\"], [0.3333333333333333, \"#9c179e\"], [0.4444444444444444, \"#bd3786\"], [0.5555555555555556, \"#d8576b\"], [0.6666666666666666, \"#ed7953\"], [0.7777777777777778, \"#fb9f3a\"], [0.8888888888888888, \"#fdca26\"], [1.0, \"#f0f921\"]], \"type\": \"heatmap\"}], \"heatmapgl\": [{\"colorbar\": {\"outlinewidth\": 0, \"ticks\": \"\"}, \"colorscale\": [[0.0, \"#0d0887\"], [0.1111111111111111, \"#46039f\"], [0.2222222222222222, \"#7201a8\"], [0.3333333333333333, \"#9c179e\"], [0.4444444444444444, \"#bd3786\"], [0.5555555555555556, \"#d8576b\"], [0.6666666666666666, \"#ed7953\"], [0.7777777777777778, \"#fb9f3a\"], [0.8888888888888888, \"#fdca26\"], [1.0, \"#f0f921\"]], \"type\": \"heatmapgl\"}], \"histogram\": [{\"marker\": {\"colorbar\": {\"outlinewidth\": 0, \"ticks\": \"\"}}, \"type\": \"histogram\"}], \"histogram2d\": [{\"colorbar\": {\"outlinewidth\": 0, \"ticks\": \"\"}, \"colorscale\": [[0.0, \"#0d0887\"], [0.1111111111111111, \"#46039f\"], [0.2222222222222222, \"#7201a8\"], [0.3333333333333333, \"#9c179e\"], [0.4444444444444444, \"#bd3786\"], [0.5555555555555556, \"#d8576b\"], [0.6666666666666666, \"#ed7953\"], [0.7777777777777778, \"#fb9f3a\"], [0.8888888888888888, \"#fdca26\"], [1.0, \"#f0f921\"]], \"type\": \"histogram2d\"}], \"histogram2dcontour\": [{\"colorbar\": {\"outlinewidth\": 0, \"ticks\": \"\"}, \"colorscale\": [[0.0, \"#0d0887\"], [0.1111111111111111, \"#46039f\"], [0.2222222222222222, \"#7201a8\"], [0.3333333333333333, \"#9c179e\"], [0.4444444444444444, \"#bd3786\"], [0.5555555555555556, \"#d8576b\"], [0.6666666666666666, \"#ed7953\"], [0.7777777777777778, \"#fb9f3a\"], [0.8888888888888888, \"#fdca26\"], [1.0, \"#f0f921\"]], \"type\": \"histogram2dcontour\"}], \"mesh3d\": [{\"colorbar\": {\"outlinewidth\": 0, \"ticks\": \"\"}, \"type\": \"mesh3d\"}], \"parcoords\": [{\"line\": {\"colorbar\": {\"outlinewidth\": 0, \"ticks\": \"\"}}, \"type\": \"parcoords\"}], \"pie\": [{\"automargin\": true, \"type\": \"pie\"}], \"scatter\": [{\"marker\": {\"colorbar\": {\"outlinewidth\": 0, \"ticks\": \"\"}}, \"type\": \"scatter\"}], \"scatter3d\": [{\"line\": {\"colorbar\": {\"outlinewidth\": 0, \"ticks\": \"\"}}, \"marker\": {\"colorbar\": {\"outlinewidth\": 0, \"ticks\": \"\"}}, \"type\": \"scatter3d\"}], \"scattercarpet\": [{\"marker\": {\"colorbar\": {\"outlinewidth\": 0, \"ticks\": \"\"}}, \"type\": \"scattercarpet\"}], \"scattergeo\": [{\"marker\": {\"colorbar\": {\"outlinewidth\": 0, \"ticks\": \"\"}}, \"type\": \"scattergeo\"}], \"scattergl\": [{\"marker\": {\"colorbar\": {\"outlinewidth\": 0, \"ticks\": \"\"}}, \"type\": \"scattergl\"}], \"scattermapbox\": [{\"marker\": {\"colorbar\": {\"outlinewidth\": 0, \"ticks\": \"\"}}, \"type\": \"scattermapbox\"}], \"scatterpolar\": [{\"marker\": {\"colorbar\": {\"outlinewidth\": 0, \"ticks\": \"\"}}, \"type\": \"scatterpolar\"}], \"scatterpolargl\": [{\"marker\": {\"colorbar\": {\"outlinewidth\": 0, \"ticks\": \"\"}}, \"type\": \"scatterpolargl\"}], \"scatterternary\": [{\"marker\": {\"colorbar\": {\"outlinewidth\": 0, \"ticks\": \"\"}}, \"type\": \"scatterternary\"}], \"surface\": [{\"colorbar\": {\"outlinewidth\": 0, \"ticks\": \"\"}, \"colorscale\": [[0.0, \"#0d0887\"], [0.1111111111111111, \"#46039f\"], [0.2222222222222222, \"#7201a8\"], [0.3333333333333333, \"#9c179e\"], [0.4444444444444444, \"#bd3786\"], [0.5555555555555556, \"#d8576b\"], [0.6666666666666666, \"#ed7953\"], [0.7777777777777778, \"#fb9f3a\"], [0.8888888888888888, \"#fdca26\"], [1.0, \"#f0f921\"]], \"type\": \"surface\"}], \"table\": [{\"cells\": {\"fill\": {\"color\": \"#EBF0F8\"}, \"line\": {\"color\": \"white\"}}, \"header\": {\"fill\": {\"color\": \"#C8D4E3\"}, \"line\": {\"color\": \"white\"}}, \"type\": \"table\"}]}, \"layout\": {\"annotationdefaults\": {\"arrowcolor\": \"#2a3f5f\", \"arrowhead\": 0, \"arrowwidth\": 1}, \"coloraxis\": {\"colorbar\": {\"outlinewidth\": 0, \"ticks\": \"\"}}, \"colorscale\": {\"diverging\": [[0, \"#8e0152\"], [0.1, \"#c51b7d\"], [0.2, \"#de77ae\"], [0.3, \"#f1b6da\"], [0.4, \"#fde0ef\"], [0.5, \"#f7f7f7\"], [0.6, \"#e6f5d0\"], [0.7, \"#b8e186\"], [0.8, \"#7fbc41\"], [0.9, \"#4d9221\"], [1, \"#276419\"]], \"sequential\": [[0.0, \"#0d0887\"], [0.1111111111111111, \"#46039f\"], [0.2222222222222222, \"#7201a8\"], [0.3333333333333333, \"#9c179e\"], [0.4444444444444444, \"#bd3786\"], [0.5555555555555556, \"#d8576b\"], [0.6666666666666666, \"#ed7953\"], [0.7777777777777778, \"#fb9f3a\"], [0.8888888888888888, \"#fdca26\"], [1.0, \"#f0f921\"]], \"sequentialminus\": [[0.0, \"#0d0887\"], [0.1111111111111111, \"#46039f\"], [0.2222222222222222, \"#7201a8\"], [0.3333333333333333, \"#9c179e\"], [0.4444444444444444, \"#bd3786\"], [0.5555555555555556, \"#d8576b\"], [0.6666666666666666, \"#ed7953\"], [0.7777777777777778, \"#fb9f3a\"], [0.8888888888888888, \"#fdca26\"], [1.0, \"#f0f921\"]]}, \"colorway\": [\"#636efa\", \"#EF553B\", \"#00cc96\", \"#ab63fa\", \"#FFA15A\", \"#19d3f3\", \"#FF6692\", \"#B6E880\", \"#FF97FF\", \"#FECB52\"], \"font\": {\"color\": \"#2a3f5f\"}, \"geo\": {\"bgcolor\": \"white\", \"lakecolor\": \"white\", \"landcolor\": \"#E5ECF6\", \"showlakes\": true, \"showland\": true, \"subunitcolor\": \"white\"}, \"hoverlabel\": {\"align\": \"left\"}, \"hovermode\": \"closest\", \"mapbox\": {\"style\": \"light\"}, \"paper_bgcolor\": \"white\", \"plot_bgcolor\": \"#E5ECF6\", \"polar\": {\"angularaxis\": {\"gridcolor\": \"white\", \"linecolor\": \"white\", \"ticks\": \"\"}, \"bgcolor\": \"#E5ECF6\", \"radialaxis\": {\"gridcolor\": \"white\", \"linecolor\": \"white\", \"ticks\": \"\"}}, \"scene\": {\"xaxis\": {\"backgroundcolor\": \"#E5ECF6\", \"gridcolor\": \"white\", \"gridwidth\": 2, \"linecolor\": \"white\", \"showbackground\": true, \"ticks\": \"\", \"zerolinecolor\": \"white\"}, \"yaxis\": {\"backgroundcolor\": \"#E5ECF6\", \"gridcolor\": \"white\", \"gridwidth\": 2, \"linecolor\": \"white\", \"showbackground\": true, \"ticks\": \"\", \"zerolinecolor\": \"white\"}, \"zaxis\": {\"backgroundcolor\": \"#E5ECF6\", \"gridcolor\": \"white\", \"gridwidth\": 2, \"linecolor\": \"white\", \"showbackground\": true, \"ticks\": \"\", \"zerolinecolor\": \"white\"}}, \"shapedefaults\": {\"line\": {\"color\": \"#2a3f5f\"}}, \"ternary\": {\"aaxis\": {\"gridcolor\": \"white\", \"linecolor\": \"white\", \"ticks\": \"\"}, \"baxis\": {\"gridcolor\": \"white\", \"linecolor\": \"white\", \"ticks\": \"\"}, \"bgcolor\": \"#E5ECF6\", \"caxis\": {\"gridcolor\": \"white\", \"linecolor\": \"white\", \"ticks\": \"\"}}, \"title\": {\"x\": 0.05}, \"xaxis\": {\"automargin\": true, \"gridcolor\": \"white\", \"linecolor\": \"white\", \"ticks\": \"\", \"title\": {\"standoff\": 15}, \"zerolinecolor\": \"white\", \"zerolinewidth\": 2}, \"yaxis\": {\"automargin\": true, \"gridcolor\": \"white\", \"linecolor\": \"white\", \"ticks\": \"\", \"title\": {\"standoff\": 15}, \"zerolinecolor\": \"white\", \"zerolinewidth\": 2}}}, \"title\": {\"text\": \"3d TSNE Plot for Outliers\"}, \"width\": 900},                        {\"responsive\": true}                    ).then(function(){\n",
       "                            \n",
       "var gd = document.getElementById('28ff2158-47e5-483c-9f06-eaf6f82f5d1e');\n",
       "var x = new MutationObserver(function (mutations, observer) {{\n",
       "        var display = window.getComputedStyle(gd).display;\n",
       "        if (!display || display === 'none') {{\n",
       "            console.log([gd, 'removed!']);\n",
       "            Plotly.purge(gd);\n",
       "            observer.disconnect();\n",
       "        }}\n",
       "}});\n",
       "\n",
       "// Listen for the removal of the full notebook cells\n",
       "var notebookContainer = gd.closest('#notebook-container');\n",
       "if (notebookContainer) {{\n",
       "    x.observe(notebookContainer, {childList: true});\n",
       "}}\n",
       "\n",
       "// Listen for the clearing of the current output cell\n",
       "var outputEl = gd.closest('.output');\n",
       "if (outputEl) {{\n",
       "    x.observe(outputEl, {childList: true});\n",
       "}}\n",
       "\n",
       "                        })                };                });            </script>        </div>"
      ]
     },
     "metadata": {},
     "output_type": "display_data"
    }
   ],
   "source": [
    "plot_model(iforest)"
   ]
  },
  {
   "cell_type": "code",
   "execution_count": null,
   "metadata": {},
   "outputs": [],
   "source": []
  }
 ],
 "metadata": {
  "kernelspec": {
   "display_name": "Python 3",
   "language": "python",
   "name": "python3"
  },
  "language_info": {
   "codemirror_mode": {
    "name": "ipython",
    "version": 3
   },
   "file_extension": ".py",
   "mimetype": "text/x-python",
   "name": "python",
   "nbconvert_exporter": "python",
   "pygments_lexer": "ipython3",
   "version": "3.7.6"
  }
 },
 "nbformat": 4,
 "nbformat_minor": 4
}
